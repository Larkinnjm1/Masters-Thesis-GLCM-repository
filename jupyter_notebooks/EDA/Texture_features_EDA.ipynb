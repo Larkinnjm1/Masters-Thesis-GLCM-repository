{
 "cells": [
  {
   "cell_type": "markdown",
   "metadata": {
    "toc": true
   },
   "source": [
    "<h1>Table of Contents<span class=\"tocSkip\"></span></h1>\n",
    "<div class=\"toc\"><ul class=\"toc-item\"><li><ul class=\"toc-item\"><li><span><a href=\"#Aggregating-data-for-GCLM-statistics-results\" data-toc-modified-id=\"Aggregating-data-for-GCLM-statistics-results-0.1\"><span class=\"toc-item-num\">0.1&nbsp;&nbsp;</span>Aggregating data for GCLM statistics results</a></span></li><li><span><a href=\"#Visualisation-between-differnet-organ-types-and-intensities\" data-toc-modified-id=\"Visualisation-between-differnet-organ-types-and-intensities-0.2\"><span class=\"toc-item-num\">0.2&nbsp;&nbsp;</span>Visualisation between differnet organ types and intensities</a></span><ul class=\"toc-item\"><li><span><a href=\"#Window-size-5-offset-1.\" data-toc-modified-id=\"Window-size-5-offset-1.-0.2.1\"><span class=\"toc-item-num\">0.2.1&nbsp;&nbsp;</span>Window size 5 offset 1.</a></span></li></ul></li><li><span><a href=\"#Visualisation-between-differnet-organ-types-and-intensities\" data-toc-modified-id=\"Visualisation-between-differnet-organ-types-and-intensities-0.3\"><span class=\"toc-item-num\">0.3&nbsp;&nbsp;</span>Visualisation between differnet organ types and intensities</a></span><ul class=\"toc-item\"><li><span><a href=\"#Window-size-5-offset-0.\" data-toc-modified-id=\"Window-size-5-offset-0.-0.3.1\"><span class=\"toc-item-num\">0.3.1&nbsp;&nbsp;</span>Window size 5 offset 0.</a></span></li></ul></li><li><span><a href=\"#Visualisation-between-differnet-organ-types-and-intensities\" data-toc-modified-id=\"Visualisation-between-differnet-organ-types-and-intensities-0.4\"><span class=\"toc-item-num\">0.4&nbsp;&nbsp;</span>Visualisation between differnet organ types and intensities</a></span><ul class=\"toc-item\"><li><span><a href=\"#Window-size-3-offset-0\" data-toc-modified-id=\"Window-size-3-offset-0-0.4.1\"><span class=\"toc-item-num\">0.4.1&nbsp;&nbsp;</span>Window size 3 offset 0</a></span></li><li><span><a href=\"#Window-size-3-offset-1.\" data-toc-modified-id=\"Window-size-3-offset-1.-0.4.2\"><span class=\"toc-item-num\">0.4.2&nbsp;&nbsp;</span>Window size 3 offset 1.</a></span></li></ul></li></ul></li><li><span><a href=\"#Heatmaps-and-correlations-between-textures\" data-toc-modified-id=\"Heatmaps-and-correlations-between-textures-1\"><span class=\"toc-item-num\">1&nbsp;&nbsp;</span>Heatmaps and correlations between textures</a></span><ul class=\"toc-item\"><li><span><a href=\"#Functions-to-aggregate-data\" data-toc-modified-id=\"Functions-to-aggregate-data-1.1\"><span class=\"toc-item-num\">1.1&nbsp;&nbsp;</span>Functions to aggregate data</a></span></li><li><span><a href=\"#Aggregating-data-for-analysis\" data-toc-modified-id=\"Aggregating-data-for-analysis-1.2\"><span class=\"toc-item-num\">1.2&nbsp;&nbsp;</span>Aggregating data for analysis</a></span></li><li><span><a href=\"#Perform-Bhattcharrya-analysis-on-histograms-for-analysis\" data-toc-modified-id=\"Perform-Bhattcharrya-analysis-on-histograms-for-analysis-1.3\"><span class=\"toc-item-num\">1.3&nbsp;&nbsp;</span>Perform Bhattcharrya analysis on histograms for analysis</a></span></li><li><span><a href=\"#Aggregate-df-information-from-analysis\" data-toc-modified-id=\"Aggregate-df-information-from-analysis-1.4\"><span class=\"toc-item-num\">1.4&nbsp;&nbsp;</span>Aggregate df information from analysis</a></span></li><li><span><a href=\"#Count-of-aggregate-dataframe\" data-toc-modified-id=\"Count-of-aggregate-dataframe-1.5\"><span class=\"toc-item-num\">1.5&nbsp;&nbsp;</span>Count of aggregate dataframe</a></span></li><li><span><a href=\"#Counting-non-zero-values\" data-toc-modified-id=\"Counting-non-zero-values-1.6\"><span class=\"toc-item-num\">1.6&nbsp;&nbsp;</span>Counting non zero values</a></span></li><li><span><a href=\"#Visual-analysis-of-Bhattacharya-distance-between-texture-types-as-a-function-of-image-type.\" data-toc-modified-id=\"Visual-analysis-of-Bhattacharya-distance-between-texture-types-as-a-function-of-image-type.-1.7\"><span class=\"toc-item-num\">1.7&nbsp;&nbsp;</span>Visual analysis of Bhattacharya distance between texture types as a function of image type.</a></span></li><li><span><a href=\"#Sub-set-heatmap-generation:\" data-toc-modified-id=\"Sub-set-heatmap-generation:-1.8\"><span class=\"toc-item-num\">1.8&nbsp;&nbsp;</span>Sub set heatmap generation:</a></span><ul class=\"toc-item\"><li><span><a href=\"#Functions\" data-toc-modified-id=\"Functions-1.8.1\"><span class=\"toc-item-num\">1.8.1&nbsp;&nbsp;</span>Functions</a></span></li></ul></li></ul></li></ul></div>"
   ]
  },
  {
   "cell_type": "code",
   "execution_count": 1,
   "metadata": {},
   "outputs": [],
   "source": [
    "import os \n",
    "import numpy as np\n",
    "import pandas as pd\n",
    "import re\n",
    "import math\n",
    "import matplotlib.pyplot as plt\n",
    "import re\n",
    "import pickle\n",
    "from itertools import combinations\n",
    "import seaborn as sns\n",
    "import random\n",
    "import math"
   ]
  },
  {
   "cell_type": "code",
   "execution_count": 2,
   "metadata": {},
   "outputs": [],
   "source": [
    "os.chdir(r'C:\\Users\\niall\\OneDrive\\Documents\\Data science masters\\Thesis\\Results\\Texture Results\\GCLM data run2')\n",
    "file_list=os.listdir()"
   ]
  },
  {
   "cell_type": "code",
   "execution_count": 2,
   "metadata": {},
   "outputs": [],
   "source": [
    "def get_file_info(tmp_nme):\n",
    "    \"\"\"the pull file names. \"\"\"\n",
    "    window_size=(tmp_nme[tmp_nme.find('_OFS_')-1:tmp_nme.find('_OFS_')])\n",
    "    OFS_size=(tmp_nme[tmp_nme.find('_ang_')-1:tmp_nme.find('_ang_')])\n",
    "    return [window_size,OFS_size]"
   ]
  },
  {
   "cell_type": "code",
   "execution_count": 3,
   "metadata": {},
   "outputs": [],
   "source": [
    "def df_hist_gen(df,row,column,categories,fileinfo):\n",
    "    \"\"\"The purpose of this method is to generate an agglomerate histogram \"\"\"\n",
    "    df.reset_index(inplace=True,drop=True)\n",
    "    for vals in categories:\n",
    "        if (vals!=0): #and (vals!=63)\n",
    "            df.reset_index(inplace=True,drop=True)\n",
    "            plt.hist(df.loc[df[row]==vals,column],bins=20)\n",
    "    plt.legend(categories[1:])\n",
    "    file_name=column+fileinfo\n",
    "    plt.savefig(file_name)\n",
    "    plt.show()\n"
   ]
  },
  {
   "cell_type": "markdown",
   "metadata": {
    "heading_collapsed": true
   },
   "source": [
    "## Aggregating data for GCLM statistics results"
   ]
  },
  {
   "cell_type": "code",
   "execution_count": 7,
   "metadata": {
    "hidden": true
   },
   "outputs": [],
   "source": [
    "agg_arr=None\n",
    "\n",
    "for file in file_list:\n",
    "    \n",
    "    file_name_info=get_file_info(file)\n",
    "    tmp_arr=np.load(file)\n",
    "    file_name_info=np.repeat(file_name_info,tmp_arr.shape[0])\n",
    "    \n",
    "    indx1=file_name_info[:int(file_name_info.shape[0]/2)]\n",
    "    indx2=file_name_info[int(file_name_info.shape[0]/2):]\n",
    "    trl=np.stack((indx1,indx2)).T\n",
    "    tmp_arr=np.concatenate((tmp_arr,trl),axis=1)\n",
    "    if agg_arr is None:\n",
    "        agg_arr=tmp_arr\n",
    "    else:\n",
    "        agg_arr=np.concatenate((agg_arr,tmp_arr),axis=0)\n",
    "        "
   ]
  },
  {
   "cell_type": "code",
   "execution_count": 9,
   "metadata": {
    "hidden": true
   },
   "outputs": [],
   "source": [
    "df_vals=pd.DataFrame(agg_arr,columns=[\"contrast\",'dissimilarity','homogeneity','energy','correlation','ASM','organ','window_size','OFS'])\n",
    "df_vals.to_excel('texture_data_run1.xlsx')"
   ]
  },
  {
   "cell_type": "code",
   "execution_count": 5,
   "metadata": {
    "hidden": true
   },
   "outputs": [],
   "source": [
    "df_vals=pd.read_excel('texture_data_run1.xlsx')"
   ]
  },
  {
   "cell_type": "code",
   "execution_count": 12,
   "metadata": {
    "hidden": true
   },
   "outputs": [
    {
     "data": {
      "text/plain": [
       "array([3, 5], dtype=int64)"
      ]
     },
     "execution_count": 12,
     "metadata": {},
     "output_type": "execute_result"
    }
   ],
   "source": [
    "df_vals['window_size'].unique()\n"
   ]
  },
  {
   "cell_type": "code",
   "execution_count": 20,
   "metadata": {
    "hidden": true,
    "scrolled": true
   },
   "outputs": [],
   "source": [
    "df_val_win_3_OFS_0=df_vals[(df_vals['window_size']==3)&(df_vals['OFS']==0)]\n",
    "df_val_win_5_OFS_0=df_vals[(df_vals['window_size']==5)&(df_vals['OFS']==0)]\n",
    "df_val_win_3_OFS_1=df_vals[(df_vals['window_size']==3)&(df_vals['OFS']==1)]\n",
    "df_val_win_5_OFS_1=df_vals[(df_vals['window_size']==3)&(df_vals['OFS']==1)]#.reset_index(inplace=True)\n"
   ]
  },
  {
   "cell_type": "markdown",
   "metadata": {
    "heading_collapsed": true
   },
   "source": [
    "## Visualisation between differnet organ types and intensities\n",
    "### Window size 5 offset 1."
   ]
  },
  {
   "cell_type": "code",
   "execution_count": 53,
   "metadata": {
    "hidden": true
   },
   "outputs": [
    {
     "data": {
      "image/png": "[encoded data removed]",
      "text/plain": [
       "<Figure size 432x288 with 1 Axes>"
      ]
     },
     "metadata": {
      "needs_background": "light"
     },
     "output_type": "display_data"
    }
   ],
   "source": [
    "df_hist_gen(df_val_win_5_OFS_1,'organ','contrast',df_val_win_5_OFS_1['organ'].unique(),'win5ofs1.jpeg')\n"
   ]
  },
  {
   "cell_type": "code",
   "execution_count": 54,
   "metadata": {
    "hidden": true
   },
   "outputs": [
    {
     "data": {
      "image/png": "[encoded data removed]",
      "text/plain": [
       "<Figure size 432x288 with 1 Axes>"
      ]
     },
     "metadata": {
      "needs_background": "light"
     },
     "output_type": "display_data"
    }
   ],
   "source": [
    "df_hist_gen(df_val_win_5_OFS_1,'organ','dissimilarity',df_val_win_5_OFS_1['organ'].unique(),'win5ofs1.jpeg') #,'homogeneity','energy','correlation','ASM','organ'"
   ]
  },
  {
   "cell_type": "code",
   "execution_count": 55,
   "metadata": {
    "hidden": true
   },
   "outputs": [
    {
     "data": {
      "image/png": "[encoded data removed]",
      "text/plain": [
       "<Figure size 432x288 with 1 Axes>"
      ]
     },
     "metadata": {
      "needs_background": "light"
     },
     "output_type": "display_data"
    }
   ],
   "source": [
    "df_hist_gen(df_val_win_5_OFS_1,'organ','homogeneity',df_val_win_5_OFS_1['organ'].unique(),'win5ofs1.jpeg') #,,'energy',\n"
   ]
  },
  {
   "cell_type": "code",
   "execution_count": 56,
   "metadata": {
    "hidden": true
   },
   "outputs": [
    {
     "data": {
      "image/png": "[encoded data removed]",
      "text/plain": [
       "<Figure size 432x288 with 1 Axes>"
      ]
     },
     "metadata": {
      "needs_background": "light"
     },
     "output_type": "display_data"
    }
   ],
   "source": [
    "df_hist_gen(df_val_win_5_OFS_1,'organ','energy',df_val_win_5_OFS_1['organ'].unique(),'win5ofs1.jpeg')"
   ]
  },
  {
   "cell_type": "code",
   "execution_count": 57,
   "metadata": {
    "hidden": true
   },
   "outputs": [
    {
     "data": {
      "image/png": "[encoded data removed]",
      "text/plain": [
       "<Figure size 432x288 with 1 Axes>"
      ]
     },
     "metadata": {
      "needs_background": "light"
     },
     "output_type": "display_data"
    }
   ],
   "source": [
    "df_hist_gen(df_val_win_5_OFS_1,'organ','correlation',df_val_win_5_OFS_1['organ'].unique(),'win5ofs1.jpeg')#,'ASM','organ'"
   ]
  },
  {
   "cell_type": "code",
   "execution_count": 58,
   "metadata": {
    "hidden": true,
    "scrolled": true
   },
   "outputs": [
    {
     "data": {
      "image/png": "[encoded data removed]",
      "text/plain": [
       "<Figure size 432x288 with 1 Axes>"
      ]
     },
     "metadata": {
      "needs_background": "light"
     },
     "output_type": "display_data"
    }
   ],
   "source": [
    "df_hist_gen(df_val_win_5_OFS_1,'organ','ASM',df_val_win_5_OFS_1['organ'].unique(),'win5ofs1.jpeg')#,'ASM','organ'"
   ]
  },
  {
   "cell_type": "code",
   "execution_count": null,
   "metadata": {
    "hidden": true
   },
   "outputs": [],
   "source": []
  },
  {
   "cell_type": "code",
   "execution_count": null,
   "metadata": {
    "hidden": true
   },
   "outputs": [],
   "source": []
  },
  {
   "cell_type": "markdown",
   "metadata": {
    "heading_collapsed": true
   },
   "source": [
    "## Visualisation between differnet organ types and intensities\n",
    "### Window size 5 offset 0."
   ]
  },
  {
   "cell_type": "code",
   "execution_count": 59,
   "metadata": {
    "hidden": true
   },
   "outputs": [
    {
     "data": {
      "image/png": "[encoded data removed]",
      "text/plain": [
       "<Figure size 432x288 with 1 Axes>"
      ]
     },
     "metadata": {
      "needs_background": "light"
     },
     "output_type": "display_data"
    }
   ],
   "source": [
    "df_hist_gen(df_val_win_5_OFS_0,'organ','contrast',df_val_win_5_OFS_0['organ'].unique(),'win5ofs0.jpeg')\n"
   ]
  },
  {
   "cell_type": "code",
   "execution_count": 60,
   "metadata": {
    "hidden": true
   },
   "outputs": [
    {
     "data": {
      "image/png": "[encoded data removed]",
      "text/plain": [
       "<Figure size 432x288 with 1 Axes>"
      ]
     },
     "metadata": {
      "needs_background": "light"
     },
     "output_type": "display_data"
    }
   ],
   "source": [
    "df_hist_gen(df_val_win_5_OFS_1,'organ','dissimilarity',df_val_win_5_OFS_1['organ'].unique(),'win5ofs0.jpeg') #,'homogeneity','energy','correlation','ASM','organ'"
   ]
  },
  {
   "cell_type": "code",
   "execution_count": 61,
   "metadata": {
    "hidden": true
   },
   "outputs": [
    {
     "data": {
      "image/png": "[encoded data removed]",
      "text/plain": [
       "<Figure size 432x288 with 1 Axes>"
      ]
     },
     "metadata": {
      "needs_background": "light"
     },
     "output_type": "display_data"
    }
   ],
   "source": [
    "df_hist_gen(df_val_win_5_OFS_0,'organ','homogeneity',df_val_win_5_OFS_1['organ'].unique(),'win5ofs0.jpeg') #,,'energy',"
   ]
  },
  {
   "cell_type": "code",
   "execution_count": 62,
   "metadata": {
    "hidden": true
   },
   "outputs": [
    {
     "data": {
      "image/png": "[encoded data removed]",
      "text/plain": [
       "<Figure size 432x288 with 1 Axes>"
      ]
     },
     "metadata": {
      "needs_background": "light"
     },
     "output_type": "display_data"
    }
   ],
   "source": [
    "df_hist_gen(df_val_win_5_OFS_0,'organ','energy',df_val_win_5_OFS_1['organ'].unique(),'win5ofs0.jpeg')"
   ]
  },
  {
   "cell_type": "code",
   "execution_count": 63,
   "metadata": {
    "hidden": true
   },
   "outputs": [
    {
     "data": {
      "image/png": "[encoded data removed]",
      "text/plain": [
       "<Figure size 432x288 with 1 Axes>"
      ]
     },
     "metadata": {
      "needs_background": "light"
     },
     "output_type": "display_data"
    }
   ],
   "source": [
    "df_hist_gen(df_val_win_5_OFS_0,'organ','correlation',df_val_win_5_OFS_1['organ'].unique(),'win5ofs0.jpeg')#,'ASM','organ'"
   ]
  },
  {
   "cell_type": "code",
   "execution_count": 64,
   "metadata": {
    "hidden": true,
    "scrolled": true
   },
   "outputs": [
    {
     "data": {
      "image/png": "[encoded data removed]",
      "text/plain": [
       "<Figure size 432x288 with 1 Axes>"
      ]
     },
     "metadata": {
      "needs_background": "light"
     },
     "output_type": "display_data"
    }
   ],
   "source": [
    "df_hist_gen(df_val_win_5_OFS_0,'organ','ASM',df_val_win_5_OFS_1['organ'].unique(),'win5ofs0.jpeg')#,'ASM','organ'"
   ]
  },
  {
   "cell_type": "code",
   "execution_count": null,
   "metadata": {
    "hidden": true
   },
   "outputs": [],
   "source": []
  },
  {
   "cell_type": "code",
   "execution_count": null,
   "metadata": {
    "hidden": true
   },
   "outputs": [],
   "source": []
  },
  {
   "cell_type": "markdown",
   "metadata": {
    "heading_collapsed": true
   },
   "source": [
    "## Visualisation between differnet organ types and intensities\n",
    "### Window size 3 offset 0\n",
    "."
   ]
  },
  {
   "cell_type": "code",
   "execution_count": null,
   "metadata": {
    "hidden": true
   },
   "outputs": [],
   "source": []
  },
  {
   "cell_type": "code",
   "execution_count": 74,
   "metadata": {
    "hidden": true,
    "scrolled": true
   },
   "outputs": [
    {
     "data": {
      "image/png": "[encoded data removed]",
      "text/plain": [
       "<Figure size 432x288 with 1 Axes>"
      ]
     },
     "metadata": {
      "needs_background": "light"
     },
     "output_type": "display_data"
    }
   ],
   "source": [
    "df_hist_gen(df_val_win_3_OFS_0,'organ','contrast',df_val_win_3_OFS_0['organ'].unique(),'win3ofs0.jpeg')\n"
   ]
  },
  {
   "cell_type": "code",
   "execution_count": 75,
   "metadata": {
    "hidden": true
   },
   "outputs": [
    {
     "data": {
      "image/png": "[encoded data removed]",
      "text/plain": [
       "<Figure size 432x288 with 1 Axes>"
      ]
     },
     "metadata": {
      "needs_background": "light"
     },
     "output_type": "display_data"
    }
   ],
   "source": [
    "df_hist_gen(df_val_win_3_OFS_0,'organ','dissimilarity',df_val_win_3_OFS_0['organ'].unique(),'win3ofs0.jpeg') #,'homogeneity','energy','correlation','ASM','organ'"
   ]
  },
  {
   "cell_type": "code",
   "execution_count": 76,
   "metadata": {
    "hidden": true
   },
   "outputs": [
    {
     "data": {
      "image/png": "[encoded data removed]",
      "text/plain": [
       "<Figure size 432x288 with 1 Axes>"
      ]
     },
     "metadata": {
      "needs_background": "light"
     },
     "output_type": "display_data"
    }
   ],
   "source": [
    "df_hist_gen(df_val_win_3_OFS_0,'organ','homogeneity',df_val_win_3_OFS_0['organ'].unique(),'win3ofs0.jpeg') #,,'energy',"
   ]
  },
  {
   "cell_type": "code",
   "execution_count": 77,
   "metadata": {
    "hidden": true
   },
   "outputs": [
    {
     "data": {
      "image/png": "[encoded data removed]",
      "text/plain": [
       "<Figure size 432x288 with 1 Axes>"
      ]
     },
     "metadata": {
      "needs_background": "light"
     },
     "output_type": "display_data"
    }
   ],
   "source": [
    "df_hist_gen(df_val_win_3_OFS_0,'organ','energy',df_val_win_3_OFS_0['organ'].unique(),'win3ofs0.jpeg')"
   ]
  },
  {
   "cell_type": "code",
   "execution_count": 78,
   "metadata": {
    "hidden": true
   },
   "outputs": [
    {
     "data": {
      "image/png": "[encoded data removed]",
      "text/plain": [
       "<Figure size 432x288 with 1 Axes>"
      ]
     },
     "metadata": {
      "needs_background": "light"
     },
     "output_type": "display_data"
    }
   ],
   "source": [
    "df_hist_gen(df_val_win_3_OFS_0,'organ','correlation',df_val_win_3_OFS_0['organ'].unique(),'win3ofs0.jpeg')#,'ASM','organ'"
   ]
  },
  {
   "cell_type": "code",
   "execution_count": 79,
   "metadata": {
    "hidden": true,
    "scrolled": true
   },
   "outputs": [
    {
     "data": {
      "image/png": "[encoded data removed]",
      "text/plain": [
       "<Figure size 432x288 with 1 Axes>"
      ]
     },
     "metadata": {
      "needs_background": "light"
     },
     "output_type": "display_data"
    }
   ],
   "source": [
    "df_hist_gen(df_val_win_3_OFS_0,'organ','ASM',df_val_win_3_OFS_0['organ'].unique(),'win3ofs0.jpeg')#,'ASM','organ'"
   ]
  },
  {
   "cell_type": "code",
   "execution_count": null,
   "metadata": {
    "hidden": true
   },
   "outputs": [],
   "source": []
  },
  {
   "cell_type": "code",
   "execution_count": null,
   "metadata": {
    "hidden": true
   },
   "outputs": [],
   "source": []
  },
  {
   "cell_type": "markdown",
   "metadata": {
    "hidden": true
   },
   "source": [
    "### Window size 3 offset 1."
   ]
  },
  {
   "cell_type": "code",
   "execution_count": 80,
   "metadata": {
    "hidden": true,
    "scrolled": true
   },
   "outputs": [
    {
     "data": {
      "image/png": "[encoded data removed]",
      "text/plain": [
       "<Figure size 432x288 with 1 Axes>"
      ]
     },
     "metadata": {
      "needs_background": "light"
     },
     "output_type": "display_data"
    }
   ],
   "source": [
    "df_hist_gen(df_val_win_3_OFS_1,'organ','contrast',df_val_win_3_OFS_1['organ'].unique(),'win3ofs1.jpeg')\n"
   ]
  },
  {
   "cell_type": "code",
   "execution_count": 81,
   "metadata": {
    "hidden": true
   },
   "outputs": [
    {
     "data": {
      "image/png": "[encoded data removed]",
      "text/plain": [
       "<Figure size 432x288 with 1 Axes>"
      ]
     },
     "metadata": {
      "needs_background": "light"
     },
     "output_type": "display_data"
    }
   ],
   "source": [
    "df_hist_gen(df_val_win_3_OFS_1,'organ','dissimilarity',df_val_win_3_OFS_1['organ'].unique(),'win3ofs1.jpeg') #,'homogeneity','energy','correlation','ASM','organ'"
   ]
  },
  {
   "cell_type": "code",
   "execution_count": 82,
   "metadata": {
    "hidden": true
   },
   "outputs": [
    {
     "data": {
      "image/png": "[encoded data removed]",
      "text/plain": [
       "<Figure size 432x288 with 1 Axes>"
      ]
     },
     "metadata": {
      "needs_background": "light"
     },
     "output_type": "display_data"
    }
   ],
   "source": [
    "df_hist_gen(df_val_win_3_OFS_1,'organ','homogeneity',df_val_win_3_OFS_1['organ'].unique(),'win3ofs1.jpeg') #,,'energy',"
   ]
  },
  {
   "cell_type": "code",
   "execution_count": 83,
   "metadata": {
    "hidden": true
   },
   "outputs": [
    {
     "data": {
      "image/png": "[encoded data removed]",
      "text/plain": [
       "<Figure size 432x288 with 1 Axes>"
      ]
     },
     "metadata": {
      "needs_background": "light"
     },
     "output_type": "display_data"
    }
   ],
   "source": [
    "df_hist_gen(df_val_win_3_OFS_1,'organ','energy',df_val_win_3_OFS_1['organ'].unique(),'win3ofs1.jpeg')"
   ]
  },
  {
   "cell_type": "code",
   "execution_count": 84,
   "metadata": {
    "hidden": true
   },
   "outputs": [
    {
     "data": {
      "image/png": "[encoded data removed]",
      "text/plain": [
       "<Figure size 432x288 with 1 Axes>"
      ]
     },
     "metadata": {
      "needs_background": "light"
     },
     "output_type": "display_data"
    }
   ],
   "source": [
    "df_hist_gen(df_val_win_3_OFS_1,'organ','correlation',df_val_win_3_OFS_1['organ'].unique(),'win3ofs1.jpeg')#,'ASM','organ'"
   ]
  },
  {
   "cell_type": "code",
   "execution_count": 85,
   "metadata": {
    "hidden": true,
    "scrolled": true
   },
   "outputs": [
    {
     "data": {
      "image/png": "[encoded data removed]",
      "text/plain": [
       "<Figure size 432x288 with 1 Axes>"
      ]
     },
     "metadata": {
      "needs_background": "light"
     },
     "output_type": "display_data"
    }
   ],
   "source": [
    "df_hist_gen(df_val_win_3_OFS_1,'organ','ASM',df_val_win_3_OFS_1['organ'].unique(),'win3ofs1.jpeg')#,'ASM','organ'"
   ]
  },
  {
   "cell_type": "code",
   "execution_count": null,
   "metadata": {
    "hidden": true
   },
   "outputs": [],
   "source": []
  },
  {
   "cell_type": "markdown",
   "metadata": {},
   "source": [
    "# Heatmaps and correlations between textures"
   ]
  },
  {
   "cell_type": "markdown",
   "metadata": {},
   "source": [
    "## Functions to aggregate data"
   ]
  },
  {
   "cell_type": "code",
   "execution_count": 15,
   "metadata": {},
   "outputs": [],
   "source": [
    "def get_agg_df(file_list):\n",
    "    \"\"\"The purpose of this method is to find the aggregate file information for aggregating data.\"\"\"\n",
    "    empty_file_info=[]\n",
    "\n",
    "    for file in file_list:\n",
    "\n",
    "        tmp_info=get_file_info(file,str_list)\n",
    "        tmp_info.append(file)\n",
    "        #tmp_info=tmp_info[:4]+tmp_info[-2:]\n",
    "        empty_file_info.append(tmp_info)\n",
    "        \n",
    "    return empty_file_info"
   ]
  },
  {
   "cell_type": "code",
   "execution_count": 16,
   "metadata": {},
   "outputs": [],
   "source": [
    "def get_agg_info(file_list):\n",
    "    \"\"\"The purpose of this method is to find the aggregate file information for aggregating data.\"\"\"\n",
    "    empty_file_info=[]\n",
    "\n",
    "    for file in file_list:\n",
    "\n",
    "        tmp_info=get_file_info(file,str_list)\n",
    "\n",
    "        tmp_info=tmp_info[:4]+tmp_info[-2:]\n",
    "        #print(tmp_info)\n",
    "        cntr=1\n",
    "\n",
    "        if len(empty_file_info)==0:\n",
    "            empty_file_info.append(tmp_info)\n",
    "\n",
    "        for vals in empty_file_info:\n",
    "            if tmp_info==vals:\n",
    "                break\n",
    "            else:\n",
    "                cntr+=1\n",
    "\n",
    "\n",
    "        if cntr>len(empty_file_info):\n",
    "            empty_file_info.append(tmp_info)\n",
    "        \n",
    "    return empty_file_info\n"
   ]
  },
  {
   "cell_type": "code",
   "execution_count": 17,
   "metadata": {},
   "outputs": [],
   "source": [
    "def get_file_info(file_name,str_set):\n",
    "    \"\"\"The purpose of this method is to extract details from numpy array details\"\"\"\n",
    "    #Patient specific information retrieved from file string\n",
    "    #Iterate through string set for information. \n",
    "    ret_list=[]\n",
    "    \n",
    "    file_name=os.path.splitext(file_name)[0]\n",
    "    \n",
    "    for str_idx in range(0,len(str_set)-1):\n",
    "        id_one=re.search(str_set[str_idx],file_name)\n",
    "        id_two=re.search(str_set[str_idx+1],file_name)\n",
    "        \n",
    "        file_info=file_name[id_one.end():id_two.start()]\n",
    "        \n",
    "        ret_list.append(file_info)\n",
    "   \n",
    "    return ret_list\n",
    "    "
   ]
  },
  {
   "cell_type": "code",
   "execution_count": 18,
   "metadata": {},
   "outputs": [],
   "source": [
    "def remake_array(np_dict):\n",
    "    \"\"\"the purpose of this method is to rebuild numpy array based on initial values\"\"\"\n",
    "    base_arr=np.zeros(np_dict['array_shape'],dtype=np_dict['dtype'])\n",
    "    \n",
    "    for vals in np_dict['non_zero_val_coord']:\n",
    "        base_arr[vals[0],vals[1],vals[2],vals[3]]=vals[4]\n",
    "        \n",
    "    return base_arr"
   ]
  },
  {
   "cell_type": "code",
   "execution_count": 19,
   "metadata": {},
   "outputs": [],
   "source": [
    "def open_pickle(pickle_file_name):\n",
    "    \"\"\"the purpose of this method is to generate  apickle file for analysis\"\"\"\n",
    "    with open(pickle_file_name,'rb') as fb:\n",
    "        ret_dict = pickle.load(fb)\n",
    "        \n",
    "    return ret_dict\n",
    "    "
   ]
  },
  {
   "cell_type": "code",
   "execution_count": 20,
   "metadata": {},
   "outputs": [],
   "source": [
    "\n",
    "def sample_dfs(sample_no,comp_org_df,anal_org_df):\n",
    "    \"\"\"The purpose of this method is to sample organs dataframes for Bhattcharya for \"\"\"\n",
    "    #Organ being analyzed for comparison on filename being extracted -1: position in the columns set. \n",
    "    org_comp_f_name=comp_org_df.iloc[sample_no,-1:][0]\n",
    "    org_anal_f_name=anal_org_df.iloc[sample_no,-1:][0]\n",
    "    #Openning pickles and remaking arrays\n",
    "    org_comp_dict=open_pickle(org_comp_f_name)\n",
    "    org_comp_arr=remake_array(org_comp_dict)\n",
    "    \n",
    "    org_anal_dict=open_pickle(org_anal_f_name)\n",
    "    org_anal_arr=remake_array(org_anal_dict)\n",
    "    \n",
    "    #Return arrays of information for analysis \n",
    "    return (org_comp_arr,org_anal_arr)"
   ]
  },
  {
   "cell_type": "code",
   "execution_count": 46,
   "metadata": {},
   "outputs": [],
   "source": [
    "def sample_single_dfs(sample_no,anal_org_df):\n",
    "    \"\"\"The purpose of this method is to sample organs dataframes for Bhattcharya for \"\"\"\n",
    "    #Organ being analyzed for comparison on filename being extracted -1: position in the columns set. \n",
    "    org_anal_f_name=anal_org_df.iloc[sample_no,-1:][0]\n",
    "    #Openning pickles and remaking arrays\n",
    "    org_anal_dict=open_pickle(org_anal_f_name)\n",
    "    org_anal_arr=remake_array(org_anal_dict)\n",
    "    \n",
    "    #Return arrays of information for analysis \n",
    "    return org_anal_arr"
   ]
  },
  {
   "cell_type": "code",
   "execution_count": 21,
   "metadata": {},
   "outputs": [],
   "source": [
    "def get_ang_num(ind_slc):\n",
    "    \"\"\"The purpose of this method is to return the angle of the GCLM given the array slice numbner\"\"\"\n",
    "    \n",
    "    if ind_slc==0:\n",
    "        return 0\n",
    "    elif ind_slc==1:\n",
    "        return 45\n",
    "    elif ind_slc==2:\n",
    "        return 90\n",
    "    elif ind_slc==3:\n",
    "        return 135\n",
    "    else:\n",
    "        assert print('error incorrect angle found. ')\n",
    "    "
   ]
  },
  {
   "cell_type": "code",
   "execution_count": 1,
   "metadata": {},
   "outputs": [],
   "source": [
    "def bhattacharyya_distance(repr1, repr2):\n",
    "    \"\"\"Calculates Bhattacharyya distance (https://en.wikipedia.org/wiki/Bhattacharyya_distance).\"\"\"\n",
    "    \n",
    "    sim = -np.log(np.sum(np.sqrt(np.multiply(repr1,repr2))))\n",
    "    \n",
    "    #- np.log(np.sum([np.sqrt(p*q) for (p, q) in zip(repr1, repr2)]))\n",
    "    \n",
    "    assert not np.isnan(sim), 'Error: Similarity is nan.'\n",
    "    if np.isinf(sim):\n",
    "        # the similarity is -inf if no term in the review is in the vocabulary\n",
    "        return 0\n",
    "    return sim "
   ]
  },
  {
   "cell_type": "markdown",
   "metadata": {},
   "source": [
    "## Aggregating data for analysis"
   ]
  },
  {
   "cell_type": "code",
   "execution_count": 11,
   "metadata": {},
   "outputs": [],
   "source": [
    "str_list=['Pat_id_','img_typ_','org_','_slc_no_','patch_no','_WindS_','_OFS_','4_ang_set']\n"
   ]
  },
  {
   "cell_type": "code",
   "execution_count": 12,
   "metadata": {},
   "outputs": [],
   "source": [
    "\n",
    "os.chdir(r'C:\\Users\\niall\\OneDrive\\Documents\\Data science masters\\Thesis\\Results\\Texture Results\\GCLM data run3')\n",
    "\n",
    "file_list=os.listdir()"
   ]
  },
  {
   "cell_type": "code",
   "execution_count": 13,
   "metadata": {},
   "outputs": [
    {
     "data": {
      "text/plain": [
       "['20', 'T1Dual_InPhase', 'Background', '10', '9', '0_']"
      ]
     },
     "execution_count": 13,
     "metadata": {},
     "output_type": "execute_result"
    }
   ],
   "source": [
    "GCLM_spec=get_agg_info(file_list)\n",
    "GCLM_spec[0]"
   ]
  },
  {
   "cell_type": "code",
   "execution_count": 23,
   "metadata": {},
   "outputs": [],
   "source": [
    "file_agg_info=get_agg_df(file_list)\n",
    "#len(file_agg_info)\n",
    "GCLM_df=pd.DataFrame(file_agg_info,columns=['Patient_id','Image_type',\n",
    "                                            'Organ_type','Slice_id',\n",
    "                                            'Patch_id','Window_size',\n",
    "                                            'Offset','File_name'])\n",
    "\n",
    "GCLM_specs=pd.DataFrame(GCLM_spec,columns=['Patient_id','Image_type','Organ_type','Slice_no','Win_size','OFS'])\n",
    "#GCLM_specs.to_excel('GCLM_specifications.xlsx')"
   ]
  },
  {
   "cell_type": "code",
   "execution_count": 24,
   "metadata": {},
   "outputs": [],
   "source": [
    "GCLM_specs['OFS'].replace(regex=True,inplace=True,to_replace=r'\\_',value=r'')\n",
    "GCLM_specs['OFS']=pd.to_numeric(GCLM_specs['OFS'])\n",
    "\n",
    "GCLM_df['Offset'].replace(regex=True,inplace=True,to_replace=r'\\_',value=r'')\n",
    "GCLM_df['Offset']=pd.to_numeric(GCLM_df['Offset'])"
   ]
  },
  {
   "cell_type": "code",
   "execution_count": 25,
   "metadata": {},
   "outputs": [
    {
     "data": {
      "text/plain": [
       "array([0, 1, 2], dtype=int64)"
      ]
     },
     "execution_count": 25,
     "metadata": {},
     "output_type": "execute_result"
    }
   ],
   "source": [
    "GCLM_df['Offset'].unique()"
   ]
  },
  {
   "cell_type": "code",
   "execution_count": 26,
   "metadata": {},
   "outputs": [
    {
     "data": {
      "text/plain": [
       "array([0, 1, 2], dtype=int64)"
      ]
     },
     "execution_count": 26,
     "metadata": {},
     "output_type": "execute_result"
    }
   ],
   "source": [
    "GCLM_specs['OFS'].unique()"
   ]
  },
  {
   "cell_type": "code",
   "execution_count": 138,
   "metadata": {},
   "outputs": [],
   "source": [
    "GCLM_df.to_excel('GCLM_folder_df_windowsize_9.xlsx')\n",
    "GCLM_specs.to_excel('GCLM_specifications_windowsize_9.xlsx')"
   ]
  },
  {
   "cell_type": "markdown",
   "metadata": {},
   "source": [
    "## Perform Bhattcharrya analysis on histograms for analysis\n"
   ]
  },
  {
   "cell_type": "code",
   "execution_count": 16,
   "metadata": {},
   "outputs": [],
   "source": [
    "os.chdir(r'C:\\Users\\niall\\OneDrive\\Documents\\Data science masters\\Thesis\\Results\\Texture Results\\Aggregate_data\\SPREADSHEET\\Window_size_9')\n",
    "\n",
    "GCLM_df=pd.read_excel('GCLM_folder_df_windowsize_9.xlsx')\n",
    "\n"
   ]
  },
  {
   "cell_type": "code",
   "execution_count": 17,
   "metadata": {},
   "outputs": [
    {
     "data": {
      "text/plain": [
       "Index(['Unnamed: 0', 'Patient_id', 'Image_type', 'Organ_type', 'Slice_id',\n",
       "       'Patch_id', 'Window_size', 'Offset', 'File_name'],\n",
       "      dtype='object')"
      ]
     },
     "execution_count": 17,
     "metadata": {},
     "output_type": "execute_result"
    }
   ],
   "source": [
    "GCLM_df.columns"
   ]
  },
  {
   "cell_type": "code",
   "execution_count": 18,
   "metadata": {},
   "outputs": [],
   "source": [
    "GCLM_specs=pd.read_excel('GCLM_specifications_windowsize_9.xlsx')"
   ]
  },
  {
   "cell_type": "code",
   "execution_count": 30,
   "metadata": {},
   "outputs": [
    {
     "data": {
      "text/html": [
       "<div>\n",
       "<style scoped>\n",
       "    .dataframe tbody tr th:only-of-type {\n",
       "        vertical-align: middle;\n",
       "    }\n",
       "\n",
       "    .dataframe tbody tr th {\n",
       "        vertical-align: top;\n",
       "    }\n",
       "\n",
       "    .dataframe thead th {\n",
       "        text-align: right;\n",
       "    }\n",
       "</style>\n",
       "<table border=\"1\" class=\"dataframe\">\n",
       "  <thead>\n",
       "    <tr style=\"text-align: right;\">\n",
       "      <th></th>\n",
       "      <th>Unnamed: 0</th>\n",
       "      <th>Patient_id</th>\n",
       "      <th>Image_type</th>\n",
       "      <th>Organ_type</th>\n",
       "      <th>Slice_id</th>\n",
       "      <th>Patch_id</th>\n",
       "      <th>Window_size</th>\n",
       "      <th>Offset</th>\n",
       "      <th>File_name</th>\n",
       "    </tr>\n",
       "  </thead>\n",
       "  <tbody>\n",
       "    <tr>\n",
       "      <th>1</th>\n",
       "      <td>1</td>\n",
       "      <td>20</td>\n",
       "      <td>T1Dual_InPhase</td>\n",
       "      <td>Background</td>\n",
       "      <td>10</td>\n",
       "      <td>1080</td>\n",
       "      <td>9</td>\n",
       "      <td>1</td>\n",
       "      <td>Pat_id_20img_typ_T1Dual_InPhaseorg_Background_...</td>\n",
       "    </tr>\n",
       "    <tr>\n",
       "      <th>2</th>\n",
       "      <td>2</td>\n",
       "      <td>20</td>\n",
       "      <td>T1Dual_InPhase</td>\n",
       "      <td>Background</td>\n",
       "      <td>10</td>\n",
       "      <td>1080</td>\n",
       "      <td>9</td>\n",
       "      <td>2</td>\n",
       "      <td>Pat_id_20img_typ_T1Dual_InPhaseorg_Background_...</td>\n",
       "    </tr>\n",
       "    <tr>\n",
       "      <th>3</th>\n",
       "      <td>3</td>\n",
       "      <td>20</td>\n",
       "      <td>T1Dual_InPhase</td>\n",
       "      <td>Background</td>\n",
       "      <td>10</td>\n",
       "      <td>11279</td>\n",
       "      <td>9</td>\n",
       "      <td>0</td>\n",
       "      <td>Pat_id_20img_typ_T1Dual_InPhaseorg_Background_...</td>\n",
       "    </tr>\n",
       "    <tr>\n",
       "      <th>4</th>\n",
       "      <td>4</td>\n",
       "      <td>20</td>\n",
       "      <td>T1Dual_InPhase</td>\n",
       "      <td>Background</td>\n",
       "      <td>10</td>\n",
       "      <td>11279</td>\n",
       "      <td>9</td>\n",
       "      <td>1</td>\n",
       "      <td>Pat_id_20img_typ_T1Dual_InPhaseorg_Background_...</td>\n",
       "    </tr>\n",
       "    <tr>\n",
       "      <th>5</th>\n",
       "      <td>5</td>\n",
       "      <td>20</td>\n",
       "      <td>T1Dual_InPhase</td>\n",
       "      <td>Background</td>\n",
       "      <td>10</td>\n",
       "      <td>11279</td>\n",
       "      <td>9</td>\n",
       "      <td>2</td>\n",
       "      <td>Pat_id_20img_typ_T1Dual_InPhaseorg_Background_...</td>\n",
       "    </tr>\n",
       "    <tr>\n",
       "      <th>6</th>\n",
       "      <td>6</td>\n",
       "      <td>20</td>\n",
       "      <td>T1Dual_InPhase</td>\n",
       "      <td>Background</td>\n",
       "      <td>10</td>\n",
       "      <td>15815</td>\n",
       "      <td>9</td>\n",
       "      <td>0</td>\n",
       "      <td>Pat_id_20img_typ_T1Dual_InPhaseorg_Background_...</td>\n",
       "    </tr>\n",
       "    <tr>\n",
       "      <th>7</th>\n",
       "      <td>7</td>\n",
       "      <td>20</td>\n",
       "      <td>T1Dual_InPhase</td>\n",
       "      <td>Background</td>\n",
       "      <td>10</td>\n",
       "      <td>15815</td>\n",
       "      <td>9</td>\n",
       "      <td>1</td>\n",
       "      <td>Pat_id_20img_typ_T1Dual_InPhaseorg_Background_...</td>\n",
       "    </tr>\n",
       "    <tr>\n",
       "      <th>8</th>\n",
       "      <td>8</td>\n",
       "      <td>20</td>\n",
       "      <td>T1Dual_InPhase</td>\n",
       "      <td>Background</td>\n",
       "      <td>10</td>\n",
       "      <td>15815</td>\n",
       "      <td>9</td>\n",
       "      <td>2</td>\n",
       "      <td>Pat_id_20img_typ_T1Dual_InPhaseorg_Background_...</td>\n",
       "    </tr>\n",
       "    <tr>\n",
       "      <th>9</th>\n",
       "      <td>9</td>\n",
       "      <td>20</td>\n",
       "      <td>T1Dual_InPhase</td>\n",
       "      <td>Background</td>\n",
       "      <td>10</td>\n",
       "      <td>18111</td>\n",
       "      <td>9</td>\n",
       "      <td>0</td>\n",
       "      <td>Pat_id_20img_typ_T1Dual_InPhaseorg_Background_...</td>\n",
       "    </tr>\n",
       "  </tbody>\n",
       "</table>\n",
       "</div>"
      ],
      "text/plain": [
       "   Unnamed: 0  Patient_id      Image_type  Organ_type  Slice_id  Patch_id  \\\n",
       "1           1          20  T1Dual_InPhase  Background        10      1080   \n",
       "2           2          20  T1Dual_InPhase  Background        10      1080   \n",
       "3           3          20  T1Dual_InPhase  Background        10     11279   \n",
       "4           4          20  T1Dual_InPhase  Background        10     11279   \n",
       "5           5          20  T1Dual_InPhase  Background        10     11279   \n",
       "6           6          20  T1Dual_InPhase  Background        10     15815   \n",
       "7           7          20  T1Dual_InPhase  Background        10     15815   \n",
       "8           8          20  T1Dual_InPhase  Background        10     15815   \n",
       "9           9          20  T1Dual_InPhase  Background        10     18111   \n",
       "\n",
       "   Window_size  Offset                                          File_name  \n",
       "1            9       1  Pat_id_20img_typ_T1Dual_InPhaseorg_Background_...  \n",
       "2            9       2  Pat_id_20img_typ_T1Dual_InPhaseorg_Background_...  \n",
       "3            9       0  Pat_id_20img_typ_T1Dual_InPhaseorg_Background_...  \n",
       "4            9       1  Pat_id_20img_typ_T1Dual_InPhaseorg_Background_...  \n",
       "5            9       2  Pat_id_20img_typ_T1Dual_InPhaseorg_Background_...  \n",
       "6            9       0  Pat_id_20img_typ_T1Dual_InPhaseorg_Background_...  \n",
       "7            9       1  Pat_id_20img_typ_T1Dual_InPhaseorg_Background_...  \n",
       "8            9       2  Pat_id_20img_typ_T1Dual_InPhaseorg_Background_...  \n",
       "9            9       0  Pat_id_20img_typ_T1Dual_InPhaseorg_Background_...  "
      ]
     },
     "execution_count": 30,
     "metadata": {},
     "output_type": "execute_result"
    }
   ],
   "source": [
    "GCLM_df.iloc[1:10,:]"
   ]
  },
  {
   "cell_type": "code",
   "execution_count": 19,
   "metadata": {},
   "outputs": [
    {
     "data": {
      "text/html": [
       "<div>\n",
       "<style scoped>\n",
       "    .dataframe tbody tr th:only-of-type {\n",
       "        vertical-align: middle;\n",
       "    }\n",
       "\n",
       "    .dataframe tbody tr th {\n",
       "        vertical-align: top;\n",
       "    }\n",
       "\n",
       "    .dataframe thead th {\n",
       "        text-align: right;\n",
       "    }\n",
       "</style>\n",
       "<table border=\"1\" class=\"dataframe\">\n",
       "  <thead>\n",
       "    <tr style=\"text-align: right;\">\n",
       "      <th></th>\n",
       "      <th>Unnamed: 0</th>\n",
       "      <th>Patient_id</th>\n",
       "      <th>Image_type</th>\n",
       "      <th>Organ_type</th>\n",
       "      <th>Slice_no</th>\n",
       "      <th>Win_size</th>\n",
       "      <th>OFS</th>\n",
       "    </tr>\n",
       "  </thead>\n",
       "  <tbody>\n",
       "    <tr>\n",
       "      <th>0</th>\n",
       "      <td>0</td>\n",
       "      <td>20</td>\n",
       "      <td>T1Dual_InPhase</td>\n",
       "      <td>Background</td>\n",
       "      <td>10</td>\n",
       "      <td>9</td>\n",
       "      <td>0_</td>\n",
       "    </tr>\n",
       "    <tr>\n",
       "      <th>1</th>\n",
       "      <td>1</td>\n",
       "      <td>20</td>\n",
       "      <td>T1Dual_InPhase</td>\n",
       "      <td>Background</td>\n",
       "      <td>10</td>\n",
       "      <td>9</td>\n",
       "      <td>1_</td>\n",
       "    </tr>\n",
       "    <tr>\n",
       "      <th>2</th>\n",
       "      <td>2</td>\n",
       "      <td>20</td>\n",
       "      <td>T1Dual_InPhase</td>\n",
       "      <td>Background</td>\n",
       "      <td>10</td>\n",
       "      <td>9</td>\n",
       "      <td>2_</td>\n",
       "    </tr>\n",
       "    <tr>\n",
       "      <th>3</th>\n",
       "      <td>3</td>\n",
       "      <td>20</td>\n",
       "      <td>T1Dual_InPhase</td>\n",
       "      <td>Background</td>\n",
       "      <td>1</td>\n",
       "      <td>9</td>\n",
       "      <td>0_</td>\n",
       "    </tr>\n",
       "    <tr>\n",
       "      <th>4</th>\n",
       "      <td>4</td>\n",
       "      <td>20</td>\n",
       "      <td>T1Dual_InPhase</td>\n",
       "      <td>Background</td>\n",
       "      <td>1</td>\n",
       "      <td>9</td>\n",
       "      <td>1_</td>\n",
       "    </tr>\n",
       "  </tbody>\n",
       "</table>\n",
       "</div>"
      ],
      "text/plain": [
       "   Unnamed: 0  Patient_id      Image_type  Organ_type  Slice_no  Win_size OFS\n",
       "0           0          20  T1Dual_InPhase  Background        10         9  0_\n",
       "1           1          20  T1Dual_InPhase  Background        10         9  1_\n",
       "2           2          20  T1Dual_InPhase  Background        10         9  2_\n",
       "3           3          20  T1Dual_InPhase  Background         1         9  0_\n",
       "4           4          20  T1Dual_InPhase  Background         1         9  1_"
      ]
     },
     "execution_count": 19,
     "metadata": {},
     "output_type": "execute_result"
    }
   ],
   "source": [
    "GCLM_specs.head()"
   ]
  },
  {
   "cell_type": "code",
   "execution_count": 90,
   "metadata": {},
   "outputs": [],
   "source": [
    "os.chdir(r'C:\\Users\\niall\\OneDrive\\Documents\\Data science masters\\Thesis\\Results\\Texture Results\\GCLM data run3')"
   ]
  },
  {
   "cell_type": "code",
   "execution_count": 13,
   "metadata": {},
   "outputs": [],
   "source": [
    "\n",
    "\n",
    "def Create_Bhatt_dist_df_org_comp(GCLM_specs,GCLM_df,\n",
    "                         No_samples=50,No_angles=4):\n",
    "    \n",
    "    #Storage list for all data results stored for analysis when rig is running. \n",
    "    Final_list=[]\n",
    "\n",
    "\n",
    "    #Iterate through patients \n",
    "    for vals in GCLM_specs.iterrows():\n",
    "        #Getting organ types for a specific slice together with a specific patient and mri type               \n",
    "        spec_df=GCLM_df.loc[(GCLM_df['Patient_id']==vals[1]['Patient_id'])&(GCLM_df['Image_type']==vals[1]['Image_type'])&(GCLM_df['Offset']==vals[1]['OFS'])&(GCLM_df['Window_size']==vals[1]['Win_size'])&(GCLM_df['Slice_id']==vals[1]['Slice_no']),\n",
    "             :]\n",
    "        #print(spec_df)\n",
    "        #Getting organ types specific to df overhead. \n",
    "        org_types=spec_df['Organ_type'].unique().tolist()\n",
    "        #If number of organs present in image are >1 comparative analysis can be performed. \n",
    "        idx_orgns=list(combinations(org_types, 2))\n",
    "        add_info=vals[1].tolist()\n",
    "\n",
    "        for org_combo in idx_orgns:\n",
    "\n",
    "            #iterate though organ types present in ds above. \n",
    "            Orgns,Comp_org=org_combo\n",
    "            #print('analysed Organ:',Orgns)\n",
    "            #print('Compared organ:',Comp_org)\n",
    "            #Sample from organ list for a maximum of fifty\n",
    "            sample_no=min(spec_df['Organ_type'].value_counts())-1\n",
    "\n",
    "            if sample_no>No_samples:\n",
    "                sample_no=No_samples\n",
    "            #Getting organ specific dataframe for analysis\n",
    "\n",
    "                \n",
    "            org_anal_df=spec_df.loc[spec_df['Organ_type']==Orgns,:]\n",
    "\n",
    "            org_comp_df=spec_df.loc[spec_df['Organ_type']==Comp_org,:]\n",
    "            #org_comp_df=org_comp_df.reset_index(inplace=True,drop=True)\n",
    "            while sample_no>0:\n",
    "\n",
    "                org_comp_arr,org_anal_arr=sample_dfs(sample_no,org_comp_df,org_anal_df)\n",
    "\n",
    "                #Iterating through the four different angles for analysis\n",
    "                for i in range(0,No_of_angles):\n",
    "                    angle=get_ang_num(i)\n",
    "                    org_comp_arr_ang=org_comp_arr[:,:,:,i]\n",
    "                    org_anal_arr_ang=org_anal_arr[:,:,:,i]\n",
    "\n",
    "                    uniq_vals_org_comp=np.unique(org_comp_arr_ang,return_counts=True)\n",
    "                    uniq_vals_org_anal=np.unique(org_anal_arr_ang,return_counts=True)\n",
    "\n",
    "                    #Bhattacharyya distance \n",
    "                    Bhatt_dist=bhattacharyya_distance(org_comp_arr_ang, org_anal_arr_ang)\n",
    "\n",
    "                    Patch_id_org_comp=org_comp_df.iloc[sample_no,5]\n",
    "                    Patch_id_org_anal=org_anal_df.iloc[sample_no,5]\n",
    "\n",
    "\n",
    "                    #if Bhatt_dist>0.5:\n",
    "\n",
    "                     #       print(uniq_vals_org_comp)\n",
    "                       #     print(uniq_vals_org_anal)\n",
    "                      #      print('Bhattacharyya distance:',Bhatt_dist)\n",
    "\n",
    "                    final_result=add_info[1:]+[Orgns,Comp_org,Patch_id_org_anal,Patch_id_org_comp,angle,Bhatt_dist]\n",
    "                    Final_list.append(final_result)\n",
    "                #Sample Number reduced with each value. \n",
    "                sample_no-=1\n",
    "\n",
    "    return Final_list\n",
    "\n"
   ]
  },
  {
   "cell_type": "code",
   "execution_count": 14,
   "metadata": {},
   "outputs": [],
   "source": [
    "\n",
    "\n",
    "def Create_Bhatt_dist_df_org_sim(GCLM_specs,GCLM_df,No_angles=4):\n",
    "    \"\"\"The purpose of this method is to perform inter organ comparison to confirm that the organs can be distinguished. \"\"\"\n",
    "    #Storage list for all data results stored for analysis when rig is running. \n",
    "    Final_list=[]\n",
    "\n",
    "    #Iterate through patients \n",
    "    for vals in GCLM_specs.iterrows():\n",
    "        #Getting organ types for a specific slice together with a specific patient and mri type               \n",
    "        spec_df=GCLM_df.loc[(GCLM_df['Patient_id']==vals[1]['Patient_id'])&(GCLM_df['Image_type']==vals[1]['Image_type'])&(GCLM_df['Offset']==vals[1]['OFS'])&(GCLM_df['Window_size']==vals[1]['Win_size'])&(GCLM_df['Slice_id']==vals[1]['Slice_no']),\n",
    "             :]\n",
    "        #print(spec_df)\n",
    "        #Getting organ types specific to df overhead. \n",
    "        org_types=spec_df['Organ_type'].unique().tolist()\n",
    "        #If number of organs present in image are >1 comparative analysis can be performed.\n",
    "        add_info=vals[1].tolist()\n",
    "\n",
    "        for orgs in org_types:\n",
    "\n",
    "            #print('analysed Organ:',Orgns)\n",
    "            #print('Compared organ:',Comp_org)\n",
    "            #Getting number of unique patches\n",
    "            Uniq_patch_per_org=spec_df.loc[spec_df['Organ_type']==orgs,'Patch_id'].unique()\n",
    "            #print(Uniq_patch_per_org)\n",
    "            sample_no=min(spec_df.loc[spec_df['Organ_type']==orgs,'Patch_id'].value_counts())-1\n",
    "            #Reducing sampling if organs are larger\n",
    "            if Uniq_patch_per_org.shape[0]>5:\n",
    "                Uniq_patch_per_org=Uniq_patch_per_org[:5]\n",
    "                \n",
    "            patch_combo=list(combinations(Uniq_patch_per_org, 2))\n",
    "\n",
    "            #Getting organ specific dataframe for analysis\n",
    "            \n",
    "            for P_2_P_combo in patch_combo:\n",
    "                \n",
    "                patch_1,patch_2=P_2_P_combo\n",
    "                #print(patch_1)\n",
    "                #print(patch_2)\n",
    "                org_anal_df=spec_df.loc[(spec_df['Organ_type']==orgs)&(spec_df['Patch_id']==patch_1),:]\n",
    "                #print(org_anal_df)\n",
    "                org_comp_df=spec_df.loc[(spec_df['Organ_type']==orgs)&(spec_df['Patch_id']==patch_2),:]\n",
    "            #org_comp_df=org_comp_df.reset_index(inplace=True,drop=True)\n",
    "       \n",
    "\n",
    "                org_comp_arr,org_anal_arr=sample_dfs(0,org_comp_df,org_anal_df)\n",
    "\n",
    "                #Iterating through the four different angles for analysis\n",
    "                for i in range(0,No_angles):\n",
    "                    angle=get_ang_num(i)\n",
    "                    org_comp_arr_ang=org_comp_arr[:,:,:,i]\n",
    "                    org_anal_arr_ang=org_anal_arr[:,:,:,i]\n",
    "\n",
    "                    uniq_vals_org_comp=np.unique(org_comp_arr_ang,return_counts=True)\n",
    "                    uniq_vals_org_anal=np.unique(org_anal_arr_ang,return_counts=True)\n",
    "\n",
    "                    #Bhattacharyya distance \n",
    "                    Bhatt_dist=bhattacharyya_distance(org_comp_arr_ang, org_anal_arr_ang)\n",
    "\n",
    "\n",
    "                    final_result=add_info[1:]+[orgs,patch_1,patch_2,angle,Bhatt_dist]\n",
    "                    #print(final_result)\n",
    "                    Final_list.append(final_result)\n",
    "                #Sample Number reduced with each value. \n",
    "                sample_no-=1\n",
    "                \n",
    "    return Final_list\n",
    "\n"
   ]
  },
  {
   "cell_type": "code",
   "execution_count": 50,
   "metadata": {},
   "outputs": [
    {
     "data": {
      "text/html": [
       "<div>\n",
       "<style scoped>\n",
       "    .dataframe tbody tr th:only-of-type {\n",
       "        vertical-align: middle;\n",
       "    }\n",
       "\n",
       "    .dataframe tbody tr th {\n",
       "        vertical-align: top;\n",
       "    }\n",
       "\n",
       "    .dataframe thead th {\n",
       "        text-align: right;\n",
       "    }\n",
       "</style>\n",
       "<table border=\"1\" class=\"dataframe\">\n",
       "  <thead>\n",
       "    <tr style=\"text-align: right;\">\n",
       "      <th></th>\n",
       "      <th>Unnamed: 0</th>\n",
       "      <th>Patient_id</th>\n",
       "      <th>Image_type</th>\n",
       "      <th>Organ_type</th>\n",
       "      <th>Slice_id</th>\n",
       "      <th>Patch_id</th>\n",
       "      <th>Window_size</th>\n",
       "      <th>Offset</th>\n",
       "      <th>File_name</th>\n",
       "    </tr>\n",
       "  </thead>\n",
       "  <tbody>\n",
       "    <tr>\n",
       "      <th>0</th>\n",
       "      <td>0</td>\n",
       "      <td>20</td>\n",
       "      <td>T1Dual_InPhase</td>\n",
       "      <td>Background</td>\n",
       "      <td>10</td>\n",
       "      <td>12741</td>\n",
       "      <td>7</td>\n",
       "      <td>0</td>\n",
       "      <td>Pat_id_20img_typ_T1Dual_InPhaseorg_Background_...</td>\n",
       "    </tr>\n",
       "    <tr>\n",
       "      <th>1</th>\n",
       "      <td>1</td>\n",
       "      <td>20</td>\n",
       "      <td>T1Dual_InPhase</td>\n",
       "      <td>Background</td>\n",
       "      <td>10</td>\n",
       "      <td>12741</td>\n",
       "      <td>7</td>\n",
       "      <td>1</td>\n",
       "      <td>Pat_id_20img_typ_T1Dual_InPhaseorg_Background_...</td>\n",
       "    </tr>\n",
       "    <tr>\n",
       "      <th>2</th>\n",
       "      <td>2</td>\n",
       "      <td>20</td>\n",
       "      <td>T1Dual_InPhase</td>\n",
       "      <td>Background</td>\n",
       "      <td>10</td>\n",
       "      <td>12741</td>\n",
       "      <td>7</td>\n",
       "      <td>2</td>\n",
       "      <td>Pat_id_20img_typ_T1Dual_InPhaseorg_Background_...</td>\n",
       "    </tr>\n",
       "    <tr>\n",
       "      <th>3</th>\n",
       "      <td>3</td>\n",
       "      <td>20</td>\n",
       "      <td>T1Dual_InPhase</td>\n",
       "      <td>Background</td>\n",
       "      <td>10</td>\n",
       "      <td>13116</td>\n",
       "      <td>7</td>\n",
       "      <td>0</td>\n",
       "      <td>Pat_id_20img_typ_T1Dual_InPhaseorg_Background_...</td>\n",
       "    </tr>\n",
       "    <tr>\n",
       "      <th>4</th>\n",
       "      <td>4</td>\n",
       "      <td>20</td>\n",
       "      <td>T1Dual_InPhase</td>\n",
       "      <td>Background</td>\n",
       "      <td>10</td>\n",
       "      <td>13116</td>\n",
       "      <td>7</td>\n",
       "      <td>1</td>\n",
       "      <td>Pat_id_20img_typ_T1Dual_InPhaseorg_Background_...</td>\n",
       "    </tr>\n",
       "  </tbody>\n",
       "</table>\n",
       "</div>"
      ],
      "text/plain": [
       "   Unnamed: 0  Patient_id      Image_type  Organ_type  Slice_id  Patch_id  \\\n",
       "0           0          20  T1Dual_InPhase  Background        10     12741   \n",
       "1           1          20  T1Dual_InPhase  Background        10     12741   \n",
       "2           2          20  T1Dual_InPhase  Background        10     12741   \n",
       "3           3          20  T1Dual_InPhase  Background        10     13116   \n",
       "4           4          20  T1Dual_InPhase  Background        10     13116   \n",
       "\n",
       "   Window_size  Offset                                          File_name  \n",
       "0            7       0  Pat_id_20img_typ_T1Dual_InPhaseorg_Background_...  \n",
       "1            7       1  Pat_id_20img_typ_T1Dual_InPhaseorg_Background_...  \n",
       "2            7       2  Pat_id_20img_typ_T1Dual_InPhaseorg_Background_...  \n",
       "3            7       0  Pat_id_20img_typ_T1Dual_InPhaseorg_Background_...  \n",
       "4            7       1  Pat_id_20img_typ_T1Dual_InPhaseorg_Background_...  "
      ]
     },
     "execution_count": 50,
     "metadata": {},
     "output_type": "execute_result"
    }
   ],
   "source": [
    "GCLM_df.head()"
   ]
  },
  {
   "cell_type": "code",
   "execution_count": 110,
   "metadata": {},
   "outputs": [
    {
     "name": "stderr",
     "output_type": "stream",
     "text": [
      "c:\\users\\niall\\anaconda3\\lib\\site-packages\\ipykernel_launcher.py:4: RuntimeWarning: divide by zero encountered in log\n",
      "  after removing the cwd from sys.path.\n"
     ]
    }
   ],
   "source": [
    "final_list=Create_Bhatt_dist_df_org_sim(GCLM_specs,GCLM_df,No_angles=4)"
   ]
  },
  {
   "cell_type": "code",
   "execution_count": 97,
   "metadata": {},
   "outputs": [
    {
     "data": {
      "text/plain": [
       "'C:\\\\Users\\\\niall\\\\OneDrive\\\\Documents\\\\Data science masters\\\\Thesis\\\\Results\\\\Texture Results\\\\GCLM data run3'"
      ]
     },
     "execution_count": 97,
     "metadata": {},
     "output_type": "execute_result"
    }
   ],
   "source": [
    "pwd"
   ]
  },
  {
   "cell_type": "markdown",
   "metadata": {
    "heading_collapsed": true
   },
   "source": [
    "## Aggregate df information from analysis"
   ]
  },
  {
   "cell_type": "code",
   "execution_count": null,
   "metadata": {
    "hidden": true
   },
   "outputs": [],
   "source": []
  },
  {
   "cell_type": "code",
   "execution_count": 111,
   "metadata": {
    "hidden": true
   },
   "outputs": [],
   "source": [
    "Bhatt_dist_df=pd.DataFrame(final_list,columns=['patient_id','Image_type','Organ_type','Slice_no','Window_size',\n",
    "                                              'Offset','Organ_type','Patch_id1','Patch_id2',\n",
    "                                              'Angle_used','Bhatt_distance']) #,'Organ_1','Organ_2'"
   ]
  },
  {
   "cell_type": "code",
   "execution_count": 112,
   "metadata": {
    "hidden": true
   },
   "outputs": [],
   "source": [
    "Bhatt_dist_df.to_excel('Bhattcharrya_dist_inter_org_sim_windsize_9.xlsx')"
   ]
  },
  {
   "cell_type": "code",
   "execution_count": 177,
   "metadata": {
    "hidden": true
   },
   "outputs": [],
   "source": [
    "Bhatt_dist_df_1=pd.read_excel('Bhattcharrya_dist_info_1_to_1284idx.xlsx')"
   ]
  },
  {
   "cell_type": "code",
   "execution_count": 178,
   "metadata": {
    "hidden": true
   },
   "outputs": [
    {
     "name": "stderr",
     "output_type": "stream",
     "text": [
      "c:\\users\\niall\\anaconda3\\lib\\site-packages\\ipykernel_launcher.py:1: FutureWarning: Sorting because non-concatenation axis is not aligned. A future version\n",
      "of pandas will change to not sort by default.\n",
      "\n",
      "To accept the future behavior, pass 'sort=False'.\n",
      "\n",
      "To retain the current behavior and silence the warning, pass 'sort=True'.\n",
      "\n",
      "  \"\"\"Entry point for launching an IPython kernel.\n"
     ]
    }
   ],
   "source": [
    "Bhatt_dist_df_merge=pd.concat([Bhatt_dist_df_1,Bhatt_dist_df])\n",
    "Bhatt_dist_df_merge.reset_index(drop=True,inplace=True)\n"
   ]
  },
  {
   "cell_type": "markdown",
   "metadata": {
    "heading_collapsed": true
   },
   "source": [
    "## Count of aggregate dataframe"
   ]
  },
  {
   "cell_type": "code",
   "execution_count": 184,
   "metadata": {
    "hidden": true
   },
   "outputs": [],
   "source": [
    "Bhatt_dist_df_great_0=Bhatt_dist_df_merge[Bhatt_dist_df_merge['Bhatt_distance']>0.0]"
   ]
  },
  {
   "cell_type": "code",
   "execution_count": 186,
   "metadata": {
    "hidden": true
   },
   "outputs": [],
   "source": [
    "df_agg=Bhatt_dist_df_great_0.groupby(['Organ_1','Organ_2']).size().reset_index().rename(columns={0:'count'})\n",
    "df_agg.to_excel('Org_to_org_comp_bhattdist_great_0.xlsx')"
   ]
  },
  {
   "cell_type": "code",
   "execution_count": 187,
   "metadata": {
    "hidden": true
   },
   "outputs": [
    {
     "data": {
      "text/html": [
       "<div>\n",
       "<style scoped>\n",
       "    .dataframe tbody tr th:only-of-type {\n",
       "        vertical-align: middle;\n",
       "    }\n",
       "\n",
       "    .dataframe tbody tr th {\n",
       "        vertical-align: top;\n",
       "    }\n",
       "\n",
       "    .dataframe thead th {\n",
       "        text-align: right;\n",
       "    }\n",
       "</style>\n",
       "<table border=\"1\" class=\"dataframe\">\n",
       "  <thead>\n",
       "    <tr style=\"text-align: right;\">\n",
       "      <th></th>\n",
       "      <th>Organ_1</th>\n",
       "      <th>Organ_2</th>\n",
       "      <th>count</th>\n",
       "    </tr>\n",
       "  </thead>\n",
       "  <tbody>\n",
       "    <tr>\n",
       "      <th>0</th>\n",
       "      <td>Background</td>\n",
       "      <td>Liver</td>\n",
       "      <td>164400</td>\n",
       "    </tr>\n",
       "    <tr>\n",
       "      <th>1</th>\n",
       "      <td>Background</td>\n",
       "      <td>l_kidney</td>\n",
       "      <td>162524</td>\n",
       "    </tr>\n",
       "    <tr>\n",
       "      <th>2</th>\n",
       "      <td>Background</td>\n",
       "      <td>r_kidney</td>\n",
       "      <td>157608</td>\n",
       "    </tr>\n",
       "    <tr>\n",
       "      <th>3</th>\n",
       "      <td>Background</td>\n",
       "      <td>spleen</td>\n",
       "      <td>56400</td>\n",
       "    </tr>\n",
       "    <tr>\n",
       "      <th>4</th>\n",
       "      <td>Liver</td>\n",
       "      <td>l_kidney</td>\n",
       "      <td>110400</td>\n",
       "    </tr>\n",
       "    <tr>\n",
       "      <th>5</th>\n",
       "      <td>Liver</td>\n",
       "      <td>r_kidney</td>\n",
       "      <td>110400</td>\n",
       "    </tr>\n",
       "    <tr>\n",
       "      <th>6</th>\n",
       "      <td>Liver</td>\n",
       "      <td>spleen</td>\n",
       "      <td>56400</td>\n",
       "    </tr>\n",
       "    <tr>\n",
       "      <th>7</th>\n",
       "      <td>l_kidney</td>\n",
       "      <td>r_kidney</td>\n",
       "      <td>152808</td>\n",
       "    </tr>\n",
       "    <tr>\n",
       "      <th>8</th>\n",
       "      <td>l_kidney</td>\n",
       "      <td>spleen</td>\n",
       "      <td>24000</td>\n",
       "    </tr>\n",
       "    <tr>\n",
       "      <th>9</th>\n",
       "      <td>r_kidney</td>\n",
       "      <td>spleen</td>\n",
       "      <td>24000</td>\n",
       "    </tr>\n",
       "  </tbody>\n",
       "</table>\n",
       "</div>"
      ],
      "text/plain": [
       "      Organ_1   Organ_2   count\n",
       "0  Background     Liver  164400\n",
       "1  Background  l_kidney  162524\n",
       "2  Background  r_kidney  157608\n",
       "3  Background    spleen   56400\n",
       "4       Liver  l_kidney  110400\n",
       "5       Liver  r_kidney  110400\n",
       "6       Liver    spleen   56400\n",
       "7    l_kidney  r_kidney  152808\n",
       "8    l_kidney    spleen   24000\n",
       "9    r_kidney    spleen   24000"
      ]
     },
     "execution_count": 187,
     "metadata": {},
     "output_type": "execute_result"
    }
   ],
   "source": [
    "df_agg_total=Bhatt_dist_df_merge.groupby(['Organ_1','Organ_2']).size().reset_index().rename(columns={0:'count'})\n",
    "df_agg_total.to_excel('Org_to_org_comp_bhattdist_allvalues.xlsx')"
   ]
  },
  {
   "cell_type": "code",
   "execution_count": 192,
   "metadata": {
    "hidden": true
   },
   "outputs": [],
   "source": [
    "Bhatt_dist_df_merge_calc=Bhatt_dist_df_merge.loc[:,['Angle_used', 'Bhatt_distance', 'Image_type', 'Offset', \n",
    "                                                                       'Organ_1','Organ_2', 'Organ_type', 'Window_size']]"
   ]
  },
  {
   "cell_type": "code",
   "execution_count": null,
   "metadata": {
    "hidden": true
   },
   "outputs": [],
   "source": [
    "\n",
    "Bhatt_dist_median=Bhatt_dist_df_merge_calc.groupby(['Angle_used','Image_type','Offset',\n",
    "                                                  'Window_size','Organ_1','Organ_2']).std().reset_index()\n",
    "\n",
    "\n"
   ]
  },
  {
   "cell_type": "markdown",
   "metadata": {
    "heading_collapsed": true
   },
   "source": [
    "## Counting non zero values"
   ]
  },
  {
   "cell_type": "code",
   "execution_count": 115,
   "metadata": {
    "hidden": true
   },
   "outputs": [],
   "source": [
    "os.chdir(r'C:\\Users\\niall\\OneDrive\\Documents\\Data science masters\\Thesis\\Results\\Texture Results\\Aggregate_data\\SPREADSHEET\\WINDOW 7')"
   ]
  },
  {
   "cell_type": "code",
   "execution_count": 121,
   "metadata": {
    "hidden": true
   },
   "outputs": [],
   "source": [
    "Bhatt_dist_df_merge_calc_tmp=pd.read_excel('Bhattcharrya_dist_inter_org_sim_windsize_7.xlsx')"
   ]
  },
  {
   "cell_type": "code",
   "execution_count": 137,
   "metadata": {
    "hidden": true
   },
   "outputs": [
    {
     "data": {
      "text/html": [
       "<div>\n",
       "<style scoped>\n",
       "    .dataframe tbody tr th:only-of-type {\n",
       "        vertical-align: middle;\n",
       "    }\n",
       "\n",
       "    .dataframe tbody tr th {\n",
       "        vertical-align: top;\n",
       "    }\n",
       "\n",
       "    .dataframe thead th {\n",
       "        text-align: right;\n",
       "    }\n",
       "</style>\n",
       "<table border=\"1\" class=\"dataframe\">\n",
       "  <thead>\n",
       "    <tr style=\"text-align: right;\">\n",
       "      <th></th>\n",
       "      <th>Unnamed: 0</th>\n",
       "      <th>patient_id</th>\n",
       "      <th>Image_type</th>\n",
       "      <th>Organ_type</th>\n",
       "      <th>Slice_no</th>\n",
       "      <th>Window_size</th>\n",
       "      <th>Offset</th>\n",
       "      <th>Organ_type.1</th>\n",
       "      <th>Patch_id1</th>\n",
       "      <th>Patch_id2</th>\n",
       "      <th>Angle_used</th>\n",
       "      <th>Bhatt_distance</th>\n",
       "    </tr>\n",
       "  </thead>\n",
       "  <tbody>\n",
       "    <tr>\n",
       "      <th>0</th>\n",
       "      <td>0</td>\n",
       "      <td>20</td>\n",
       "      <td>T1Dual_InPhase</td>\n",
       "      <td>Background</td>\n",
       "      <td>10</td>\n",
       "      <td>7</td>\n",
       "      <td>0</td>\n",
       "      <td>Background</td>\n",
       "      <td>12741</td>\n",
       "      <td>13116</td>\n",
       "      <td>0</td>\n",
       "      <td>0.082509</td>\n",
       "    </tr>\n",
       "    <tr>\n",
       "      <th>1</th>\n",
       "      <td>1</td>\n",
       "      <td>20</td>\n",
       "      <td>T1Dual_InPhase</td>\n",
       "      <td>Background</td>\n",
       "      <td>10</td>\n",
       "      <td>7</td>\n",
       "      <td>0</td>\n",
       "      <td>Background</td>\n",
       "      <td>12741</td>\n",
       "      <td>13116</td>\n",
       "      <td>45</td>\n",
       "      <td>0.082509</td>\n",
       "    </tr>\n",
       "    <tr>\n",
       "      <th>2</th>\n",
       "      <td>2</td>\n",
       "      <td>20</td>\n",
       "      <td>T1Dual_InPhase</td>\n",
       "      <td>Background</td>\n",
       "      <td>10</td>\n",
       "      <td>7</td>\n",
       "      <td>0</td>\n",
       "      <td>Background</td>\n",
       "      <td>12741</td>\n",
       "      <td>13116</td>\n",
       "      <td>90</td>\n",
       "      <td>0.082509</td>\n",
       "    </tr>\n",
       "    <tr>\n",
       "      <th>3</th>\n",
       "      <td>3</td>\n",
       "      <td>20</td>\n",
       "      <td>T1Dual_InPhase</td>\n",
       "      <td>Background</td>\n",
       "      <td>10</td>\n",
       "      <td>7</td>\n",
       "      <td>0</td>\n",
       "      <td>Background</td>\n",
       "      <td>12741</td>\n",
       "      <td>13116</td>\n",
       "      <td>135</td>\n",
       "      <td>0.082509</td>\n",
       "    </tr>\n",
       "    <tr>\n",
       "      <th>4</th>\n",
       "      <td>4</td>\n",
       "      <td>20</td>\n",
       "      <td>T1Dual_InPhase</td>\n",
       "      <td>Background</td>\n",
       "      <td>10</td>\n",
       "      <td>7</td>\n",
       "      <td>0</td>\n",
       "      <td>Background</td>\n",
       "      <td>12741</td>\n",
       "      <td>14672</td>\n",
       "      <td>0</td>\n",
       "      <td>0.154151</td>\n",
       "    </tr>\n",
       "  </tbody>\n",
       "</table>\n",
       "</div>"
      ],
      "text/plain": [
       "   Unnamed: 0  patient_id      Image_type  Organ_type  Slice_no  Window_size  \\\n",
       "0           0          20  T1Dual_InPhase  Background        10            7   \n",
       "1           1          20  T1Dual_InPhase  Background        10            7   \n",
       "2           2          20  T1Dual_InPhase  Background        10            7   \n",
       "3           3          20  T1Dual_InPhase  Background        10            7   \n",
       "4           4          20  T1Dual_InPhase  Background        10            7   \n",
       "\n",
       "   Offset Organ_type.1  Patch_id1  Patch_id2  Angle_used  Bhatt_distance  \n",
       "0       0   Background      12741      13116           0        0.082509  \n",
       "1       0   Background      12741      13116          45        0.082509  \n",
       "2       0   Background      12741      13116          90        0.082509  \n",
       "3       0   Background      12741      13116         135        0.082509  \n",
       "4       0   Background      12741      14672           0        0.154151  "
      ]
     },
     "execution_count": 137,
     "metadata": {},
     "output_type": "execute_result"
    }
   ],
   "source": [
    "Bhatt_dist_df_merge_calc_tmp.head()"
   ]
  },
  {
   "cell_type": "code",
   "execution_count": 15,
   "metadata": {
    "hidden": true
   },
   "outputs": [],
   "source": [
    "\n",
    "def gen_perc_zero_df(Bhatt_dist_df_merge_calc,\n",
    "                    group_params=['Angle_used','Image_type','Offset',\n",
    "                                                      'Window_size','Organ_type.1'],\n",
    "                    index_values=['Angle_used','Image_type','Offset','Window_size','Organ_type.1']): #other parameters 'Organ_1','Organ_2'\n",
    "    \"\"\"The purpose of this method is to determine the % of non zero values Bhatt distance present\"\"\"\n",
    "    Bhatt_dist_df_merge_zero_val = Bhatt_dist_df_merge_calc.groupby(group_params).agg(lambda x: x.eq(0).sum())\n",
    "\n",
    "    Bhatt_dist_df_merge_nonzero_val = Bhatt_dist_df_merge_calc.groupby(group_params).agg(lambda x: x.ne(0).sum())\n",
    "\n",
    "    Bhatt_dist_df_merge_sum = Bhatt_dist_df_merge_calc.groupby(group_params).agg(lambda x: x.count())\n",
    "    \n",
    "    Bhatt_dist_df_merge_sum['Non_zero']=Bhatt_dist_df_merge_nonzero_val['Bhatt_distance']\n",
    "    Bhatt_dist_df_merge_sum['Zero']=Bhatt_dist_df_merge_zero_val['Bhatt_distance']\n",
    "\n",
    "    #Bhatt_dist_df_merge_sum.drop(['Organ_type'],inplace=True)\n",
    "    Bhatt_dist_df_merge_sum['Perc_nonzero']=Bhatt_dist_df_merge_sum['Non_zero']/Bhatt_dist_df_merge_sum['Bhatt_distance']\n",
    "    Bhatt_dist_df_merge_sum.reset_index(level=index_values, inplace=True)\n",
    "    \n",
    "    #Bhatt_dist_df_merge_sum['Median'] = Bhatt_dist_df_merge_calc.groupby(group_params).median()\n",
    "    Bhatt_dist_df_merge_sum_mean = Bhatt_dist_df_merge_calc.groupby(group_params).agg(lambda x: x.mean())\n",
    "    Bhatt_dist_df_merge_sum_mean.reset_index(inplace=True,drop=True)\n",
    "    print(Bhatt_dist_df_merge_sum_mean.head())\n",
    "    Bhatt_dist_df_merge_sum['Mean']=Bhatt_dist_df_merge_sum_mean\n",
    "        #Dropping unnessary columns\n",
    "    Column_vals=Bhatt_dist_df_merge_sum.columns.tolist()+['Mean','Median','Non_zero','Zero','Perc_nonzero']\n",
    "    Necessary_column_vals=['Bhatt_distance']+['Non_zero','Zero','Perc_nonzero']+group_params\n",
    "    #If column not present in necessary columns then drop it \n",
    "    Col_strip=[x for x in Column_vals if x not in Necessary_column_vals]\n",
    "    print(Col_strip)\n",
    "    Bhatt_dist_df_merge_sum.drop(Col_strip,axis=1,inplace=True)\n",
    "    \n",
    "    return Bhatt_dist_df_merge_sum"
   ]
  },
  {
   "cell_type": "code",
   "execution_count": 164,
   "metadata": {
    "hidden": true
   },
   "outputs": [
    {
     "name": "stdout",
     "output_type": "stream",
     "text": [
      "   Bhatt_distance     Patch_id1     Patch_id2  Slice_no    Unnamed: 0  \\\n",
      "0        0.324117  11647.315254  12845.593220  7.186441  26003.084746   \n",
      "1        0.348766  11317.220588  13515.144118  8.676471  31212.117647   \n",
      "2        0.302053  10950.364444  12766.231111  8.311111  28469.555556   \n",
      "3        0.138744  10396.000000  12156.453333  8.488889  27286.444444   \n",
      "4        0.805182   9669.850000  12636.750000  9.500000  48874.000000   \n",
      "\n",
      "   patient_id  \n",
      "0   11.254237  \n",
      "1    6.647059  \n",
      "2    9.422222  \n",
      "3   10.266667  \n",
      "4    3.000000  \n"
     ]
    },
    {
     "ename": "ValueError",
     "evalue": "Wrong number of items passed 6, placement implies 1",
     "output_type": "error",
     "traceback": [
      "\u001b[1;31m---------------------------------------------------------------------------\u001b[0m",
      "\u001b[1;31mKeyError\u001b[0m                                  Traceback (most recent call last)",
      "\u001b[1;32m~\\AppData\\Roaming\\Python\\Python36\\site-packages\\pandas\\core\\indexes\\base.py\u001b[0m in \u001b[0;36mget_loc\u001b[1;34m(self, key, method, tolerance)\u001b[0m\n\u001b[0;32m   2656\u001b[0m             \u001b[1;32mtry\u001b[0m\u001b[1;33m:\u001b[0m\u001b[1;33m\u001b[0m\u001b[0m\n\u001b[1;32m-> 2657\u001b[1;33m                 \u001b[1;32mreturn\u001b[0m \u001b[0mself\u001b[0m\u001b[1;33m.\u001b[0m\u001b[0m_engine\u001b[0m\u001b[1;33m.\u001b[0m\u001b[0mget_loc\u001b[0m\u001b[1;33m(\u001b[0m\u001b[0mkey\u001b[0m\u001b[1;33m)\u001b[0m\u001b[1;33m\u001b[0m\u001b[0m\n\u001b[0m\u001b[0;32m   2658\u001b[0m             \u001b[1;32mexcept\u001b[0m \u001b[0mKeyError\u001b[0m\u001b[1;33m:\u001b[0m\u001b[1;33m\u001b[0m\u001b[0m\n",
      "\u001b[1;32mpandas\\_libs\\index.pyx\u001b[0m in \u001b[0;36mpandas._libs.index.IndexEngine.get_loc\u001b[1;34m()\u001b[0m\n",
      "\u001b[1;32mpandas\\_libs\\index.pyx\u001b[0m in \u001b[0;36mpandas._libs.index.IndexEngine.get_loc\u001b[1;34m()\u001b[0m\n",
      "\u001b[1;32mpandas\\_libs\\hashtable_class_helper.pxi\u001b[0m in \u001b[0;36mpandas._libs.hashtable.PyObjectHashTable.get_item\u001b[1;34m()\u001b[0m\n",
      "\u001b[1;32mpandas\\_libs\\hashtable_class_helper.pxi\u001b[0m in \u001b[0;36mpandas._libs.hashtable.PyObjectHashTable.get_item\u001b[1;34m()\u001b[0m\n",
      "\u001b[1;31mKeyError\u001b[0m: 'Mean'",
      "\nDuring handling of the above exception, another exception occurred:\n",
      "\u001b[1;31mKeyError\u001b[0m                                  Traceback (most recent call last)",
      "\u001b[1;32m~\\AppData\\Roaming\\Python\\Python36\\site-packages\\pandas\\core\\internals\\managers.py\u001b[0m in \u001b[0;36mset\u001b[1;34m(self, item, value)\u001b[0m\n\u001b[0;32m   1052\u001b[0m         \u001b[1;32mtry\u001b[0m\u001b[1;33m:\u001b[0m\u001b[1;33m\u001b[0m\u001b[0m\n\u001b[1;32m-> 1053\u001b[1;33m             \u001b[0mloc\u001b[0m \u001b[1;33m=\u001b[0m \u001b[0mself\u001b[0m\u001b[1;33m.\u001b[0m\u001b[0mitems\u001b[0m\u001b[1;33m.\u001b[0m\u001b[0mget_loc\u001b[0m\u001b[1;33m(\u001b[0m\u001b[0mitem\u001b[0m\u001b[1;33m)\u001b[0m\u001b[1;33m\u001b[0m\u001b[0m\n\u001b[0m\u001b[0;32m   1054\u001b[0m         \u001b[1;32mexcept\u001b[0m \u001b[0mKeyError\u001b[0m\u001b[1;33m:\u001b[0m\u001b[1;33m\u001b[0m\u001b[0m\n",
      "\u001b[1;32m~\\AppData\\Roaming\\Python\\Python36\\site-packages\\pandas\\core\\indexes\\base.py\u001b[0m in \u001b[0;36mget_loc\u001b[1;34m(self, key, method, tolerance)\u001b[0m\n\u001b[0;32m   2658\u001b[0m             \u001b[1;32mexcept\u001b[0m \u001b[0mKeyError\u001b[0m\u001b[1;33m:\u001b[0m\u001b[1;33m\u001b[0m\u001b[0m\n\u001b[1;32m-> 2659\u001b[1;33m                 \u001b[1;32mreturn\u001b[0m \u001b[0mself\u001b[0m\u001b[1;33m.\u001b[0m\u001b[0m_engine\u001b[0m\u001b[1;33m.\u001b[0m\u001b[0mget_loc\u001b[0m\u001b[1;33m(\u001b[0m\u001b[0mself\u001b[0m\u001b[1;33m.\u001b[0m\u001b[0m_maybe_cast_indexer\u001b[0m\u001b[1;33m(\u001b[0m\u001b[0mkey\u001b[0m\u001b[1;33m)\u001b[0m\u001b[1;33m)\u001b[0m\u001b[1;33m\u001b[0m\u001b[0m\n\u001b[0m\u001b[0;32m   2660\u001b[0m         \u001b[0mindexer\u001b[0m \u001b[1;33m=\u001b[0m \u001b[0mself\u001b[0m\u001b[1;33m.\u001b[0m\u001b[0mget_indexer\u001b[0m\u001b[1;33m(\u001b[0m\u001b[1;33m[\u001b[0m\u001b[0mkey\u001b[0m\u001b[1;33m]\u001b[0m\u001b[1;33m,\u001b[0m \u001b[0mmethod\u001b[0m\u001b[1;33m=\u001b[0m\u001b[0mmethod\u001b[0m\u001b[1;33m,\u001b[0m \u001b[0mtolerance\u001b[0m\u001b[1;33m=\u001b[0m\u001b[0mtolerance\u001b[0m\u001b[1;33m)\u001b[0m\u001b[1;33m\u001b[0m\u001b[0m\n",
      "\u001b[1;32mpandas\\_libs\\index.pyx\u001b[0m in \u001b[0;36mpandas._libs.index.IndexEngine.get_loc\u001b[1;34m()\u001b[0m\n",
      "\u001b[1;32mpandas\\_libs\\index.pyx\u001b[0m in \u001b[0;36mpandas._libs.index.IndexEngine.get_loc\u001b[1;34m()\u001b[0m\n",
      "\u001b[1;32mpandas\\_libs\\hashtable_class_helper.pxi\u001b[0m in \u001b[0;36mpandas._libs.hashtable.PyObjectHashTable.get_item\u001b[1;34m()\u001b[0m\n",
      "\u001b[1;32mpandas\\_libs\\hashtable_class_helper.pxi\u001b[0m in \u001b[0;36mpandas._libs.hashtable.PyObjectHashTable.get_item\u001b[1;34m()\u001b[0m\n",
      "\u001b[1;31mKeyError\u001b[0m: 'Mean'",
      "\nDuring handling of the above exception, another exception occurred:\n",
      "\u001b[1;31mValueError\u001b[0m                                Traceback (most recent call last)",
      "\u001b[1;32m<ipython-input-164-3bbe3307971a>\u001b[0m in \u001b[0;36m<module>\u001b[1;34m()\u001b[0m\n\u001b[1;32m----> 1\u001b[1;33m \u001b[0mBhatt_non_zero_vals\u001b[0m\u001b[1;33m=\u001b[0m\u001b[0mgen_perc_zero_df\u001b[0m\u001b[1;33m(\u001b[0m\u001b[0mBhatt_dist_df_merge_calc\u001b[0m\u001b[1;33m)\u001b[0m\u001b[1;33m\u001b[0m\u001b[0m\n\u001b[0m\u001b[0;32m      2\u001b[0m \u001b[0mBhatt_non_zero_vals\u001b[0m\u001b[1;33m.\u001b[0m\u001b[0mhead\u001b[0m\u001b[1;33m(\u001b[0m\u001b[1;33m)\u001b[0m\u001b[1;33m\u001b[0m\u001b[0m\n",
      "\u001b[1;32m<ipython-input-163-b296c1f4132a>\u001b[0m in \u001b[0;36mgen_perc_zero_df\u001b[1;34m(Bhatt_dist_df_merge_calc, group_params, index_values)\u001b[0m\n\u001b[0;32m     22\u001b[0m     \u001b[0mBhatt_dist_df_merge_sum_mean\u001b[0m\u001b[1;33m.\u001b[0m\u001b[0mreset_index\u001b[0m\u001b[1;33m(\u001b[0m\u001b[0minplace\u001b[0m\u001b[1;33m=\u001b[0m\u001b[1;32mTrue\u001b[0m\u001b[1;33m,\u001b[0m\u001b[0mdrop\u001b[0m\u001b[1;33m=\u001b[0m\u001b[1;32mTrue\u001b[0m\u001b[1;33m)\u001b[0m\u001b[1;33m\u001b[0m\u001b[0m\n\u001b[0;32m     23\u001b[0m     \u001b[0mprint\u001b[0m\u001b[1;33m(\u001b[0m\u001b[0mBhatt_dist_df_merge_sum_mean\u001b[0m\u001b[1;33m.\u001b[0m\u001b[0mhead\u001b[0m\u001b[1;33m(\u001b[0m\u001b[1;33m)\u001b[0m\u001b[1;33m)\u001b[0m\u001b[1;33m\u001b[0m\u001b[0m\n\u001b[1;32m---> 24\u001b[1;33m     \u001b[0mBhatt_dist_df_merge_sum\u001b[0m\u001b[1;33m[\u001b[0m\u001b[1;34m'Mean'\u001b[0m\u001b[1;33m]\u001b[0m\u001b[1;33m=\u001b[0m\u001b[0mBhatt_dist_df_merge_sum_mean\u001b[0m\u001b[1;33m\u001b[0m\u001b[0m\n\u001b[0m\u001b[0;32m     25\u001b[0m         \u001b[1;31m#Dropping unnessary columns\u001b[0m\u001b[1;33m\u001b[0m\u001b[1;33m\u001b[0m\u001b[0m\n\u001b[0;32m     26\u001b[0m     \u001b[0mColumn_vals\u001b[0m\u001b[1;33m=\u001b[0m\u001b[0mBhatt_dist_df_merge_sum\u001b[0m\u001b[1;33m.\u001b[0m\u001b[0mcolumns\u001b[0m\u001b[1;33m.\u001b[0m\u001b[0mtolist\u001b[0m\u001b[1;33m(\u001b[0m\u001b[1;33m)\u001b[0m\u001b[1;33m+\u001b[0m\u001b[1;33m[\u001b[0m\u001b[1;34m'Mean'\u001b[0m\u001b[1;33m,\u001b[0m\u001b[1;34m'Median'\u001b[0m\u001b[1;33m,\u001b[0m\u001b[1;34m'Non_zero'\u001b[0m\u001b[1;33m,\u001b[0m\u001b[1;34m'Zero'\u001b[0m\u001b[1;33m,\u001b[0m\u001b[1;34m'Perc_nonzero'\u001b[0m\u001b[1;33m]\u001b[0m\u001b[1;33m\u001b[0m\u001b[0m\n",
      "\u001b[1;32m~\\AppData\\Roaming\\Python\\Python36\\site-packages\\pandas\\core\\frame.py\u001b[0m in \u001b[0;36m__setitem__\u001b[1;34m(self, key, value)\u001b[0m\n\u001b[0;32m   3368\u001b[0m         \u001b[1;32melse\u001b[0m\u001b[1;33m:\u001b[0m\u001b[1;33m\u001b[0m\u001b[0m\n\u001b[0;32m   3369\u001b[0m             \u001b[1;31m# set column\u001b[0m\u001b[1;33m\u001b[0m\u001b[1;33m\u001b[0m\u001b[0m\n\u001b[1;32m-> 3370\u001b[1;33m             \u001b[0mself\u001b[0m\u001b[1;33m.\u001b[0m\u001b[0m_set_item\u001b[0m\u001b[1;33m(\u001b[0m\u001b[0mkey\u001b[0m\u001b[1;33m,\u001b[0m \u001b[0mvalue\u001b[0m\u001b[1;33m)\u001b[0m\u001b[1;33m\u001b[0m\u001b[0m\n\u001b[0m\u001b[0;32m   3371\u001b[0m \u001b[1;33m\u001b[0m\u001b[0m\n\u001b[0;32m   3372\u001b[0m     \u001b[1;32mdef\u001b[0m \u001b[0m_setitem_slice\u001b[0m\u001b[1;33m(\u001b[0m\u001b[0mself\u001b[0m\u001b[1;33m,\u001b[0m \u001b[0mkey\u001b[0m\u001b[1;33m,\u001b[0m \u001b[0mvalue\u001b[0m\u001b[1;33m)\u001b[0m\u001b[1;33m:\u001b[0m\u001b[1;33m\u001b[0m\u001b[0m\n",
      "\u001b[1;32m~\\AppData\\Roaming\\Python\\Python36\\site-packages\\pandas\\core\\frame.py\u001b[0m in \u001b[0;36m_set_item\u001b[1;34m(self, key, value)\u001b[0m\n\u001b[0;32m   3444\u001b[0m         \u001b[0mself\u001b[0m\u001b[1;33m.\u001b[0m\u001b[0m_ensure_valid_index\u001b[0m\u001b[1;33m(\u001b[0m\u001b[0mvalue\u001b[0m\u001b[1;33m)\u001b[0m\u001b[1;33m\u001b[0m\u001b[0m\n\u001b[0;32m   3445\u001b[0m         \u001b[0mvalue\u001b[0m \u001b[1;33m=\u001b[0m \u001b[0mself\u001b[0m\u001b[1;33m.\u001b[0m\u001b[0m_sanitize_column\u001b[0m\u001b[1;33m(\u001b[0m\u001b[0mkey\u001b[0m\u001b[1;33m,\u001b[0m \u001b[0mvalue\u001b[0m\u001b[1;33m)\u001b[0m\u001b[1;33m\u001b[0m\u001b[0m\n\u001b[1;32m-> 3446\u001b[1;33m         \u001b[0mNDFrame\u001b[0m\u001b[1;33m.\u001b[0m\u001b[0m_set_item\u001b[0m\u001b[1;33m(\u001b[0m\u001b[0mself\u001b[0m\u001b[1;33m,\u001b[0m \u001b[0mkey\u001b[0m\u001b[1;33m,\u001b[0m \u001b[0mvalue\u001b[0m\u001b[1;33m)\u001b[0m\u001b[1;33m\u001b[0m\u001b[0m\n\u001b[0m\u001b[0;32m   3447\u001b[0m \u001b[1;33m\u001b[0m\u001b[0m\n\u001b[0;32m   3448\u001b[0m         \u001b[1;31m# check if we are modifying a copy\u001b[0m\u001b[1;33m\u001b[0m\u001b[1;33m\u001b[0m\u001b[0m\n",
      "\u001b[1;32m~\\AppData\\Roaming\\Python\\Python36\\site-packages\\pandas\\core\\generic.py\u001b[0m in \u001b[0;36m_set_item\u001b[1;34m(self, key, value)\u001b[0m\n\u001b[0;32m   3170\u001b[0m \u001b[1;33m\u001b[0m\u001b[0m\n\u001b[0;32m   3171\u001b[0m     \u001b[1;32mdef\u001b[0m \u001b[0m_set_item\u001b[0m\u001b[1;33m(\u001b[0m\u001b[0mself\u001b[0m\u001b[1;33m,\u001b[0m \u001b[0mkey\u001b[0m\u001b[1;33m,\u001b[0m \u001b[0mvalue\u001b[0m\u001b[1;33m)\u001b[0m\u001b[1;33m:\u001b[0m\u001b[1;33m\u001b[0m\u001b[0m\n\u001b[1;32m-> 3172\u001b[1;33m         \u001b[0mself\u001b[0m\u001b[1;33m.\u001b[0m\u001b[0m_data\u001b[0m\u001b[1;33m.\u001b[0m\u001b[0mset\u001b[0m\u001b[1;33m(\u001b[0m\u001b[0mkey\u001b[0m\u001b[1;33m,\u001b[0m \u001b[0mvalue\u001b[0m\u001b[1;33m)\u001b[0m\u001b[1;33m\u001b[0m\u001b[0m\n\u001b[0m\u001b[0;32m   3173\u001b[0m         \u001b[0mself\u001b[0m\u001b[1;33m.\u001b[0m\u001b[0m_clear_item_cache\u001b[0m\u001b[1;33m(\u001b[0m\u001b[1;33m)\u001b[0m\u001b[1;33m\u001b[0m\u001b[0m\n\u001b[0;32m   3174\u001b[0m \u001b[1;33m\u001b[0m\u001b[0m\n",
      "\u001b[1;32m~\\AppData\\Roaming\\Python\\Python36\\site-packages\\pandas\\core\\internals\\managers.py\u001b[0m in \u001b[0;36mset\u001b[1;34m(self, item, value)\u001b[0m\n\u001b[0;32m   1054\u001b[0m         \u001b[1;32mexcept\u001b[0m \u001b[0mKeyError\u001b[0m\u001b[1;33m:\u001b[0m\u001b[1;33m\u001b[0m\u001b[0m\n\u001b[0;32m   1055\u001b[0m             \u001b[1;31m# This item wasn't present, just insert at end\u001b[0m\u001b[1;33m\u001b[0m\u001b[1;33m\u001b[0m\u001b[0m\n\u001b[1;32m-> 1056\u001b[1;33m             \u001b[0mself\u001b[0m\u001b[1;33m.\u001b[0m\u001b[0minsert\u001b[0m\u001b[1;33m(\u001b[0m\u001b[0mlen\u001b[0m\u001b[1;33m(\u001b[0m\u001b[0mself\u001b[0m\u001b[1;33m.\u001b[0m\u001b[0mitems\u001b[0m\u001b[1;33m)\u001b[0m\u001b[1;33m,\u001b[0m \u001b[0mitem\u001b[0m\u001b[1;33m,\u001b[0m \u001b[0mvalue\u001b[0m\u001b[1;33m)\u001b[0m\u001b[1;33m\u001b[0m\u001b[0m\n\u001b[0m\u001b[0;32m   1057\u001b[0m             \u001b[1;32mreturn\u001b[0m\u001b[1;33m\u001b[0m\u001b[0m\n\u001b[0;32m   1058\u001b[0m \u001b[1;33m\u001b[0m\u001b[0m\n",
      "\u001b[1;32m~\\AppData\\Roaming\\Python\\Python36\\site-packages\\pandas\\core\\internals\\managers.py\u001b[0m in \u001b[0;36minsert\u001b[1;34m(self, loc, item, value, allow_duplicates)\u001b[0m\n\u001b[0;32m   1156\u001b[0m \u001b[1;33m\u001b[0m\u001b[0m\n\u001b[0;32m   1157\u001b[0m         block = make_block(values=value, ndim=self.ndim,\n\u001b[1;32m-> 1158\u001b[1;33m                            placement=slice(loc, loc + 1))\n\u001b[0m\u001b[0;32m   1159\u001b[0m \u001b[1;33m\u001b[0m\u001b[0m\n\u001b[0;32m   1160\u001b[0m         \u001b[1;32mfor\u001b[0m \u001b[0mblkno\u001b[0m\u001b[1;33m,\u001b[0m \u001b[0mcount\u001b[0m \u001b[1;32min\u001b[0m \u001b[0m_fast_count_smallints\u001b[0m\u001b[1;33m(\u001b[0m\u001b[0mself\u001b[0m\u001b[1;33m.\u001b[0m\u001b[0m_blknos\u001b[0m\u001b[1;33m[\u001b[0m\u001b[0mloc\u001b[0m\u001b[1;33m:\u001b[0m\u001b[1;33m]\u001b[0m\u001b[1;33m)\u001b[0m\u001b[1;33m:\u001b[0m\u001b[1;33m\u001b[0m\u001b[0m\n",
      "\u001b[1;32m~\\AppData\\Roaming\\Python\\Python36\\site-packages\\pandas\\core\\internals\\blocks.py\u001b[0m in \u001b[0;36mmake_block\u001b[1;34m(values, placement, klass, ndim, dtype, fastpath)\u001b[0m\n\u001b[0;32m   3093\u001b[0m         \u001b[0mvalues\u001b[0m \u001b[1;33m=\u001b[0m \u001b[0mDatetimeArray\u001b[0m\u001b[1;33m.\u001b[0m\u001b[0m_simple_new\u001b[0m\u001b[1;33m(\u001b[0m\u001b[0mvalues\u001b[0m\u001b[1;33m,\u001b[0m \u001b[0mdtype\u001b[0m\u001b[1;33m=\u001b[0m\u001b[0mdtype\u001b[0m\u001b[1;33m)\u001b[0m\u001b[1;33m\u001b[0m\u001b[0m\n\u001b[0;32m   3094\u001b[0m \u001b[1;33m\u001b[0m\u001b[0m\n\u001b[1;32m-> 3095\u001b[1;33m     \u001b[1;32mreturn\u001b[0m \u001b[0mklass\u001b[0m\u001b[1;33m(\u001b[0m\u001b[0mvalues\u001b[0m\u001b[1;33m,\u001b[0m \u001b[0mndim\u001b[0m\u001b[1;33m=\u001b[0m\u001b[0mndim\u001b[0m\u001b[1;33m,\u001b[0m \u001b[0mplacement\u001b[0m\u001b[1;33m=\u001b[0m\u001b[0mplacement\u001b[0m\u001b[1;33m)\u001b[0m\u001b[1;33m\u001b[0m\u001b[0m\n\u001b[0m\u001b[0;32m   3096\u001b[0m \u001b[1;33m\u001b[0m\u001b[0m\n\u001b[0;32m   3097\u001b[0m \u001b[1;33m\u001b[0m\u001b[0m\n",
      "\u001b[1;32m~\\AppData\\Roaming\\Python\\Python36\\site-packages\\pandas\\core\\internals\\blocks.py\u001b[0m in \u001b[0;36m__init__\u001b[1;34m(self, values, placement, ndim)\u001b[0m\n\u001b[0;32m     85\u001b[0m             raise ValueError(\n\u001b[0;32m     86\u001b[0m                 \u001b[1;34m'Wrong number of items passed {val}, placement implies '\u001b[0m\u001b[1;33m\u001b[0m\u001b[0m\n\u001b[1;32m---> 87\u001b[1;33m                 '{mgr}'.format(val=len(self.values), mgr=len(self.mgr_locs)))\n\u001b[0m\u001b[0;32m     88\u001b[0m \u001b[1;33m\u001b[0m\u001b[0m\n\u001b[0;32m     89\u001b[0m     \u001b[1;32mdef\u001b[0m \u001b[0m_check_ndim\u001b[0m\u001b[1;33m(\u001b[0m\u001b[0mself\u001b[0m\u001b[1;33m,\u001b[0m \u001b[0mvalues\u001b[0m\u001b[1;33m,\u001b[0m \u001b[0mndim\u001b[0m\u001b[1;33m)\u001b[0m\u001b[1;33m:\u001b[0m\u001b[1;33m\u001b[0m\u001b[0m\n",
      "\u001b[1;31mValueError\u001b[0m: Wrong number of items passed 6, placement implies 1"
     ]
    }
   ],
   "source": [
    "Bhatt_non_zero_vals=gen_perc_zero_df(Bhatt_dist_df_merge_calc)\n",
    "Bhatt_non_zero_vals.head()"
   ]
  },
  {
   "cell_type": "code",
   "execution_count": 140,
   "metadata": {
    "hidden": true
   },
   "outputs": [],
   "source": [
    "Bhatt_non_zero_vals.to_excel('Bhatt_dist_nonzero_counts_inter_org_win7.xlsx')"
   ]
  },
  {
   "cell_type": "code",
   "execution_count": 2,
   "metadata": {
    "hidden": true
   },
   "outputs": [],
   "source": [
    "os.chdir(r'C:\\Users\\niall\\OneDrive\\Documents\\Data science masters\\Thesis\\Results\\Texture Results\\Aggregate_data')"
   ]
  },
  {
   "cell_type": "code",
   "execution_count": 144,
   "metadata": {
    "hidden": true
   },
   "outputs": [],
   "source": [
    "output_file_path=r'C:\\Users\\niall\\OneDrive\\Documents\\Data science masters\\Thesis\\Results\\Texture Results\\Aggregate_data\\BOXPLOTS\\RUN3 WINDOW 7\\Inter_org_comp'"
   ]
  },
  {
   "cell_type": "code",
   "execution_count": 146,
   "metadata": {
    "hidden": true
   },
   "outputs": [],
   "source": [
    "\n",
    "\n",
    "def gen_boxplot_stat_visuals(Bhatt_dist_df_merge_sum,\n",
    "                             image_types,\n",
    "                             filter_params,\n",
    "                             dst_path,\n",
    "                            str_add='_perc_non_zero.jpeg'):\n",
    "    \n",
    "    \"\"\"The purpose of this method is to generate a staticial visualisations of Bhattacharya distance\"\"\"\n",
    "    \n",
    "    for imgs in images_types:\n",
    "        tmp_df=Bhatt_dist_df_merge_sum.loc[Bhatt_dist_df_merge_sum['Image_type']==imgs,:]\n",
    "\n",
    "        for params in filter_params:\n",
    "            ax = sns.boxplot(x=params, y=\"Perc_nonzero\", data=tmp_df)\n",
    "            file_name=imgs+'_'+params+str_add\n",
    "            file_name=os.path.join(dst_path,file_name)\n",
    "            ax.get_figure().savefig(file_name)\n",
    "            plt.clf()\n",
    "        "
   ]
  },
  {
   "cell_type": "code",
   "execution_count": 150,
   "metadata": {
    "hidden": true
   },
   "outputs": [
    {
     "data": {
      "text/plain": [
       "Index(['Angle_used', 'Image_type', 'Offset', 'Window_size', 'Organ_type.1',\n",
       "       'Bhatt_distance', 'Non_zero', 'Zero', 'Perc_nonzero'],\n",
       "      dtype='object')"
      ]
     },
     "execution_count": 150,
     "metadata": {},
     "output_type": "execute_result"
    }
   ],
   "source": [
    "Bhatt_non_zero_vals.columns"
   ]
  },
  {
   "cell_type": "code",
   "execution_count": 151,
   "metadata": {
    "hidden": true
   },
   "outputs": [],
   "source": [
    "images_types_info=Bhatt_non_zero_vals['Image_type'].unique()\n",
    "Other_parameters=['Angle_used','Offset','Window_size','Organ_type.1']"
   ]
  },
  {
   "cell_type": "code",
   "execution_count": 152,
   "metadata": {
    "hidden": true
   },
   "outputs": [
    {
     "data": {
      "text/plain": [
       "array(['T1Dual_InPhase', 'T1Dual_OutPhase', 'T2SPIR_data'], dtype=object)"
      ]
     },
     "execution_count": 152,
     "metadata": {},
     "output_type": "execute_result"
    }
   ],
   "source": [
    "images_types_info"
   ]
  },
  {
   "cell_type": "code",
   "execution_count": 154,
   "metadata": {
    "hidden": true
   },
   "outputs": [
    {
     "data": {
      "text/plain": [
       "<Figure size 432x288 with 0 Axes>"
      ]
     },
     "metadata": {},
     "output_type": "display_data"
    }
   ],
   "source": [
    "gen_boxplot_stat_visuals(Bhatt_non_zero_vals,images_types_info,Other_parameters,output_file_path)"
   ]
  },
  {
   "cell_type": "code",
   "execution_count": null,
   "metadata": {
    "hidden": true
   },
   "outputs": [],
   "source": []
  },
  {
   "cell_type": "code",
   "execution_count": null,
   "metadata": {
    "hidden": true
   },
   "outputs": [],
   "source": []
  },
  {
   "cell_type": "markdown",
   "metadata": {},
   "source": [
    "## Visual analysis of Bhattacharya distance between texture types as a function of image type."
   ]
  },
  {
   "cell_type": "code",
   "execution_count": 26,
   "metadata": {},
   "outputs": [
    {
     "data": {
      "text/plain": [
       "array(['T1Dual_InPhase', 'T1Dual_OutPhase', 'T2SPIR_data'], dtype=object)"
      ]
     },
     "execution_count": 26,
     "metadata": {},
     "output_type": "execute_result"
    }
   ],
   "source": [
    "Bhatt_dist_df_merge_calc['Image_type'].unique()"
   ]
  },
  {
   "cell_type": "code",
   "execution_count": 28,
   "metadata": {},
   "outputs": [],
   "source": [
    "Bhatt_dist_special=Bhatt_dist_df_merge_calc.loc[(Bhatt_dist_df_merge_calc['Image_type']=='T1Dual_OutPhase')&(Bhatt_dist_df_merge_calc['Offset']==0)&(Bhatt_dist_df_merge_calc['Offset']==0),:]"
   ]
  },
  {
   "cell_type": "raw",
   "metadata": {},
   "source": [
    "Bhatt_dist_special.loc[Bhatt_dist_special['Bhatt_distance']==0,'Bhatt_distance'].count()"
   ]
  },
  {
   "cell_type": "code",
   "execution_count": 54,
   "metadata": {},
   "outputs": [
    {
     "data": {
      "text/html": [
       "<div>\n",
       "<style scoped>\n",
       "    .dataframe tbody tr th:only-of-type {\n",
       "        vertical-align: middle;\n",
       "    }\n",
       "\n",
       "    .dataframe tbody tr th {\n",
       "        vertical-align: top;\n",
       "    }\n",
       "\n",
       "    .dataframe thead th {\n",
       "        text-align: right;\n",
       "    }\n",
       "</style>\n",
       "<table border=\"1\" class=\"dataframe\">\n",
       "  <thead>\n",
       "    <tr style=\"text-align: right;\">\n",
       "      <th></th>\n",
       "      <th>Unnamed: 0</th>\n",
       "      <th>Image_type</th>\n",
       "      <th>Organ_type</th>\n",
       "      <th>Slice_no</th>\n",
       "      <th>Window_size</th>\n",
       "      <th>Offset</th>\n",
       "      <th>Organ_1</th>\n",
       "      <th>Organ_2</th>\n",
       "      <th>window_size</th>\n",
       "      <th>window_size.1</th>\n",
       "      <th>Angle_used</th>\n",
       "      <th>Bhatt_distance</th>\n",
       "    </tr>\n",
       "  </thead>\n",
       "  <tbody>\n",
       "    <tr>\n",
       "      <th>34200</th>\n",
       "      <td>34200</td>\n",
       "      <td>T1Dual_OutPhase</td>\n",
       "      <td>Background</td>\n",
       "      <td>10</td>\n",
       "      <td>7</td>\n",
       "      <td>0</td>\n",
       "      <td>Background</td>\n",
       "      <td>Liver</td>\n",
       "      <td>7</td>\n",
       "      <td>7</td>\n",
       "      <td>0</td>\n",
       "      <td>0.591885</td>\n",
       "    </tr>\n",
       "    <tr>\n",
       "      <th>34201</th>\n",
       "      <td>34201</td>\n",
       "      <td>T1Dual_OutPhase</td>\n",
       "      <td>Background</td>\n",
       "      <td>10</td>\n",
       "      <td>7</td>\n",
       "      <td>0</td>\n",
       "      <td>Background</td>\n",
       "      <td>Liver</td>\n",
       "      <td>7</td>\n",
       "      <td>7</td>\n",
       "      <td>45</td>\n",
       "      <td>0.591885</td>\n",
       "    </tr>\n",
       "    <tr>\n",
       "      <th>34202</th>\n",
       "      <td>34202</td>\n",
       "      <td>T1Dual_OutPhase</td>\n",
       "      <td>Background</td>\n",
       "      <td>10</td>\n",
       "      <td>7</td>\n",
       "      <td>0</td>\n",
       "      <td>Background</td>\n",
       "      <td>Liver</td>\n",
       "      <td>7</td>\n",
       "      <td>7</td>\n",
       "      <td>90</td>\n",
       "      <td>0.591885</td>\n",
       "    </tr>\n",
       "    <tr>\n",
       "      <th>34203</th>\n",
       "      <td>34203</td>\n",
       "      <td>T1Dual_OutPhase</td>\n",
       "      <td>Background</td>\n",
       "      <td>10</td>\n",
       "      <td>7</td>\n",
       "      <td>0</td>\n",
       "      <td>Background</td>\n",
       "      <td>Liver</td>\n",
       "      <td>7</td>\n",
       "      <td>7</td>\n",
       "      <td>135</td>\n",
       "      <td>0.591885</td>\n",
       "    </tr>\n",
       "    <tr>\n",
       "      <th>34204</th>\n",
       "      <td>34204</td>\n",
       "      <td>T1Dual_OutPhase</td>\n",
       "      <td>Background</td>\n",
       "      <td>10</td>\n",
       "      <td>7</td>\n",
       "      <td>0</td>\n",
       "      <td>Background</td>\n",
       "      <td>Liver</td>\n",
       "      <td>7</td>\n",
       "      <td>7</td>\n",
       "      <td>0</td>\n",
       "      <td>1.241665</td>\n",
       "    </tr>\n",
       "  </tbody>\n",
       "</table>\n",
       "</div>"
      ],
      "text/plain": [
       "       Unnamed: 0       Image_type  Organ_type  Slice_no  Window_size  Offset  \\\n",
       "34200       34200  T1Dual_OutPhase  Background        10            7       0   \n",
       "34201       34201  T1Dual_OutPhase  Background        10            7       0   \n",
       "34202       34202  T1Dual_OutPhase  Background        10            7       0   \n",
       "34203       34203  T1Dual_OutPhase  Background        10            7       0   \n",
       "34204       34204  T1Dual_OutPhase  Background        10            7       0   \n",
       "\n",
       "          Organ_1 Organ_2  window_size  window_size.1  Angle_used  \\\n",
       "34200  Background   Liver            7              7           0   \n",
       "34201  Background   Liver            7              7          45   \n",
       "34202  Background   Liver            7              7          90   \n",
       "34203  Background   Liver            7              7         135   \n",
       "34204  Background   Liver            7              7           0   \n",
       "\n",
       "       Bhatt_distance  \n",
       "34200        0.591885  \n",
       "34201        0.591885  \n",
       "34202        0.591885  \n",
       "34203        0.591885  \n",
       "34204        1.241665  "
      ]
     },
     "execution_count": 54,
     "metadata": {},
     "output_type": "execute_result"
    }
   ],
   "source": [
    "Bhatt_dist_special.loc[(Bhatt_dist_special['Organ_1']=='Background')&(Bhatt_dist_special['Organ_2']=='Liver'),:].head()"
   ]
  },
  {
   "cell_type": "code",
   "execution_count": 48,
   "metadata": {},
   "outputs": [],
   "source": [
    "import itertools"
   ]
  },
  {
   "cell_type": "code",
   "execution_count": 68,
   "metadata": {},
   "outputs": [],
   "source": [
    "Combination_parameters=[Bhatt_dist_special['Angle_used'].unique().tolist(),\n",
    "                        Bhatt_dist_special['Organ_1'].unique().tolist(),\n",
    "                        Bhatt_dist_special['Organ_2'].unique().tolist()]\n",
    "\n",
    "Combo_1=list(itertools.product(*Combination_parameters))\n",
    "\n",
    "for vals in Combo_1:\n",
    "    \n",
    "    if vals[1]==vals[2]:\n",
    "        Combo_1.remove(vals)\n"
   ]
  },
  {
   "cell_type": "code",
   "execution_count": null,
   "metadata": {},
   "outputs": [],
   "source": [
    "Combo_1"
   ]
  },
  {
   "cell_type": "code",
   "execution_count": null,
   "metadata": {},
   "outputs": [],
   "source": [
    "for params in Combo_1:\n",
    "    tmp_df2=Bhatt_dist_special.loc[(Bhatt_dist_special['Angle_used']==params[0])&(Bhatt_dist_special['Organ_1']==params[1])&(Bhatt_dist_special['Organ_2']==params[2]),'Bhatt_distance']\n",
    "    tmp_df3=Bhatt_dist_special.loc[(Bhatt_dist_special['Angle_used']==params[0])&(Bhatt_dist_special['Organ_1']==params[2])&(Bhatt_dist_special['Organ_2']==params[1]),'Bhatt_distance']\n",
    "    tmp_df5=Bhatt_dist_special.loc[(Bhatt_dist_special['Organ_1']==params[2])&(Bhatt_dist_special['Organ_2']==params[1]),:]\n",
    "    tmp_df6=Bhatt_dist_special.loc[(Bhatt_dist_special['Organ_1']==params[1])&(Bhatt_dist_special['Organ_2']==params[2]),:]\n",
    "    \n",
    "    tmp_df4=pd.concat([tmp_df5,tmp_df6])\n",
    "    tmp_count1=tmp_df4[tmp_df4['Bhatt_distance']==0].count()[0]\n",
    "    tmp_count_nonzero=(tmp_df4.count()[0]-tmp_count1)/tmp_df4.count()[0]\n",
    "    tmp_count_zero=(tmp_count1)/tmp_df4.count()[0]\n",
    "    top=[('% non zero',tmp_count_nonzero),('% zero',tmp_count_zero)]\n",
    "    labels, ys = zip(*top)\n",
    "    xs = np.arange(len(labels)) \n",
    "    width = 1\n",
    "\n",
    "    fig = plt.figure()                                                               \n",
    "    ax = fig.gca()  #get current axes\n",
    "    ax.bar(xs, ys, width, align='center')\n",
    "\n",
    "    #Remove the default x-axis tick numbers and  \n",
    "    #use tick numbers of your own choosing:\n",
    "    ax.set_xticks(xs)\n",
    "    #Replace the tick numbers with strings:\n",
    "    ax.set_xticklabels(labels)\n",
    "    #Remove the default y-axis tick numbers and  \n",
    "    #use tick numbers of your own choosing:\n",
    "    ax.set_yticks(ys)\n",
    "    \n",
    "    \n",
    "    #ax = sns.distplot(tmp_df4, kde=False, rug=True);\n",
    "    #ax=sns.boxplot(x='Angle_used',y='Bhatt_distance',data=tmp_df4)\n",
    "    file_name=str(params[1])+'_'+str(params[2])+'_'+'_win7_OFS_0_T1DOPH_bar_perc_0.jpeg'\n",
    "    ax.get_figure().savefig(file_name)\n",
    "    plt.clf()"
   ]
  },
  {
   "cell_type": "code",
   "execution_count": 209,
   "metadata": {},
   "outputs": [],
   "source": [
    "Mean=pd.read_excel('Bhatt_Dist_mean_values.xlsx')\n",
    "Median=pd.read_excel('Bhatt_Dist_median_values.xlsx')\n",
    "Skew=pd.read_excel('Bhatt_Dist_skew_values.xlsx')\n",
    "Max=pd.read_excel('Bhatt_Dist_max_values.xlsx')\n",
    "Min=pd.read_excel('Bhatt_Dist_min_values.xlsx')\n",
    "Kurtosis=pd.read_excel('Bhatt_Dist_kurtosis_values.xlsx')\n",
    "Std_dev=pd.read_excel('Bhatt_Dist_stddev_values.xlsx')"
   ]
  },
  {
   "cell_type": "code",
   "execution_count": 212,
   "metadata": {
    "scrolled": true
   },
   "outputs": [
    {
     "data": {
      "text/html": [
       "<div>\n",
       "<style scoped>\n",
       "    .dataframe tbody tr th:only-of-type {\n",
       "        vertical-align: middle;\n",
       "    }\n",
       "\n",
       "    .dataframe tbody tr th {\n",
       "        vertical-align: top;\n",
       "    }\n",
       "\n",
       "    .dataframe thead th {\n",
       "        text-align: right;\n",
       "    }\n",
       "</style>\n",
       "<table border=\"1\" class=\"dataframe\">\n",
       "  <thead>\n",
       "    <tr style=\"text-align: right;\">\n",
       "      <th></th>\n",
       "      <th>Unnamed: 0</th>\n",
       "      <th>Angle_used</th>\n",
       "      <th>Image_type</th>\n",
       "      <th>Offset</th>\n",
       "      <th>Window_size</th>\n",
       "      <th>Organ_1</th>\n",
       "      <th>Organ_2</th>\n",
       "      <th>Bhatt_distance</th>\n",
       "      <th>Median</th>\n",
       "      <th>Max</th>\n",
       "      <th>Min</th>\n",
       "      <th>Kurtosis</th>\n",
       "      <th>Std_dev</th>\n",
       "      <th>Skew</th>\n",
       "    </tr>\n",
       "  </thead>\n",
       "  <tbody>\n",
       "    <tr>\n",
       "      <th>0</th>\n",
       "      <td>0</td>\n",
       "      <td>0</td>\n",
       "      <td>T1Dual_InPhase</td>\n",
       "      <td>0</td>\n",
       "      <td>3</td>\n",
       "      <td>Background</td>\n",
       "      <td>Liver</td>\n",
       "      <td>0.122095</td>\n",
       "      <td>0</td>\n",
       "      <td>1.098612</td>\n",
       "      <td>0</td>\n",
       "      <td>4.353486</td>\n",
       "      <td>0.307186</td>\n",
       "      <td>2.421082</td>\n",
       "    </tr>\n",
       "    <tr>\n",
       "      <th>1</th>\n",
       "      <td>1</td>\n",
       "      <td>0</td>\n",
       "      <td>T1Dual_InPhase</td>\n",
       "      <td>0</td>\n",
       "      <td>3</td>\n",
       "      <td>Background</td>\n",
       "      <td>l_kidney</td>\n",
       "      <td>0.123007</td>\n",
       "      <td>0</td>\n",
       "      <td>1.098612</td>\n",
       "      <td>0</td>\n",
       "      <td>4.326289</td>\n",
       "      <td>0.306186</td>\n",
       "      <td>2.404394</td>\n",
       "    </tr>\n",
       "    <tr>\n",
       "      <th>2</th>\n",
       "      <td>2</td>\n",
       "      <td>0</td>\n",
       "      <td>T1Dual_InPhase</td>\n",
       "      <td>0</td>\n",
       "      <td>3</td>\n",
       "      <td>Background</td>\n",
       "      <td>r_kidney</td>\n",
       "      <td>0.120762</td>\n",
       "      <td>0</td>\n",
       "      <td>1.098612</td>\n",
       "      <td>0</td>\n",
       "      <td>4.474279</td>\n",
       "      <td>0.304363</td>\n",
       "      <td>2.435491</td>\n",
       "    </tr>\n",
       "    <tr>\n",
       "      <th>3</th>\n",
       "      <td>3</td>\n",
       "      <td>0</td>\n",
       "      <td>T1Dual_InPhase</td>\n",
       "      <td>0</td>\n",
       "      <td>3</td>\n",
       "      <td>Background</td>\n",
       "      <td>spleen</td>\n",
       "      <td>0.122109</td>\n",
       "      <td>0</td>\n",
       "      <td>1.098612</td>\n",
       "      <td>0</td>\n",
       "      <td>4.196357</td>\n",
       "      <td>0.308569</td>\n",
       "      <td>2.394516</td>\n",
       "    </tr>\n",
       "    <tr>\n",
       "      <th>4</th>\n",
       "      <td>4</td>\n",
       "      <td>0</td>\n",
       "      <td>T1Dual_InPhase</td>\n",
       "      <td>0</td>\n",
       "      <td>3</td>\n",
       "      <td>Liver</td>\n",
       "      <td>l_kidney</td>\n",
       "      <td>0.108466</td>\n",
       "      <td>0</td>\n",
       "      <td>1.098612</td>\n",
       "      <td>0</td>\n",
       "      <td>5.546075</td>\n",
       "      <td>0.273389</td>\n",
       "      <td>2.584751</td>\n",
       "    </tr>\n",
       "  </tbody>\n",
       "</table>\n",
       "</div>"
      ],
      "text/plain": [
       "   Unnamed: 0  Angle_used      Image_type  Offset  Window_size     Organ_1  \\\n",
       "0           0           0  T1Dual_InPhase       0            3  Background   \n",
       "1           1           0  T1Dual_InPhase       0            3  Background   \n",
       "2           2           0  T1Dual_InPhase       0            3  Background   \n",
       "3           3           0  T1Dual_InPhase       0            3  Background   \n",
       "4           4           0  T1Dual_InPhase       0            3       Liver   \n",
       "\n",
       "    Organ_2  Bhatt_distance  Median       Max  Min  Kurtosis   Std_dev  \\\n",
       "0     Liver        0.122095       0  1.098612    0  4.353486  0.307186   \n",
       "1  l_kidney        0.123007       0  1.098612    0  4.326289  0.306186   \n",
       "2  r_kidney        0.120762       0  1.098612    0  4.474279  0.304363   \n",
       "3    spleen        0.122109       0  1.098612    0  4.196357  0.308569   \n",
       "4  l_kidney        0.108466       0  1.098612    0  5.546075  0.273389   \n",
       "\n",
       "       Skew  \n",
       "0  2.421082  \n",
       "1  2.404394  \n",
       "2  2.435491  \n",
       "3  2.394516  \n",
       "4  2.584751  "
      ]
     },
     "execution_count": 212,
     "metadata": {},
     "output_type": "execute_result"
    }
   ],
   "source": [
    "Bhatt_desc_stat=Mean\n",
    "Bhatt_desc_stat['Median']=Median['Bhatt_distance']\n",
    "Bhatt_desc_stat['Max']=Max['Bhatt_distance']\n",
    "Bhatt_desc_stat['Min']=Min['Bhatt_distance']\n",
    "Bhatt_desc_stat['Kurtosis']=Kurtosis['Bhatt_distance']\n",
    "Bhatt_desc_stat['Std_dev']=Std_dev['Bhatt_distance']\n",
    "Bhatt_desc_stat['Skew']=Skew['Bhatt_distance']\n",
    "Bhatt_desc_stat.head()\n",
    "\n"
   ]
  },
  {
   "cell_type": "markdown",
   "metadata": {},
   "source": [
    "## Sub set heatmap generation:"
   ]
  },
  {
   "cell_type": "markdown",
   "metadata": {},
   "source": [
    "### Functions"
   ]
  },
  {
   "cell_type": "code",
   "execution_count": null,
   "metadata": {},
   "outputs": [],
   "source": []
  },
  {
   "cell_type": "code",
   "execution_count": 27,
   "metadata": {},
   "outputs": [],
   "source": [
    "def blockshaped(arr, nrows, ncols):\n",
    "    \"\"\"\n",
    "    Return an array of shape (n, nrows, ncols) where\n",
    "    n * nrows * ncols = arr.size\n",
    "\n",
    "    If arr is a 2D array, the returned array should look like n subblocks with\n",
    "    each subblock preserving the \"physical\" layout of arr.\n",
    "    \"\"\"\n",
    "    h, w = arr.shape\n",
    "    assert h % nrows == 0, \"{} rows is not evenly divisble by {}\".format(h, nrows)\n",
    "    assert w % ncols == 0, \"{} cols is not evenly divisble by {}\".format(w, ncols)\n",
    "    return (arr.reshape(h//nrows, nrows, -1, ncols)\n",
    "               .swapaxes(1,2)\n",
    "               .reshape(-1, nrows, ncols))"
   ]
  },
  {
   "cell_type": "code",
   "execution_count": 28,
   "metadata": {},
   "outputs": [],
   "source": [
    "def agg_np_wrapper(arr_in,dim):\n",
    "    \"\"\"wrapper for 4 dimensional array\"\"\"\n",
    "    arr_dim=arr_in.shape[3]\n",
    "    merge_array=None\n",
    "    for i in range(0,arr_dim):\n",
    "        #print(i)\n",
    "        #print(arr_in.shape)\n",
    "        sqz_arr=np.squeeze(arr_in[:,:,:,i],2)\n",
    "        #print(sqz_arr.shape)\n",
    "        tmp_agg_blk=agg_np_arr(sqz_arr,dim,dim)\n",
    "    \n",
    "        if merge_array is None:\n",
    "            merge_array=tmp_agg_blk\n",
    "        else:\n",
    "            merge_array=np.dstack((merge_array,tmp_agg_blk))\n",
    "            \n",
    "    return merge_array\n",
    "        \n",
    "    \n",
    "        \n",
    "        "
   ]
  },
  {
   "cell_type": "code",
   "execution_count": 29,
   "metadata": {},
   "outputs": [],
   "source": [
    "def agg_np_arr(arr,r,c):\n",
    "    \"\"\"The purpose of this method is to split and aggregate a numpy array to produce a more coherenet representation\"\"\"\n",
    "    #Split array into compment parts\n",
    "    split_arr=blockshaped(arr,r,c)\n",
    "    \n",
    "    agg_list=[]\n",
    "    for blks in split_arr:\n",
    "        tmp_val=blks.sum()\n",
    "        agg_list.append(tmp_val)\n",
    "        \n",
    "    dim1=arr.shape[0]\n",
    "    \n",
    "    reshape_dim=int(math.sqrt((dim1*dim1)/(r*r)))\n",
    "    \n",
    "    final_array=np.array(agg_list)\n",
    "    \n",
    "    return final_array.reshape((reshape_dim,reshape_dim))\n",
    "    "
   ]
  },
  {
   "cell_type": "code",
   "execution_count": 37,
   "metadata": {},
   "outputs": [],
   "source": [
    "def gen_heatmap_subplot(df_input,\n",
    "                        offsets,\n",
    "                        window_size,\n",
    "                        sample_size=5,agg_arr_val=4):\n",
    "    \n",
    "    #Getting parameter combinations\n",
    "    subplot_num=1\n",
    "    \n",
    "    #No_combo=len(param_combo)\n",
    "\n",
    "    concat_array=None\n",
    "    for OFS in offsets:\n",
    "    \n",
    "        df_filter=df_input.loc[(df_input['Offset']==OFS)&(df_input['Window_size']==window_size),:]\n",
    "    \n",
    "        rand_sample=random.sample(range(0,df_filter.shape[1]-1),sample_size)\n",
    "        \n",
    "        empty_array=None\n",
    "        #Iterating through random sample and filtering data off. \n",
    "        for idx in rand_sample:\n",
    "            #print(df_filter.head())\n",
    "            org_comp_arr,org_anal_arr=sample_dfs(idx,df_filter,df_filter)\n",
    "            #print(org_comp_arr.shape)\n",
    "            #Generating cumulative sum histogram display\n",
    "            org_comp_arr=agg_np_wrapper(org_comp_arr,agg_arr_val)\n",
    "            \n",
    "            if empty_array is None:\n",
    "                empty_array=org_comp_arr\n",
    "            else:\n",
    "                empty_array=org_comp_arr#+empty_array)/2\n",
    "        #Iterating through the array for cooccurence matrices \n",
    "        print(empty_array.shape)\n",
    "        if concat_array is None:\n",
    "            concat_array=empty_array\n",
    "        else:\n",
    "            concat_array=np.dstack((concat_array,empty_array))\n",
    "    print(concat_array.shape) \n",
    "    fig = plt.figure(figsize = (20,20)) # width x height\n",
    "    ax1 = fig.add_subplot(3, 4, 1) # row, column, position\n",
    "    ax2 = fig.add_subplot(3, 4, 2)\n",
    "    ax3 = fig.add_subplot(3, 4, 3)\n",
    "    ax4 = fig.add_subplot(3, 4, 4)\n",
    "    ax5 = fig.add_subplot(3, 4, 5)\n",
    "    ax6 = fig.add_subplot(3, 4, 6)\n",
    "    ax7 = fig.add_subplot(3, 4, 7)\n",
    "    ax8 = fig.add_subplot(3, 4, 8)\n",
    "    ax9 = fig.add_subplot(3, 4, 9)\n",
    "    ax10 = fig.add_subplot(3, 4, 10)\n",
    "    ax11 = fig.add_subplot(3, 4, 11)\n",
    "    ax12 = fig.add_subplot(3, 4, 12)\n",
    "    # cmap = cmap,\n",
    "    sns.heatmap(data=concat_array[:,:,0], ax=ax1, square=True, cbar_kws={'shrink': .3}, annot=False)#, annot_kws={'fontsize': 12}\n",
    "    sns.heatmap(data=concat_array[:,:,1], ax=ax2, square=True, cbar_kws={'shrink': .3}, annot=False)\n",
    "    sns.heatmap(data=concat_array[:,:,2], ax=ax3, square=True, cbar_kws={'shrink': .3}, annot=False)\n",
    "    sns.heatmap(data=concat_array[:,:,3], ax=ax4, square=True, cbar_kws={'shrink': .3}, annot=False)\n",
    "    sns.heatmap(data=concat_array[:,:,4], ax=ax5, square=True, cbar_kws={'shrink': .3}, annot=False)\n",
    "    sns.heatmap(data=concat_array[:,:,5], ax=ax6, square=True, cbar_kws={'shrink': .3}, annot=False)\n",
    "    sns.heatmap(data=concat_array[:,:,6], ax=ax7, square=True, cbar_kws={'shrink': .3}, annot=False)\n",
    "    sns.heatmap(data=concat_array[:,:,7], ax=ax8, square=True, cbar_kws={'shrink': .3}, annot=False)\n",
    "    sns.heatmap(data=concat_array[:,:,8], ax=ax9, square=True, cbar_kws={'shrink': .3}, annot=False)\n",
    "    sns.heatmap(data=concat_array[:,:,9], ax=ax10, square=True, cbar_kws={'shrink': .3}, annot=False)\n",
    "    sns.heatmap(data=concat_array[:,:,10], ax=ax11, square=True, cbar_kws={'shrink': .3}, annot=False)\n",
    "    sns.heatmap(data=concat_array[:,:,11], ax=ax12, square=True, cbar_kws={'shrink': .3}, annot=False)\n",
    " \n",
    "    return concat_array\n"
   ]
  },
  {
   "cell_type": "code",
   "execution_count": 31,
   "metadata": {},
   "outputs": [],
   "source": [
    "uniq_images=GCLM_df['Image_type'].unique()\n",
    "uniq_orgns=GCLM_df['Organ_type'].unique()"
   ]
  },
  {
   "cell_type": "code",
   "execution_count": 39,
   "metadata": {},
   "outputs": [
    {
     "data": {
      "text/html": [
       "<div>\n",
       "<style scoped>\n",
       "    .dataframe tbody tr th:only-of-type {\n",
       "        vertical-align: middle;\n",
       "    }\n",
       "\n",
       "    .dataframe tbody tr th {\n",
       "        vertical-align: top;\n",
       "    }\n",
       "\n",
       "    .dataframe thead th {\n",
       "        text-align: right;\n",
       "    }\n",
       "</style>\n",
       "<table border=\"1\" class=\"dataframe\">\n",
       "  <thead>\n",
       "    <tr style=\"text-align: right;\">\n",
       "      <th></th>\n",
       "      <th>Patient_id</th>\n",
       "      <th>Image_type</th>\n",
       "      <th>Organ_type</th>\n",
       "      <th>Slice_id</th>\n",
       "      <th>Patch_id</th>\n",
       "      <th>Window_size</th>\n",
       "      <th>Offset</th>\n",
       "      <th>File_name</th>\n",
       "    </tr>\n",
       "  </thead>\n",
       "  <tbody>\n",
       "    <tr>\n",
       "      <th>1155</th>\n",
       "      <td>20</td>\n",
       "      <td>T1Dual_InPhase</td>\n",
       "      <td>Liver</td>\n",
       "      <td>10</td>\n",
       "      <td>1044</td>\n",
       "      <td>9</td>\n",
       "      <td>0</td>\n",
       "      <td>Pat_id_20img_typ_T1Dual_InPhaseorg_Liver_slc_n...</td>\n",
       "    </tr>\n",
       "    <tr>\n",
       "      <th>1156</th>\n",
       "      <td>20</td>\n",
       "      <td>T1Dual_InPhase</td>\n",
       "      <td>Liver</td>\n",
       "      <td>10</td>\n",
       "      <td>1044</td>\n",
       "      <td>9</td>\n",
       "      <td>1</td>\n",
       "      <td>Pat_id_20img_typ_T1Dual_InPhaseorg_Liver_slc_n...</td>\n",
       "    </tr>\n",
       "    <tr>\n",
       "      <th>1157</th>\n",
       "      <td>20</td>\n",
       "      <td>T1Dual_InPhase</td>\n",
       "      <td>Liver</td>\n",
       "      <td>10</td>\n",
       "      <td>1044</td>\n",
       "      <td>9</td>\n",
       "      <td>2</td>\n",
       "      <td>Pat_id_20img_typ_T1Dual_InPhaseorg_Liver_slc_n...</td>\n",
       "    </tr>\n",
       "    <tr>\n",
       "      <th>1158</th>\n",
       "      <td>20</td>\n",
       "      <td>T1Dual_InPhase</td>\n",
       "      <td>Liver</td>\n",
       "      <td>10</td>\n",
       "      <td>11137</td>\n",
       "      <td>9</td>\n",
       "      <td>0</td>\n",
       "      <td>Pat_id_20img_typ_T1Dual_InPhaseorg_Liver_slc_n...</td>\n",
       "    </tr>\n",
       "    <tr>\n",
       "      <th>1159</th>\n",
       "      <td>20</td>\n",
       "      <td>T1Dual_InPhase</td>\n",
       "      <td>Liver</td>\n",
       "      <td>10</td>\n",
       "      <td>11137</td>\n",
       "      <td>9</td>\n",
       "      <td>1</td>\n",
       "      <td>Pat_id_20img_typ_T1Dual_InPhaseorg_Liver_slc_n...</td>\n",
       "    </tr>\n",
       "    <tr>\n",
       "      <th>1160</th>\n",
       "      <td>20</td>\n",
       "      <td>T1Dual_InPhase</td>\n",
       "      <td>Liver</td>\n",
       "      <td>10</td>\n",
       "      <td>11137</td>\n",
       "      <td>9</td>\n",
       "      <td>2</td>\n",
       "      <td>Pat_id_20img_typ_T1Dual_InPhaseorg_Liver_slc_n...</td>\n",
       "    </tr>\n",
       "    <tr>\n",
       "      <th>1161</th>\n",
       "      <td>20</td>\n",
       "      <td>T1Dual_InPhase</td>\n",
       "      <td>Liver</td>\n",
       "      <td>10</td>\n",
       "      <td>12761</td>\n",
       "      <td>9</td>\n",
       "      <td>0</td>\n",
       "      <td>Pat_id_20img_typ_T1Dual_InPhaseorg_Liver_slc_n...</td>\n",
       "    </tr>\n",
       "    <tr>\n",
       "      <th>1162</th>\n",
       "      <td>20</td>\n",
       "      <td>T1Dual_InPhase</td>\n",
       "      <td>Liver</td>\n",
       "      <td>10</td>\n",
       "      <td>12761</td>\n",
       "      <td>9</td>\n",
       "      <td>1</td>\n",
       "      <td>Pat_id_20img_typ_T1Dual_InPhaseorg_Liver_slc_n...</td>\n",
       "    </tr>\n",
       "    <tr>\n",
       "      <th>1163</th>\n",
       "      <td>20</td>\n",
       "      <td>T1Dual_InPhase</td>\n",
       "      <td>Liver</td>\n",
       "      <td>10</td>\n",
       "      <td>12761</td>\n",
       "      <td>9</td>\n",
       "      <td>2</td>\n",
       "      <td>Pat_id_20img_typ_T1Dual_InPhaseorg_Liver_slc_n...</td>\n",
       "    </tr>\n",
       "    <tr>\n",
       "      <th>1164</th>\n",
       "      <td>20</td>\n",
       "      <td>T1Dual_InPhase</td>\n",
       "      <td>Liver</td>\n",
       "      <td>10</td>\n",
       "      <td>1442</td>\n",
       "      <td>9</td>\n",
       "      <td>0</td>\n",
       "      <td>Pat_id_20img_typ_T1Dual_InPhaseorg_Liver_slc_n...</td>\n",
       "    </tr>\n",
       "  </tbody>\n",
       "</table>\n",
       "</div>"
      ],
      "text/plain": [
       "     Patient_id      Image_type Organ_type Slice_id Patch_id Window_size  \\\n",
       "1155         20  T1Dual_InPhase      Liver       10     1044           9   \n",
       "1156         20  T1Dual_InPhase      Liver       10     1044           9   \n",
       "1157         20  T1Dual_InPhase      Liver       10     1044           9   \n",
       "1158         20  T1Dual_InPhase      Liver       10    11137           9   \n",
       "1159         20  T1Dual_InPhase      Liver       10    11137           9   \n",
       "1160         20  T1Dual_InPhase      Liver       10    11137           9   \n",
       "1161         20  T1Dual_InPhase      Liver       10    12761           9   \n",
       "1162         20  T1Dual_InPhase      Liver       10    12761           9   \n",
       "1163         20  T1Dual_InPhase      Liver       10    12761           9   \n",
       "1164         20  T1Dual_InPhase      Liver       10     1442           9   \n",
       "\n",
       "      Offset                                          File_name  \n",
       "1155       0  Pat_id_20img_typ_T1Dual_InPhaseorg_Liver_slc_n...  \n",
       "1156       1  Pat_id_20img_typ_T1Dual_InPhaseorg_Liver_slc_n...  \n",
       "1157       2  Pat_id_20img_typ_T1Dual_InPhaseorg_Liver_slc_n...  \n",
       "1158       0  Pat_id_20img_typ_T1Dual_InPhaseorg_Liver_slc_n...  \n",
       "1159       1  Pat_id_20img_typ_T1Dual_InPhaseorg_Liver_slc_n...  \n",
       "1160       2  Pat_id_20img_typ_T1Dual_InPhaseorg_Liver_slc_n...  \n",
       "1161       0  Pat_id_20img_typ_T1Dual_InPhaseorg_Liver_slc_n...  \n",
       "1162       1  Pat_id_20img_typ_T1Dual_InPhaseorg_Liver_slc_n...  \n",
       "1163       2  Pat_id_20img_typ_T1Dual_InPhaseorg_Liver_slc_n...  \n",
       "1164       0  Pat_id_20img_typ_T1Dual_InPhaseorg_Liver_slc_n...  "
      ]
     },
     "execution_count": 39,
     "metadata": {},
     "output_type": "execute_result"
    }
   ],
   "source": [
    "Test_df[:10]"
   ]
  },
  {
   "cell_type": "code",
   "execution_count": 44,
   "metadata": {},
   "outputs": [
    {
     "data": {
      "text/plain": [
       "'Pat_id_20img_typ_T1Dual_InPhaseorg_l_kidney_slc_no_10patch_no10418_WindS_9_OFS_1_4_ang_set.pickle'"
      ]
     },
     "execution_count": 44,
     "metadata": {},
     "output_type": "execute_result"
    }
   ],
   "source": [
    "test_file=Test_df.iloc[1,-1]\n",
    "test_file"
   ]
  },
  {
   "cell_type": "code",
   "execution_count": 59,
   "metadata": {},
   "outputs": [
    {
     "data": {
      "text/plain": [
       "(256, 256)"
      ]
     },
     "execution_count": 59,
     "metadata": {},
     "output_type": "execute_result"
    }
   ],
   "source": [
    "trl_arr=sample_single_dfs(7,Test_df)\n",
    "trl_arr2=np.squeeze(trl_arr[:,:,:,0],2)\n",
    "trl_arr2.shape"
   ]
  },
  {
   "cell_type": "code",
   "execution_count": 61,
   "metadata": {},
   "outputs": [
    {
     "data": {
      "text/plain": [
       "(array([0.        , 0.00694444, 0.01388889, 0.03472222, 0.06944444,\n",
       "        0.11111111, 0.16666667, 0.25      ]),\n",
       " array([65520,     4,     2,     2,     5,     1,     1,     1],\n",
       "       dtype=int64))"
      ]
     },
     "execution_count": 61,
     "metadata": {},
     "output_type": "execute_result"
    }
   ],
   "source": [
    "np.unique(trl_arr2,return_counts=True)"
   ]
  },
  {
   "cell_type": "code",
   "execution_count": 60,
   "metadata": {},
   "outputs": [
    {
     "data": {
      "text/plain": [
       "<matplotlib.axes._subplots.AxesSubplot at 0x2018c5dffd0>"
      ]
     },
     "execution_count": 60,
     "metadata": {},
     "output_type": "execute_result"
    },
    {
     "data": {
      "image/png": "[encoded data removed]",
      "text/plain": [
       "<Figure size 432x288 with 2 Axes>"
      ]
     },
     "metadata": {
      "needs_background": "light"
     },
     "output_type": "display_data"
    }
   ],
   "source": [
    "\n",
    "sns.heatmap(data=trl_arr2, square=True, cbar_kws={'shrink': .3}, annot=False)"
   ]
  },
  {
   "cell_type": "code",
   "execution_count": null,
   "metadata": {},
   "outputs": [],
   "source": []
  },
  {
   "cell_type": "code",
   "execution_count": 40,
   "metadata": {},
   "outputs": [],
   "source": [
    "Patient_id=GCLM_df['Patient_id'].unique()\n",
    "Slice_id=GCLM_df.loc[(GCLM_df['Patient_id']==Patient_id[0])&(GCLM_df['Image_type']==uniq_images[0])&(GCLM_df['Organ_type']==uniq_orgns[1]),'Slice_id'].unique()\n",
    "Test_df=GCLM_df.loc[(GCLM_df['Patient_id']==Patient_id[0])&(GCLM_df['Image_type']==uniq_images[0])&(GCLM_df['Organ_type']==uniq_orgns[2])&(GCLM_df['Slice_id']==Slice_id[0]),:]"
   ]
  },
  {
   "cell_type": "code",
   "execution_count": 41,
   "metadata": {},
   "outputs": [
    {
     "name": "stdout",
     "output_type": "stream",
     "text": [
      "(64, 64, 4)\n",
      "(64, 64, 4)\n",
      "(64, 64, 4)\n",
      "(64, 64, 12)\n"
     ]
    },
    {
     "data": {
      "image/png": "[encoded data removed]",
      "text/plain": [
       "<Figure size 1440x1440 with 24 Axes>"
      ]
     },
     "metadata": {
      "needs_background": "light"
     },
     "output_type": "display_data"
    }
   ],
   "source": [
    "trl_arr_tmp=gen_heatmap_subplot(Test_df,\n",
    "                        [0,1,2],\n",
    "                        '9',sample_size=5)"
   ]
  },
  {
   "cell_type": "code",
   "execution_count": null,
   "metadata": {},
   "outputs": [],
   "source": []
  }
 ],
 "metadata": {
  "kernelspec": {
   "display_name": "Python 3",
   "language": "python",
   "name": "python3"
  },
  "language_info": {
   "codemirror_mode": {
    "name": "ipython",
    "version": 3
   },
   "file_extension": ".py",
   "mimetype": "text/x-python",
   "name": "python",
   "nbconvert_exporter": "python",
   "pygments_lexer": "ipython3",
   "version": "3.6.4"
  },
  "toc": {
   "base_numbering": 1,
   "nav_menu": {},
   "number_sections": true,
   "sideBar": true,
   "skip_h1_title": false,
   "title_cell": "Table of Contents",
   "title_sidebar": "Contents",
   "toc_cell": true,
   "toc_position": {},
   "toc_section_display": true,
   "toc_window_display": false
  }
 },
 "nbformat": 4,
 "nbformat_minor": 2
}
