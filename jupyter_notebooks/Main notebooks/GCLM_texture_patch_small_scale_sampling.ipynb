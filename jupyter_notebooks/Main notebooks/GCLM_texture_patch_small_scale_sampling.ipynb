{
 "cells": [
  {
   "cell_type": "markdown",
   "metadata": {
    "toc": true
   },
   "source": [
    "<h1>Table of Contents<span class=\"tocSkip\"></span></h1>\n",
    "<div class=\"toc\"><ul class=\"toc-item\"><li><span><a href=\"#Organ-manual-/semi-manual-sub-sampling\" data-toc-modified-id=\"Organ-manual-/semi-manual-sub-sampling-1\"><span class=\"toc-item-num\">1&nbsp;&nbsp;</span>Organ manual /semi manual sub sampling</a></span></li><li><span><a href=\"#Create-texture-SKlearn-shit-approach\" data-toc-modified-id=\"Create-texture-SKlearn-shit-approach-2\"><span class=\"toc-item-num\">2&nbsp;&nbsp;</span>Create texture SKlearn shit approach</a></span></li><li><span><a href=\"#Manual-organ-to-organ-comparison\" data-toc-modified-id=\"Manual-organ-to-organ-comparison-3\"><span class=\"toc-item-num\">3&nbsp;&nbsp;</span>Manual organ to organ comparison</a></span></li><li><span><a href=\"#Manual-organ-to-organ-comparison\" data-toc-modified-id=\"Manual-organ-to-organ-comparison-4\"><span class=\"toc-item-num\">4&nbsp;&nbsp;</span>Manual organ to organ comparison</a></span></li><li><span><a href=\"#Grey-level-quantization-from-256-to-32-bit-level\" data-toc-modified-id=\"Grey-level-quantization-from-256-to-32-bit-level-5\"><span class=\"toc-item-num\">5&nbsp;&nbsp;</span>Grey level quantization from 256 to 32 bit level</a></span></li><li><span><a href=\"#Patch-extraction-function\" data-toc-modified-id=\"Patch-extraction-function-6\"><span class=\"toc-item-num\">6&nbsp;&nbsp;</span>Patch extraction function</a></span></li><li><span><a href=\"#Extracting-patches-from-image\" data-toc-modified-id=\"Extracting-patches-from-image-7\"><span class=\"toc-item-num\">7&nbsp;&nbsp;</span>Extracting patches from image</a></span><ul class=\"toc-item\"><li><span><a href=\"#Extracting-background-patches-for-analysis\" data-toc-modified-id=\"Extracting-background-patches-for-analysis-7.1\"><span class=\"toc-item-num\">7.1&nbsp;&nbsp;</span>Extracting background patches for analysis</a></span></li></ul></li><li><span><a href=\"#Generate-GCLM-information.\" data-toc-modified-id=\"Generate-GCLM-information.-8\"><span class=\"toc-item-num\">8&nbsp;&nbsp;</span>Generate GCLM information.</a></span></li><li><span><a href=\"#Get-file-information-from-file-name-.\" data-toc-modified-id=\"Get-file-information-from-file-name-.-9\"><span class=\"toc-item-num\">9&nbsp;&nbsp;</span>Get file information from file name .</a></span></li><li><span><a href=\"#Distance-metrics-functions\" data-toc-modified-id=\"Distance-metrics-functions-10\"><span class=\"toc-item-num\">10&nbsp;&nbsp;</span>Distance metrics functions</a></span></li><li><span><a href=\"#Iterating-analysis-through-patches\" data-toc-modified-id=\"Iterating-analysis-through-patches-11\"><span class=\"toc-item-num\">11&nbsp;&nbsp;</span>Iterating analysis through patches</a></span></li><li><span><a href=\"#GCLM-patch-generation\" data-toc-modified-id=\"GCLM-patch-generation-12\"><span class=\"toc-item-num\">12&nbsp;&nbsp;</span>GCLM patch generation</a></span></li><li><span><a href=\"#Measure-Bhattcharrya-distance-between-values\" data-toc-modified-id=\"Measure-Bhattcharrya-distance-between-values-13\"><span class=\"toc-item-num\">13&nbsp;&nbsp;</span>Measure Bhattcharrya distance between values</a></span></li></ul></div>"
   ]
  },
  {
   "cell_type": "code",
   "execution_count": 241,
   "metadata": {},
   "outputs": [],
   "source": [
    "import os \n",
    "import cv2 \n",
    "import pandas as pd\n",
    "import numpy as np\n",
    "import imageio\n",
    "import matplotlib.pyplot as plt \n",
    "from skimage.feature import greycomatrix, greycoprops\n",
    "import seaborn as sns\n",
    "from sklearn.feature_extraction import image\n",
    "import random\n",
    "from scipy.spatial import distance\n",
    "import itertools\n",
    "import math\n",
    "from numba import jit\n",
    "from PIL import Image"
   ]
  },
  {
   "cell_type": "code",
   "execution_count": 3,
   "metadata": {},
   "outputs": [],
   "source": [
    "os.chdir(r'C:\\Users\\niall\\OneDrive\\Documents\\Data science masters\\Thesis\\Results\\EDA\\gnrl_info')"
   ]
  },
  {
   "cell_type": "code",
   "execution_count": 4,
   "metadata": {},
   "outputs": [],
   "source": [
    "gnrl_info=pd.read_excel('gnrl_raw_data_info.xlsx')"
   ]
  },
  {
   "cell_type": "code",
   "execution_count": 5,
   "metadata": {},
   "outputs": [],
   "source": [
    "gnrl_info_spec=gnrl_info[['Person_id','Slice_id','File_location','Image_type','MR_modes']]\n"
   ]
  },
  {
   "cell_type": "markdown",
   "metadata": {},
   "source": [
    "## Organ manual /semi manual sub sampling "
   ]
  },
  {
   "cell_type": "code",
   "execution_count": 307,
   "metadata": {},
   "outputs": [
    {
     "name": "stdout",
     "output_type": "stream",
     "text": [
      "/home/ubuntu/projects/Texture GCLM/data/1/\n",
      "/home/ubuntu/projects/Texture GCLM/data/1/T2SPIR\n",
      "/home/ubuntu/projects/Texture GCLM/data/1/T2SPIR/DICOM_anon\n",
      "/home/ubuntu/projects/Texture GCLM/data/1/T2SPIR/Ground\n",
      "/home/ubuntu/projects/Texture GCLM/data/1/T1DUAL\n",
      "/home/ubuntu/projects/Texture GCLM/data/1/T1DUAL/DICOM_anon\n",
      "/home/ubuntu/projects/Texture GCLM/data/1/T1DUAL/DICOM_anon/OutPhase\n",
      "/home/ubuntu/projects/Texture GCLM/data/1/T1DUAL/DICOM_anon/InPhase\n",
      "/home/ubuntu/projects/Texture GCLM/data/1/T1DUAL/Ground\n"
     ]
    }
   ],
   "source": [
    "file_list_real='/home/ubuntu/projects/Texture GCLM/data/22/'\n",
    "file_list_abs_T2spir_grnd=[]\n",
    "file_list_abs_T2spir_real=[]\n",
    "file_list_abs_T1dual_grnd=[]\n",
    "file_list_abs_T1dual_inphase_real=[]\n",
    "file_list_abs_T1dual_outphase_real=[]\n",
    "\n",
    "\n",
    "for subdir,dirs,file_list in os.walk(file_list_real):\n",
    "    print(subdir)\n",
    "    try:\n",
    "        os.path.isfile(file[0])\n",
    "        for file in file_list:\n",
    "            if subdir.find('Ground')!=-1 and subdir.find('T1DUAL')!=-1:\n",
    "                file_list_abs_T1dual_grnd.append(os.path.join(subdir,file))\n",
    "            elif subdir.find('Ground')!=-1 and subdir.find('T2SPIR')!=-1:\n",
    "                file_list_abs_T2spir_grnd.append(os.path.join(subdir,file))\n",
    "            elif subdir.find('InPhase')!=-1 and subdir.find('T1DUAL')!=-1:\n",
    "                file_list_abs_T1dual_inphase_real.append(os.path.join(subdir,file))\n",
    "            elif subdir.find('OutPhase')!=-1 and subdir.find('T1DUAL')!=-1:\n",
    "                file_list_abs_T1dual_outphase_real.append(os.path.join(subdir,file))\n",
    "            elif subdir.find('DICOM_anon')!=-1 and subdir.find('T2SPIR')!=-1:\n",
    "                file_list_abs_T2spir_real.append(os.path.join(subdir,file))\n",
    "            else:\n",
    "                print('file not found:',file)\n",
    "        \n",
    "    except IndexError as e:\n",
    "        print(' No files in directory: ',subdir)\n",
    "\n",
    "file_list_abs_T2spir_grnd=sorted(file_list_abs_T2spir_grnd)\n",
    "file_list_abs_T2spir_real=sorted(file_list_abs_T2spir_real)\n",
    "file_list_abs_T1dual_grnd=sorted(file_list_abs_T1dual_grnd)\n",
    "file_list_abs_T1dual_inphase_real=sorted(file_list_abs_T1dual_inphase_real)\n",
    "file_list_abs_T1dual_outphase_real=sorted(file_list_abs_T1dual_outphase_real)\n",
    "        \n",
    "    "
   ]
  },
  {
   "cell_type": "code",
   "execution_count": 496,
   "metadata": {},
   "outputs": [],
   "source": [
    "idx_slc=20\n",
    "\n",
    "trl_img_T1dual_grnd=imageio.imread(file_list_abs_T1dual_grnd[idx_slc])\n",
    "trl_img_T1dual_grnd_fname=os.path.splitext(os.path.basename(file_list_abs_T1dual_grnd[idx_slc]))[0]\n",
    "\n",
    "trl_img_T2SPIR_grnd=imageio.imread(file_list_abs_T2spir_grnd[idx_slc])\n",
    "trl_img_T2SPIR_grnd_fname=os.path.splitext(os.path.basename(file_list_abs_T2spir_grnd[idx_slc]))[0]\n",
    "\n",
    "trl_img_T2SPIR_real=imageio.imread(file_list_abs_T2spir_real[idx_slc])\n",
    "trl_img_T2SPIR_real_fname=os.path.splitext(os.path.basename(file_list_abs_T2spir_real[idx_slc]))[0]\n",
    "\n",
    "trl_img_T1dual_inphase_real=imageio.imread(file_list_abs_T1dual_inphase_real[idx_slc])\n",
    "trl_img_T1dual_inphase_real_fname=os.path.splitext(os.path.basename(file_list_abs_T1dual_inphase_real[idx_slc]))[0]\n",
    "\n",
    "trl_img_T1dual_outphase_real=imageio.imread(file_list_abs_T1dual_outphase_real[idx_slc])\n",
    "trl_img_T1dual_outphase_real_fname=os.path.splitext(os.path.basename(file_list_abs_T1dual_outphase_real[idx_slc]))[0]"
   ]
  },
  {
   "cell_type": "code",
   "execution_count": 497,
   "metadata": {},
   "outputs": [],
   "source": [
    "def get_mask_patch_arrays(trl_img_grnd,trl_img_real):\n",
    "    \n",
    "    contours,hierarchy =cv2.findContours(trl_img_grnd,\n",
    "                                         cv2.RETR_LIST,\n",
    "                                         cv2.CHAIN_APPROX_SIMPLE)\n",
    "    mask_intensities={0:'Background',63:'Liver',126:'r_kidney',189:'l_kidney',252:'spleen'}\n",
    "    grnd_dict={}\n",
    "    act_dict={}\n",
    "    for vals in contours:\n",
    "        x, y, w, h= cv2.boundingRect(vals)\n",
    "        \n",
    "        trl_array=np.unique(trl_img_grnd[y:y+h,x:x+w])\n",
    "        print(trl_array)\n",
    "        name_str=''\n",
    "        \n",
    "        for vals in trl_array:\n",
    "            name_str=name_str+'_'+mask_intensities[vals]\n",
    "            \n",
    "        grnd_dict[name_str]=trl_img_grnd[y:y+h,x:x+w]\n",
    "        act_dict[name_str]=trl_img_real[y:y+h,x:x+w]\n",
    "        \n",
    "    return (grnd_dict,act_dict)"
   ]
  },
  {
   "cell_type": "code",
   "execution_count": 514,
   "metadata": {},
   "outputs": [
    {
     "name": "stdout",
     "output_type": "stream",
     "text": [
      "[  0 189]\n",
      "[  0  63 126]\n",
      "[  0 252]\n",
      "[  0  63 126]\n"
     ]
    }
   ],
   "source": [
    "grnd_patch,img_patch=get_mask_patch_arrays(trl_img_T1dual_grnd,trl_img_T1dual_inphase_real)"
   ]
  },
  {
   "cell_type": "code",
   "execution_count": null,
   "metadata": {},
   "outputs": [],
   "source": [
    "plt.imshow(trl_img_T1dual_grnd[100:150,103:150])"
   ]
  },
  {
   "cell_type": "code",
   "execution_count": 515,
   "metadata": {},
   "outputs": [],
   "source": [
    "write_img(trl_img_T1dual_inphase_real_fname,\n",
    "          'background',\n",
    "          't1dual_inphase.png',\n",
    "          trl_img_T1dual_inphase_real[100:150,103:150])\n"
   ]
  },
  {
   "cell_type": "code",
   "execution_count": 426,
   "metadata": {},
   "outputs": [],
   "source": [
    "def write_img(file_name,organ_name,file_src,img_array):\n",
    "    \n",
    "    plt.imsave(organ_name+file_name+file_src,img_array)"
   ]
  },
  {
   "cell_type": "code",
   "execution_count": null,
   "metadata": {},
   "outputs": [],
   "source": [
    "plt.imshow(grnd_patch['_Background_l_kidney'][5:15,2:25])\n",
    "np.unique(grnd_patch['_Background_l_kidney'][5:15,2:25])"
   ]
  },
  {
   "cell_type": "code",
   "execution_count": 516,
   "metadata": {},
   "outputs": [],
   "source": [
    "write_img(trl_img_T1dual_inphase_real_fname,\n",
    "          'l_kidney',\n",
    "          't1dual_inphase.png',\n",
    "          img_patch['_Background_l_kidney'][5:15,2:25])"
   ]
  },
  {
   "cell_type": "code",
   "execution_count": null,
   "metadata": {},
   "outputs": [],
   "source": [
    "plt.imshow(grnd_patch['_Background_Liver_r_kidney'][20:43,3:35])\n",
    "np.unique(grnd_patch['_Background_Liver_r_kidney'][20:43,3:35])"
   ]
  },
  {
   "cell_type": "code",
   "execution_count": 517,
   "metadata": {},
   "outputs": [],
   "source": [
    "write_img(trl_img_T1dual_inphase_real_fname,\n",
    "          'liver',\n",
    "          't1dual_inphase.png',\n",
    "          img_patch['_Background_Liver_r_kidney'][20:43,3:35])"
   ]
  },
  {
   "cell_type": "code",
   "execution_count": null,
   "metadata": {},
   "outputs": [],
   "source": [
    "plt.imshow(grnd_patch['_Background_Liver_r_kidney'][56:,20:])\n",
    "np.unique(grnd_patch['_Background_Liver_r_kidney'][56:,20:])"
   ]
  },
  {
   "cell_type": "code",
   "execution_count": 518,
   "metadata": {},
   "outputs": [],
   "source": [
    "write_img(trl_img_T1dual_inphase_real_fname,\n",
    "          '_r_kidney',\n",
    "          't1dual_inphase.png',\n",
    "          img_patch['_Background_Liver_r_kidney'][56:,20:])"
   ]
  },
  {
   "cell_type": "code",
   "execution_count": null,
   "metadata": {},
   "outputs": [],
   "source": [
    "plt.imshow(grnd_patch['_Background_spleen'][5:21,2:8])"
   ]
  },
  {
   "cell_type": "code",
   "execution_count": 519,
   "metadata": {},
   "outputs": [],
   "source": [
    "write_img(trl_img_T1dual_inphase_real_fname,\n",
    "          '_spleen',\n",
    "          't1dual_inphase.png',\n",
    "          img_patch['_Background_spleen'][5:21,2:8])"
   ]
  },
  {
   "cell_type": "code",
   "execution_count": 314,
   "metadata": {},
   "outputs": [],
   "source": [
    "mask_intensities={0:'Background',63:'Liver',126:'r_kidney',189:'l_kidney',252:'spleen'}"
   ]
  },
  {
   "cell_type": "code",
   "execution_count": 210,
   "metadata": {},
   "outputs": [
    {
     "data": {
      "text/plain": [
       "Image([63], dtype=uint8)"
      ]
     },
     "execution_count": 210,
     "metadata": {},
     "output_type": "execute_result"
    }
   ],
   "source": [
    "bnd_arr_1=bnd_arrays[0][2:13,4:28]\n",
    "bnd_arr_2=bnd_arrays[1][10:33,8:30]\n",
    "bnd_arr_3=bnd_arrays[2][6:20,3:9]\n",
    "bnd_arr_4=bnd_arrays[3][10:35,8:35]\n",
    "np.unique(bnd_arr_4)"
   ]
  },
  {
   "cell_type": "markdown",
   "metadata": {},
   "source": [
    "## Create texture SKlearn shit approach\n",
    "\n"
   ]
  },
  {
   "cell_type": "code",
   "execution_count": 5,
   "metadata": {},
   "outputs": [],
   "source": [
    "patch_sizes=[3,5]\n",
    "offset=[[0],[1],[2]]\n",
    "unused_angles=[180,225,270,315,360]\n",
    "angles=[0,45,90,135]\n",
    "#Radians values for grey co-occurence matrix. \n",
    "angles_radian=[(angs*np.pi)/180 for angs in angles]"
   ]
  },
  {
   "cell_type": "code",
   "execution_count": 6,
   "metadata": {},
   "outputs": [],
   "source": [
    "def gen_texture_img(img,offset,angles,patch_size):\n",
    "    \"\"\"The purpose of this method is to generate texture images wrt to different input parameters of the process\"\"\"\n",
    "    \n",
    "    patch_set = image.extract_patches_2d(img, (patch_size, patch_size))\n",
    "    \n",
    "    #Produce texture image mask to fill\n",
    "    text_img_dim=patch_set.shape[0]/2\n",
    "    text_img_mask=None\n",
    "\n",
    "    for patch_no in range(0,patch_set.shape[0]):\n",
    "        tmp_patch=patch_set[patch_no,:,:]\n",
    "        \n",
    "        grey_co_mat_cmds={'offset':offset,\n",
    "             'angles':[angles],\n",
    "             'levels':256,\n",
    "             'symmetric':True,\n",
    "             'normalised':True}\n",
    "        #ipdb.set_trace()\n",
    "        tmp_patch_gclm=gen_gclm(tmp_patch,**grey_co_mat_cmds)\n",
    "        #Defining indexing for inputing final image texture value\n",
    "        tmp_gclm_stats=np.array(gen_gclm_stats(tmp_patch_gclm))\n",
    "        tmp_gclm_stat_reshape=tmp_gclm_stats.reshape((1,1,6))\n",
    "        if type(text_img_mask)==type(None):\n",
    "            text_img_mask=tmp_gclm_stat_reshape\n",
    "        else:\n",
    "            text_img_mask=np.concatenate((text_img_mask,tmp_gclm_stat_reshape),axis=0)\n",
    "                                         \n",
    "    return text_img_mask\n",
    "    #Generating texture image\n"
   ]
  },
  {
   "cell_type": "code",
   "execution_count": 7,
   "metadata": {},
   "outputs": [],
   "source": [
    "imgs_modes=['t1dual','t2spir','inphase','outphase','dicom_anon','ground']\n",
    "\n",
    "file_dict={}\n",
    "for subdir,root,files in os.walk(os.getcwd()):\n",
    "\n",
    "    if len(files)!=0:\n",
    "        gt_img_name=[]\n",
    "        gt_img_name=[''.join(x) for x in imgs_modes if x in subdir.lower()]\n",
    "        #If two categories \n",
    "        if len(gt_img_name)>1:\n",
    "            \n",
    "            tmp_file_lst=[os.path.join(subdir,file) for file in files]\n",
    "            seperator = '_'\n",
    "            seperator =seperator.join(gt_img_name)\n",
    "            file_dict[seperator]=sorted(tmp_file_lst)\n"
   ]
  },
  {
   "cell_type": "code",
   "execution_count": 331,
   "metadata": {},
   "outputs": [
    {
     "data": {
      "text/plain": [
       "'C:\\\\Users\\\\niall\\\\OneDrive\\\\Documents\\\\Data science masters\\\\Thesis\\\\Biomedical images\\\\CHAOS_Train_Sets\\\\unpreproc\\\\MR\\\\1\\\\T2SPIR\\\\DICOM_anon\\\\IMG-0002-00019.dcm'"
      ]
     },
     "execution_count": 331,
     "metadata": {},
     "output_type": "execute_result"
    }
   ],
   "source": [
    "file_dict['t2spir_dicom_anon'][18]"
   ]
  },
  {
   "cell_type": "code",
   "execution_count": 344,
   "metadata": {},
   "outputs": [
    {
     "name": "stdout",
     "output_type": "stream",
     "text": [
      "C:\\Users\\niall\\OneDrive\\Documents\\Data science masters\\Thesis\\Biomedical images\\CHAOS_Train_Sets\\unpreproc\\MR\\1\\grey_lvls\n"
     ]
    }
   ],
   "source": [
    "cd grey_lvls"
   ]
  },
  {
   "cell_type": "code",
   "execution_count": null,
   "metadata": {},
   "outputs": [],
   "source": [
    "PIL_methods=[0,1,2]\n",
    "k_means=[0,1]\n",
    "grey_lvls=[16,32,64,128]\n",
    "\n",
    "final_concat_df=None\n",
    "#Iterating through images in file source \n",
    "for img_type,img_srcs in file_dict.items():\n",
    "    \n",
    "    if img_type.find('dicom_anon')!=-1:\n",
    "        #iterating through image sources\n",
    "        for val in img_srcs:\n",
    "            #Getting image for analysis\n",
    "            tmp_img_256=bytescaling(imageio.imread(val))\n",
    "            \n",
    "            summ_df,img_return_arr=assess_gry_lvl_meth(PIL_methods,k_means,grey_lvls,tmp_img_256)\n",
    "            \n",
    "            file_split_name=os.path.basename(val)\n",
    "            \n",
    "            file_name=os.path.splitext(file_split_name)[0]+'_'+img_type+'_'+'grey_levels'\n",
    "            summ_df['file_name']=file_split_name\n",
    "            summ_df['img_type']=img_type\n",
    "            \n",
    "            if final_concat_df is None:\n",
    "                final_concat_df=summ_df\n",
    "            else:\n",
    "                final_concat_df=final_concat_df.append(summ_df,ignore_index=True)\n",
    "            \n",
    "            np.save(file_name,img_return_arr)\n",
    "            \n",
    "            \n",
    "            \n",
    "        "
   ]
  },
  {
   "cell_type": "code",
   "execution_count": 364,
   "metadata": {},
   "outputs": [],
   "source": [
    "final_concat_df.to_excel('Pat1_grey_lvl_MAE_analysis_allimgtypes.xlsx')"
   ]
  },
  {
   "cell_type": "code",
   "execution_count": 366,
   "metadata": {},
   "outputs": [
    {
     "data": {
      "text/plain": [
       "(256, 256, 28)"
      ]
     },
     "execution_count": 366,
     "metadata": {},
     "output_type": "execute_result"
    }
   ],
   "source": [
    "trial_arr=np.load('IMG-0002-00019_t2spir_dicom_anon_grey_levels.npy')\n",
    "trial_arr.shape"
   ]
  },
  {
   "cell_type": "code",
   "execution_count": 367,
   "metadata": {},
   "outputs": [
    {
     "data": {
      "text/plain": [
       "array([ 0,  1,  2,  3,  4,  5,  6,  7,  8,  9, 10, 11, 12, 13, 14, 16],\n",
       "      dtype=uint8)"
      ]
     },
     "execution_count": 367,
     "metadata": {},
     "output_type": "execute_result"
    }
   ],
   "source": [
    "np.unique(trial_arr[:,:,0])"
   ]
  },
  {
   "cell_type": "code",
   "execution_count": 368,
   "metadata": {},
   "outputs": [
    {
     "data": {
      "text/plain": [
       "<matplotlib.image.AxesImage at 0x2b2814d91d0>"
      ]
     },
     "execution_count": 368,
     "metadata": {},
     "output_type": "execute_result"
    },
    {
     "data": {
      "image/png": "[encoded data removed]",
      "text/plain": [
       "<Figure size 432x288 with 1 Axes>"
      ]
     },
     "metadata": {
      "needs_background": "light"
     },
     "output_type": "display_data"
    }
   ],
   "source": [
    "plt.imshow(trial_arr[:,:,0])"
   ]
  },
  {
   "cell_type": "code",
   "execution_count": null,
   "metadata": {},
   "outputs": [],
   "source": []
  },
  {
   "cell_type": "code",
   "execution_count": 354,
   "metadata": {},
   "outputs": [
    {
     "data": {
      "image/png": "[encoded data removed]",
      "text/plain": [
       "<Figure size 544.625x360 with 1 Axes>"
      ]
     },
     "metadata": {
      "needs_background": "light"
     },
     "output_type": "display_data"
    }
   ],
   "source": [
    "sns.catplot(x='MAE', y='grey_lvl_set_meth', hue='img_type', kind=\"swarm\", data=final_concat_df);"
   ]
  },
  {
   "cell_type": "code",
   "execution_count": 355,
   "metadata": {},
   "outputs": [
    {
     "data": {
      "image/png": "[encoded data removed]",
      "text/plain": [
       "<Figure size 544.625x360 with 1 Axes>"
      ]
     },
     "metadata": {
      "needs_background": "light"
     },
     "output_type": "display_data"
    }
   ],
   "source": [
    "sns.catplot(x='MAE', y='grey_level', hue='img_type', kind=\"swarm\",\n",
    "            data=final_concat_df.loc[final_concat_df['grey_lvl_set_meth']=='IGS',:]);"
   ]
  },
  {
   "cell_type": "code",
   "execution_count": 350,
   "metadata": {},
   "outputs": [
    {
     "data": {
      "image/png": "[encoded data removed]",
      "text/plain": [
       "<Figure size 432x288 with 1 Axes>"
      ]
     },
     "metadata": {
      "needs_background": "light"
     },
     "output_type": "display_data"
    }
   ],
   "source": [
    "ax1=sns.boxplot(x='grey_lvl_set_meth',y='MAE',data=final_concat_df)"
   ]
  },
  {
   "cell_type": "code",
   "execution_count": 361,
   "metadata": {},
   "outputs": [
    {
     "data": {
      "text/plain": [
       "<seaborn.axisgrid.FacetGrid at 0x2b281289f28>"
      ]
     },
     "execution_count": 361,
     "metadata": {},
     "output_type": "execute_result"
    },
    {
     "data": {
      "text/plain": [
       "<Figure size 1440x1440 with 0 Axes>"
      ]
     },
     "metadata": {},
     "output_type": "display_data"
    },
    {
     "data": {
      "image/png": "[encoded data removed]",
      "text/plain": [
       "<Figure size 419.375x360 with 1 Axes>"
      ]
     },
     "metadata": {
      "needs_background": "light"
     },
     "output_type": "display_data"
    }
   ],
   "source": [
    "plt.figure(figsize=(20,20))\n",
    "ax1=sns.catplot(x='img_type',y='MAE',hue='grey_level',kind='boxen',\n",
    "                data=final_concat_df.loc[final_concat_df['grey_lvl_set_meth']=='IGS',:])\n",
    "ax1.set_xticklabels(['t1dual_inphase','t1dual_outphase','T2SPIR'],rotation=30, ha='right')"
   ]
  },
  {
   "cell_type": "code",
   "execution_count": 336,
   "metadata": {},
   "outputs": [],
   "source": [
    "\n",
    "def assess_gry_lvl_meth(PIL_methods,k_means,grey_lvls,tmp_img_256):\n",
    "    \"\"\"The purpose of this method is to perform gray level setting for image.\"\"\"\n",
    "    \n",
    "    final_arr=[]\n",
    "    img_arr=None\n",
    "    tmp_img_PIL_256=Image.fromarray(tmp_img_256)\n",
    "    \n",
    "    for grey_l in grey_lvls:\n",
    "            #IGS quantisation\n",
    "            IGS_tmp=quantize_igs(tmp_img_256, grey_l, qtype='igs', maxCount=255, displayLevels=None)\n",
    "            #Calc dist metrics\n",
    "            tmp_mse,tmp_mae=mse_mae_arr_based(tmp_img_256, IGS_tmp)\n",
    "\n",
    "            #Cal tmp dist metrics\n",
    "            tmp_key=['N/A',grey_l,'IGS',tmp_mse,tmp_mae]\n",
    "            #Get final array values\n",
    "            final_arr.append(tmp_key)\n",
    "\n",
    "            if img_arr is None:\n",
    "                img_arr=IGS_tmp\n",
    "            else:\n",
    "                img_arr=np.dstack((img_arr,IGS_tmp))\n",
    "                \n",
    "            final_arr,img_arr=PIL_grey_lvl_set(tmp_img_PIL_256,k_means,PIL_methods,\n",
    "                                               grey_l,img_arr,final_arr)\n",
    "\n",
    "\n",
    "    #Summary dataframe of results in grey level quantisation\n",
    "    summary_df=pd.DataFrame(final_arr,columns=['kmean_act','grey_level','grey_lvl_set_meth','MSE','MAE'])\n",
    "    \n",
    "    return (summary_df,img_arr)"
   ]
  },
  {
   "cell_type": "code",
   "execution_count": 293,
   "metadata": {},
   "outputs": [],
   "source": [
    "def PIL_grey_lvl_set(tmp_img_PIL_256,kmean_mth,PIL_mth,grey_l,img_arr,final_arr):\n",
    "    \"\"\"PIL best method for analysis of grey level setting quantization\"\"\"\n",
    "    tmp_img_256=np.array(tmp_img_PIL_256)\n",
    "    \n",
    "    for km in kmean_mth:\n",
    "        \n",
    "        for meth in PIL_mth:\n",
    "            \n",
    "            tmp_img=np.array(tmp_img_PIL_256.quantize(colors=grey_l, method=meth, kmeans=km))\n",
    "\n",
    "            tmp_mse,tmp_mae=mse_mae_arr_based(tmp_img_256, tmp_img)\n",
    "\n",
    "            tmp_key=[km,grey_l,meth,tmp_mse,tmp_mae]\n",
    "\n",
    "            img_arr=np.dstack((img_arr,tmp_img))\n",
    "            #Appending final array temporary keys\n",
    "            final_arr.append(tmp_key)\n",
    "            \n",
    "    return (final_arr,img_arr)"
   ]
  },
  {
   "cell_type": "code",
   "execution_count": null,
   "metadata": {},
   "outputs": [],
   "source": []
  },
  {
   "cell_type": "code",
   "execution_count": 397,
   "metadata": {},
   "outputs": [],
   "source": [
    "def offset(length, angle):\n",
    "    \"\"\"Return the offset in pixels for a given length and angle\"\"\"\n",
    "    dv = length * np.sign(-np.sin(angle)).astype(np.int32)\n",
    "    dh = length * np.sign(np.cos(angle)).astype(np.int32)\n",
    "    return dv, dh\n",
    "\n",
    "def crop(img, center, win):\n",
    "    \"\"\"Return a square crop of img centered at center (side = 2*win + 1)\"\"\"\n",
    "    row, col = center\n",
    "    side = 2*win + 1\n",
    "    first_row = row - win\n",
    "    first_col = col - win\n",
    "    last_row = first_row + side    \n",
    "    last_col = first_col + side\n",
    "    return img[first_row: last_row, first_col: last_col]\n",
    "\n",
    "def cooc_maps(img, center, win, d=[1], theta=[0], levels=256):\n",
    "    \"\"\"\n",
    "    Return a set of co-occurrence maps for different d and theta in a square \n",
    "    crop centered at center (side = 2*w + 1)\n",
    "    \"\"\"\n",
    "    shape = (2*win + 1, 2*win + 1, len(d), len(theta))\n",
    "    cooc = np.zeros(shape=shape, dtype=np.int32)\n",
    "    row, col = center\n",
    "    Ii = crop(img, (row, col), win)\n",
    "    for d_index, length in enumerate(d):\n",
    "        for a_index, angle in enumerate(theta):\n",
    "            dv, dh = offset(length, angle)\n",
    "            Ij = crop(img, center=(row + dv, col + dh), win=win)\n",
    "            cooc[:, :, d_index, a_index] = encode_cooccurrence(Ii, Ij, levels)\n",
    "    return cooc\n",
    "\n",
    "def encode_cooccurrence(x, y, levels=256):\n",
    "    \"\"\"Return the code corresponding to co-occurrence of intensities x and y\"\"\"\n",
    "    return x*levels + y\n",
    "\n",
    "def decode_cooccurrence(code, levels=256):\n",
    "    \"\"\"Return the intensities x, y corresponding to code\"\"\"\n",
    "    return code//levels, np.mod(code, levels)    \n",
    "\n",
    "def compute_glcms(cooccurrence_maps, levels=256):\n",
    "    \"\"\"Compute the cooccurrence frequencies of the cooccurrence maps\"\"\"\n",
    "    Nr, Na = cooccurrence_maps.shape[2:]\n",
    "    glcms = np.zeros(shape=(levels, levels, Nr, Na), dtype=np.float64)\n",
    "    for r in range(Nr):\n",
    "        for a in range(Na):\n",
    "            table = stats.itemfreq(cooccurrence_maps[:, :, r, a])\n",
    "            codes = table[:, 0]\n",
    "            freqs = table[:, 1]/float(table[:, 1].sum())\n",
    "            i, j = decode_cooccurrence(codes, levels=levels)\n",
    "            glcms[i, j, r, a] = freqs\n",
    "    return glcms\n",
    "\n",
    "def compute_props(glcms, props=('contrast',)):\n",
    "    \"\"\"Return a feature vector corresponding to a set of GLCM\"\"\"\n",
    "    Nr, Na = glcms.shape[2:]\n",
    "    features = np.zeros(shape=(Nr, Na, len(props)))\n",
    "    for index, prop_name in enumerate(props):\n",
    "        features[:, :, index] = greycoprops(glcms, prop_name)\n",
    "    return features.ravel()\n",
    "\n",
    "def haralick_features(img, win, d, theta, levels, props):\n",
    "    \"\"\"Return a map of Haralick features (one feature vector per pixel)\"\"\"\n",
    "    rows, cols = img.shape\n",
    "    margin = win + max(d)\n",
    "    arr = np.pad(img, margin, mode='reflect')\n",
    "    n_features = len(d) * len(theta) * len(props)\n",
    "    feature_map = np.zeros(shape=(rows, cols, n_features), dtype=np.float64)\n",
    "    for m in range(rows):\n",
    "        \n",
    "        for n in range(cols):\n",
    "            coocs = cooc_maps(arr, (m + margin, n + margin), win, d, theta, levels)\n",
    "            glcms = compute_glcms(coocs, levels)\n",
    "            feature_map[m, n, :] = compute_props(glcms, props)\n",
    "    return feature_map"
   ]
  },
  {
   "cell_type": "code",
   "execution_count": 373,
   "metadata": {},
   "outputs": [
    {
     "data": {
      "text/plain": [
       "['IMG-0002-00020_t2spir_dicom_anon_grey_levels.npy',\n",
       " 'IMG-0002-00021_t2spir_dicom_anon_grey_levels.npy',\n",
       " 'IMG-0002-00022_t2spir_dicom_anon_grey_levels.npy',\n",
       " 'IMG-0002-00023_t2spir_dicom_anon_grey_levels.npy',\n",
       " 'IMG-0002-00024_t2spir_dicom_anon_grey_levels.npy',\n",
       " 'IMG-0002-00025_t2spir_dicom_anon_grey_levels.npy',\n",
       " 'IMG-0002-00026_t2spir_dicom_anon_grey_levels.npy']"
      ]
     },
     "execution_count": 373,
     "metadata": {},
     "output_type": "execute_result"
    }
   ],
   "source": [
    "file_list=os.listdir()\n",
    "file_list[19:26]"
   ]
  },
  {
   "cell_type": "code",
   "execution_count": 393,
   "metadata": {},
   "outputs": [
    {
     "data": {
      "text/plain": [
       "<matplotlib.image.AxesImage at 0x2b28c54c668>"
      ]
     },
     "execution_count": 393,
     "metadata": {},
     "output_type": "execute_result"
    },
    {
     "data": {
      "image/png": "[encoded data removed]",
      "text/plain": [
       "<Figure size 432x288 with 1 Axes>"
      ]
     },
     "metadata": {
      "needs_background": "light"
     },
     "output_type": "display_data"
    }
   ],
   "source": [
    "trl_go=np.load(file_iter_list[10])\n",
    "plt.imshow(trl_go[:,:,7])"
   ]
  },
  {
   "cell_type": "code",
   "execution_count": 399,
   "metadata": {},
   "outputs": [
    {
     "data": {
      "text/plain": [
       "['IMG-0002-00020_t2spir_dicom_anon_grey_levels.npy',\n",
       " 'IMG-0002-00021_t2spir_dicom_anon_grey_levels.npy',\n",
       " 'IMG-0002-00022_t2spir_dicom_anon_grey_levels.npy',\n",
       " 'IMG-0002-00023_t2spir_dicom_anon_grey_levels.npy',\n",
       " 'IMG-0002-00024_t2spir_dicom_anon_grey_levels.npy',\n",
       " 'IMG-0002-00025_t2spir_dicom_anon_grey_levels.npy',\n",
       " 'IMG-0002-00026_t2spir_dicom_anon_grey_levels.npy',\n",
       " 'IMG-0004-00019_t1dual_outphase_dicom_anon_grey_levels.npy',\n",
       " 'IMG-0004-00020_t1dual_inphase_dicom_anon_grey_levels.npy',\n",
       " 'IMG-0004-00021_t1dual_outphase_dicom_anon_grey_levels.npy',\n",
       " 'IMG-0004-00022_t1dual_inphase_dicom_anon_grey_levels.npy',\n",
       " 'IMG-0004-00023_t1dual_outphase_dicom_anon_grey_levels.npy',\n",
       " 'IMG-0004-00024_t1dual_inphase_dicom_anon_grey_levels.npy',\n",
       " 'IMG-0004-00025_t1dual_outphase_dicom_anon_grey_levels.npy',\n",
       " 'IMG-0004-00026_t1dual_inphase_dicom_anon_grey_levels.npy',\n",
       " 'IMG-0004-00027_t1dual_outphase_dicom_anon_grey_levels.npy',\n",
       " 'IMG-0004-00028_t1dual_inphase_dicom_anon_grey_levels.npy',\n",
       " 'IMG-0004-00029_t1dual_outphase_dicom_anon_grey_levels.npy',\n",
       " 'IMG-0004-00030_t1dual_inphase_dicom_anon_grey_levels.npy',\n",
       " 'IMG-0004-00031_t1dual_outphase_dicom_anon_grey_levels.npy',\n",
       " 'IMG-0004-00032_t1dual_inphase_dicom_anon_grey_levels.npy',\n",
       " 'IMG-0004-00033_t1dual_outphase_dicom_anon_grey_levels.npy',\n",
       " 'IMG-0004-00034_t1dual_inphase_dicom_anon_grey_levels.npy']"
      ]
     },
     "execution_count": 399,
     "metadata": {},
     "output_type": "execute_result"
    }
   ],
   "source": [
    "file_iter_list=file_list[19:26]+file_list[54:70]\n",
    "file_iter_list"
   ]
  },
  {
   "cell_type": "code",
   "execution_count": 9,
   "metadata": {},
   "outputs": [],
   "source": [
    "trl_str='F:\\Biomedical images\\Train\\MR'\n",
    "idx_1=trl_str.rfind('MR')\n",
    "trl_s2=trl_str[:idx_1]\n",
    "dst_path=os.path.join(trl_s2,'MR\\1')"
   ]
  },
  {
   "cell_type": "code",
   "execution_count": 10,
   "metadata": {},
   "outputs": [
    {
     "ename": "OSError",
     "evalue": "[WinError 123] The filename, directory name, or volume label syntax is incorrect: 'F:\\\\Biomedical images\\\\Train\\\\MR\\x01'",
     "output_type": "error",
     "traceback": [
      "\u001b[1;31m---------------------------------------------------------------------------\u001b[0m",
      "\u001b[1;31mOSError\u001b[0m                                   Traceback (most recent call last)",
      "\u001b[1;32m<ipython-input-10-bac4b6cf5d2e>\u001b[0m in \u001b[0;36m<module>\u001b[1;34m\u001b[0m\n\u001b[1;32m----> 1\u001b[1;33m \u001b[0mos\u001b[0m\u001b[1;33m.\u001b[0m\u001b[0mchdir\u001b[0m\u001b[1;33m(\u001b[0m\u001b[0mdst_path\u001b[0m\u001b[1;33m)\u001b[0m\u001b[1;33m\u001b[0m\u001b[1;33m\u001b[0m\u001b[0m\n\u001b[0m",
      "\u001b[1;31mOSError\u001b[0m: [WinError 123] The filename, directory name, or volume label syntax is incorrect: 'F:\\\\Biomedical images\\\\Train\\\\MR\\x01'"
     ]
    }
   ],
   "source": [
    "os.chdir(dst_path)"
   ]
  },
  {
   "cell_type": "code",
   "execution_count": 5,
   "metadata": {},
   "outputs": [],
   "source": [
    "import os"
   ]
  },
  {
   "cell_type": "code",
   "execution_count": null,
   "metadata": {},
   "outputs": [],
   "source": [
    "d = (1,2,3) \n",
    "theta = (0, np.pi/4, np.pi/2, 3*np.pi/4)\n",
    "props = ('contrast', 'homogeneity','dissimilarity','energy','correlation','ASM')\n",
    "levels = 16\n",
    "windows = (11,9,7,5,3)#5,3\n",
    "\n",
    "#for file_type,file_list in file_dict.items():\n",
    "    \n",
    "    #if file_type.find('dicom')!=-1:\n",
    "file_type='t2spir'        \n",
    "\n",
    "#midl_idx=round(len(file_list)/2)\n",
    "#Iterate through middle files for generating text file for analysis\n",
    "for file in file_iter_list:\n",
    "    \n",
    "    tmp_file=np.load(file)\n",
    "    \n",
    "    file_name_ext=os.path.splitext(file)[0]\n",
    "    print('File processing wip',file_name_ext)\n",
    "    for win in windows:\n",
    "\n",
    "        tmp_img = tmp_file[:,:,0]#tmp_img_256#imageio.imread(file)\n",
    "\n",
    "        trl_img_stack=haralick_features(tmp_img, win, d, theta, levels, props)\n",
    "\n",
    "        #file_name='text_img_win_pat_id_1_'+str(win)+'_'+file_type+'_'+os.path.splitext(os.path.basename(file))[0]\n",
    "        file_name='text_img_pat_id_1_win_'+str(win)+'_16lvl_'+file_name_ext\n",
    "        np.save(file_name,trl_img_stack,allow_pickle=True)\n",
    "                "
   ]
  },
  {
   "cell_type": "code",
   "execution_count": 334,
   "metadata": {},
   "outputs": [],
   "source": [
    "np.save('text_img_win_pat_id_1_wind_5_T2SPIR_32lvl_IMG-0002-00019',trl_img_stack,allow_pickle=True)"
   ]
  },
  {
   "cell_type": "code",
   "execution_count": 11,
   "metadata": {},
   "outputs": [],
   "source": []
  },
  {
   "cell_type": "markdown",
   "metadata": {},
   "source": [
    "## Manual organ to organ comparison "
   ]
  },
  {
   "cell_type": "code",
   "execution_count": 780,
   "metadata": {},
   "outputs": [],
   "source": [
    "file_analysis=os.listdir()\n",
    "file_combo_analysis=list(itertools.combinations(file_analysis,2))\n",
    "org_names=['background','liver','l_kidney','r_kidney','spleen']\n",
    "windows=['win_5','win_3']\n",
    "#Org information\n",
    "distances = (1,2,3)\n",
    "theta = (0, np.pi/4, np.pi/2, 3*np.pi/4)\n",
    "props = ('contrast', 'homogeneity','dissimilarity','energy','correlation','ASM')\n",
    "\n",
    "file_info_from_name=[org_names,windows]\n",
    "final_list_data=[]\n",
    "for combinations in file_combo_analysis:\n",
    "    \n",
    "    if combinations[0]==combinations[1]:\n",
    "        analysis_type='inter'\n",
    "    else:\n",
    "        analysis_type='org_to_org_comparison'\n",
    "    \n",
    "    #Getting organ name from file\n",
    "    file_1_info=get_file_info_name(combinations[0],\n",
    "                                   file_info_from_name)\n",
    "    file_2_info=get_file_info_name(combinations[1],\n",
    "                                   file_info_from_name)\n",
    "    if file_2_info[1]==file_1_info[1]:\n",
    "        #ipdb.set_trace()\n",
    "        file_1_arr=np.load(combinations[0])\n",
    "        file_2_arr=np.load(combinations[1])\n",
    "        \n",
    "        #Getting organs and window size \n",
    "        organs=[file_1_info[0],file_2_info[0]]\n",
    "        window=file_1_info[1]\n",
    "        #Generating file information \n",
    "        org_comp_data=analyze_patches(file_1_arr,file_2_arr,\n",
    "                                      distances,theta,props,window,organs)\n",
    "        final_list_data=final_list_data+org_comp_data\n",
    "    "
   ]
  },
  {
   "cell_type": "markdown",
   "metadata": {},
   "source": [
    "\n"
   ]
  },
  {
   "cell_type": "code",
   "execution_count": null,
   "metadata": {},
   "outputs": [],
   "source": [
    "texture_files=[file_name,'pass']#os.listdir()\n",
    "\n",
    "org_names=['background','liver','l_kidney','r_kidney','spleen']\n",
    "file_combo_analysis=list(itertools.combinations(org_names,2))\n",
    "windows=['win_5','win_3']\n",
    "#Org information\n",
    "distances = (1,2,3)\n",
    "theta = (0, np.pi/4, np.pi/2, 3*np.pi/4)\n",
    "props = ('contrast', 'homogeneity','dissimilarity','energy','correlation','ASM')\n",
    "\n",
    "file_info_from_name=[windows]\n",
    "final_list_data=[]\n",
    "for files in texture_files:\n",
    "    ipdb.set_trace()\n",
    "    #Getting organ name from file\n",
    "    file_1_info=get_file_info_name(files,\n",
    "                                   file_info_from_name)\n",
    "    #ipdb.set_trace()\n",
    "    file_1_arr=np.load(files)\n",
    "\n",
    "    window=file_1_info[1]\n",
    "    #Generating file information \n",
    "    org_comp_data=analyze_patches(file_1_arr,file_2_arr,\n",
    "                                  distances,theta,props,window,organs)\n",
    "    final_list_data=final_list_data+org_comp_data\n",
    "    "
   ]
  },
  {
   "cell_type": "code",
   "execution_count": null,
   "metadata": {},
   "outputs": [],
   "source": [
    "final_df_bhattcharya_distance=pd.DataFrame(final_list_data,columns=['organ1','organs2','window',\n",
    "                                                                    'distance','angle','property',\n",
    "                                                                    'Bhattcharyya distance','EMD_distace'])\n",
    "\n",
    "final_df_bhattcharya_distance.sort_values(by=['Bhattcharyya distance'], ascending=False)"
   ]
  },
  {
   "cell_type": "code",
   "execution_count": 800,
   "metadata": {},
   "outputs": [],
   "source": [
    "final_df_bhattcharya_distance['org_to_org'] = final_df_bhattcharya_distance[['organ1','organs2']].apply(lambda x: '_to_'.join(x), axis=1)\n"
   ]
  },
  {
   "cell_type": "code",
   "execution_count": null,
   "metadata": {},
   "outputs": [],
   "source": [
    "cond_threshold=final_df_bhattcharya_distance['Bhattcharyya distance']<0.00001e7\n",
    "final_df_bhattcharya_distance.loc[cond_threshold,\n",
    "                                  'EMD_distace'].hist(bins=20)"
   ]
  },
  {
   "cell_type": "code",
   "execution_count": 895,
   "metadata": {},
   "outputs": [
    {
     "data": {
      "text/html": [
       "<div>\n",
       "<style scoped>\n",
       "    .dataframe tbody tr th:only-of-type {\n",
       "        vertical-align: middle;\n",
       "    }\n",
       "\n",
       "    .dataframe tbody tr th {\n",
       "        vertical-align: top;\n",
       "    }\n",
       "\n",
       "    .dataframe thead th {\n",
       "        text-align: right;\n",
       "    }\n",
       "</style>\n",
       "<table border=\"1\" class=\"dataframe\">\n",
       "  <thead>\n",
       "    <tr style=\"text-align: right;\">\n",
       "      <th></th>\n",
       "      <th>organ1</th>\n",
       "      <th>organs2</th>\n",
       "      <th>window</th>\n",
       "      <th>distance</th>\n",
       "      <th>angle</th>\n",
       "      <th>property</th>\n",
       "      <th>Bhattcharyya distance</th>\n",
       "      <th>EMD_distace</th>\n",
       "      <th>org_to_org</th>\n",
       "    </tr>\n",
       "  </thead>\n",
       "  <tbody>\n",
       "    <tr>\n",
       "      <th>0</th>\n",
       "      <td>spleen</td>\n",
       "      <td>r_kidney</td>\n",
       "      <td>win_5</td>\n",
       "      <td>1</td>\n",
       "      <td>0.0</td>\n",
       "      <td>contrast</td>\n",
       "      <td>1.370832</td>\n",
       "      <td>744.453919</td>\n",
       "      <td>spleen_to_r_kidney</td>\n",
       "    </tr>\n",
       "    <tr>\n",
       "      <th>1</th>\n",
       "      <td>spleen</td>\n",
       "      <td>r_kidney</td>\n",
       "      <td>win_5</td>\n",
       "      <td>1</td>\n",
       "      <td>0.0</td>\n",
       "      <td>homogeneity</td>\n",
       "      <td>8731.626747</td>\n",
       "      <td>0.133443</td>\n",
       "      <td>spleen_to_r_kidney</td>\n",
       "    </tr>\n",
       "    <tr>\n",
       "      <th>2</th>\n",
       "      <td>spleen</td>\n",
       "      <td>r_kidney</td>\n",
       "      <td>win_5</td>\n",
       "      <td>1</td>\n",
       "      <td>0.0</td>\n",
       "      <td>dissimilarity</td>\n",
       "      <td>2.168963</td>\n",
       "      <td>16.625470</td>\n",
       "      <td>spleen_to_r_kidney</td>\n",
       "    </tr>\n",
       "    <tr>\n",
       "      <th>3</th>\n",
       "      <td>spleen</td>\n",
       "      <td>r_kidney</td>\n",
       "      <td>win_5</td>\n",
       "      <td>1</td>\n",
       "      <td>0.0</td>\n",
       "      <td>energy</td>\n",
       "      <td>98.774400</td>\n",
       "      <td>0.006738</td>\n",
       "      <td>spleen_to_r_kidney</td>\n",
       "    </tr>\n",
       "    <tr>\n",
       "      <th>4</th>\n",
       "      <td>spleen</td>\n",
       "      <td>r_kidney</td>\n",
       "      <td>win_5</td>\n",
       "      <td>1</td>\n",
       "      <td>0.0</td>\n",
       "      <td>correlation</td>\n",
       "      <td>45.026608</td>\n",
       "      <td>0.469123</td>\n",
       "      <td>spleen_to_r_kidney</td>\n",
       "    </tr>\n",
       "  </tbody>\n",
       "</table>\n",
       "</div>"
      ],
      "text/plain": [
       "   organ1   organs2 window  distance  angle       property  \\\n",
       "0  spleen  r_kidney  win_5         1    0.0       contrast   \n",
       "1  spleen  r_kidney  win_5         1    0.0    homogeneity   \n",
       "2  spleen  r_kidney  win_5         1    0.0  dissimilarity   \n",
       "3  spleen  r_kidney  win_5         1    0.0         energy   \n",
       "4  spleen  r_kidney  win_5         1    0.0    correlation   \n",
       "\n",
       "   Bhattcharyya distance  EMD_distace          org_to_org  \n",
       "0               1.370832   744.453919  spleen_to_r_kidney  \n",
       "1            8731.626747     0.133443  spleen_to_r_kidney  \n",
       "2               2.168963    16.625470  spleen_to_r_kidney  \n",
       "3              98.774400     0.006738  spleen_to_r_kidney  \n",
       "4              45.026608     0.469123  spleen_to_r_kidney  "
      ]
     },
     "execution_count": 895,
     "metadata": {},
     "output_type": "execute_result"
    }
   ],
   "source": [
    "final_df_bhattcharya_distance.head()"
   ]
  },
  {
   "cell_type": "code",
   "execution_count": 896,
   "metadata": {},
   "outputs": [],
   "source": [
    "cond_1=final_df_bhattcharya_distance['property']!='ASM'\n",
    "cond_2=final_df_bhattcharya_distance['property']!='energy'\n",
    "cond_3=final_df_bhattcharya_distance['property']=='ASM'\n",
    "cond_4=final_df_bhattcharya_distance['property']=='energy'\n",
    "cond_5=final_df_bhattcharya_distance['organ1']!='spleen'\n",
    "\n",
    "final_df_bhattcharya_distance_non_high=final_df_bhattcharya_distance.loc[cond_1&cond_2&cond_5,:]\n",
    "final_df_bhattcharya_distance_asm=final_df_bhattcharya_distance.loc[cond_3,:]\n",
    "final_df_bhattcharya_distance_enrgy=final_df_bhattcharya_distance.loc[cond_4,:]"
   ]
  },
  {
   "cell_type": "code",
   "execution_count": null,
   "metadata": {},
   "outputs": [],
   "source": []
  },
  {
   "cell_type": "code",
   "execution_count": null,
   "metadata": {},
   "outputs": [],
   "source": [
    "plt.figure(figsize=(20,20))\n",
    "final_df_bhattcharya_distance.groupby(['org_to_org','property'])['Bhattcharyya distance'].median().plot.barh()"
   ]
  },
  {
   "cell_type": "markdown",
   "metadata": {},
   "source": [
    "## Manual organ to organ comparison functions"
   ]
  },
  {
   "cell_type": "code",
   "execution_count": 773,
   "metadata": {},
   "outputs": [],
   "source": [
    "def norm_2d_arr(trl_arr):\n",
    "    \"\"\"The purpose of this method is to return a normalised array\"\"\"\n",
    "    row_sums = trl_arr.sum(axis=1)\n",
    "    return trl_arr/row_sums[:, np.newaxis]\n"
   ]
  },
  {
   "cell_type": "code",
   "execution_count": 697,
   "metadata": {},
   "outputs": [],
   "source": [
    "def extract_dim_frame(file_1_arr,file_2_arr):\n",
    "    \"\"\"file array reshaping array for file\"\"\"\n",
    "    #Getting final array for file analysis\n",
    "    file_1_shape=file_1_arr.shape\n",
    "    file_2_shape=file_2_arr.shape\n",
    "    #File dimensions\n",
    "    min_y_dim=min(file_1_shape[0],file_2_shape[0])\n",
    "    min_x_dim=min(file_1_shape[1],file_2_shape[1])\n",
    "    file_1_arr=file_1_arr[:min_y_dim,:min_x_dim,:]\n",
    "    file_2_arr=file_2_arr[:min_y_dim,:min_x_dim,:]\n",
    "    \n",
    "    return (file_1_arr,file_2_arr)"
   ]
  },
  {
   "cell_type": "code",
   "execution_count": 691,
   "metadata": {},
   "outputs": [],
   "source": [
    "def get_file_info_name(file_name,file_info):\n",
    "    \"\"\"The purpose of this method is to extract file information from the file name\"\"\"\n",
    "    return_list=[]\n",
    "    for info in file_info:\n",
    "        \n",
    "        tmp_lst=[x for x in info if x in file_name]\n",
    "        return_list=return_list+tmp_lst\n",
    "        \n",
    "    return return_list"
   ]
  },
  {
   "cell_type": "code",
   "execution_count": 779,
   "metadata": {},
   "outputs": [],
   "source": [
    "def analyze_patches(arr_1,arr_2,distances,theta,props,window,organs):\n",
    "    \"\"\"ANalysing patch for batcharrya distance and wasserstein distance\"\"\"\n",
    "    i=-1\n",
    "    data_bs=[]\n",
    "    for no1,dist in enumerate(distances):\n",
    "\n",
    "        for no2,angle in enumerate(theta):\n",
    "\n",
    "            for no3,properties in enumerate(props):\n",
    "                i+=1\n",
    "                tmp_arr1_norm=arr_1[:,:,i]\n",
    "                tmp_arr2_norm=arr_2[:,:,i]\n",
    "                tmp_bhat_dist=bhatt_dist_approx_arr(tmp_arr1_norm,tmp_arr2_norm)\n",
    "                tmp_emd_dist=Wasserstein_dist(tmp_arr1_norm,tmp_arr2_norm)\n",
    "                #Appending information to new database\n",
    "                file_name=organs+[window,dist,angle,properties,tmp_bhat_dist,tmp_emd_dist]\n",
    "                data_bs.append(file_name)\n",
    "                \n",
    "    return data_bs\n",
    "        "
   ]
  },
  {
   "cell_type": "code",
   "execution_count": 977,
   "metadata": {},
   "outputs": [],
   "source": [
    "def analyze_text_img_region(arr_1,mask,distances,theta,props,window):\n",
    "    \"\"\"ANalysing patch for batcharrya distance and wasserstein distance\"\"\"\n",
    "    i=-1\n",
    "    data_bs=[]\n",
    "    mask_intensities={0:'Background',63:'Liver',126:'r_kidney',189:'l_kidney',252:'spleen'}\n",
    "    for no1,dist in enumerate(distances):\n",
    "\n",
    "        for no2,angle in enumerate(theta):\n",
    "\n",
    "            for no3,properties in enumerate(props):\n",
    "                i+=1\n",
    "                tmp_arr1=arr_1[:,:,i]\n",
    "                #Getting mask information\n",
    "                region_mask_vals=np.unique(mask)\n",
    "                #really ugly dict comprehension\n",
    "                org_in_mask={org_val:org_int_key for org_int_key,org_val in mask_intensities.items() if org_int_key in region_mask_vals}\n",
    "                \n",
    "                #Getting conditional average and variance for bhattacharyya distance\n",
    "                for org_name,int_val in org_in_mask.items():\n",
    "                    cond_avrg=np.average(tmp_arr1,\n",
    "                               weights=(mask==int_val))\n",
    "                    cond_var=np.var(tmp_arr1,\n",
    "                               weights=(mask==int_val))\n",
    "                    org_in_mask[org_name]=[cond_avrg,cond_var]\n",
    "                #Getting organ combinations for bhattdist\n",
    "                org_combos=list(itertools.combinations(list(org_in_mask.keys()),\n",
    "                                                       2)) \n",
    "                \n",
    "                for vals in org_combos:\n",
    "                              \n",
    "                    tmp_bhat_dist=bhatt_dist_approx_stat_summary(org_in_mask[vals[0]],\n",
    "                                                                 org_in_mask[vals[1]])\n",
    "                #tmp_emd_dist=Wasserstein_dist(tmp_arr1_norm,tmp_arr2_norm)\n",
    "                #Appending information to new database\n",
    "                    file_name=organs+[window,dist,angle,properties,tmp_bhat_dist]\n",
    "                    data_bs.append(file_name)\n",
    "                \n",
    "    return data_bs\n",
    "        "
   ]
  },
  {
   "cell_type": "code",
   "execution_count": 6,
   "metadata": {},
   "outputs": [],
   "source": [
    "MR_modes_unique=gnrl_info_spec['MR_modes'].unique()\n",
    "MR_img_types_unique=gnrl_info_spec['Image_type'].unique()\n",
    "Person_id=gnrl_info_spec['Person_id'].unique()\n"
   ]
  },
  {
   "cell_type": "markdown",
   "metadata": {},
   "source": [
    "## Grey level quantization from 256 to 32 bit level"
   ]
  },
  {
   "cell_type": "code",
   "execution_count": 10,
   "metadata": {},
   "outputs": [],
   "source": [
    "def bytescaling(data, cmin=None, cmax=None, high=255, low=0):\n",
    "    \"\"\"\n",
    "    Converting the input image to uint8 dtype and scaling\n",
    "    the range to ``(low, high)`` (default 0-255). If the input image already has \n",
    "    dtype uint8, no scaling is done.\n",
    "    :param data: 16-bit image data array\n",
    "    :param cmin: bias scaling of small values (def: data.min())\n",
    "    :param cmax: bias scaling of large values (def: data.max())\n",
    "    :param high: scale max value to high. (def: 255)\n",
    "    :param low: scale min value to low. (def: 0)\n",
    "    :return: 8-bit image data array\n",
    "    \"\"\"\n",
    "    if data.dtype == np.uint8:\n",
    "        return data\n",
    "\n",
    "    if high > 255:\n",
    "        high = 255\n",
    "    if low < 0:\n",
    "        low = 0\n",
    "    if high < low:\n",
    "        raise ValueError(\"`high` should be greater than or equal to `low`.\")\n",
    "\n",
    "    if cmin is None:\n",
    "        cmin = data.min()\n",
    "    if cmax is None:\n",
    "        cmax = data.max()\n",
    "\n",
    "    cscale = cmax - cmin\n",
    "    if cscale == 0:\n",
    "        cscale = 1\n",
    "\n",
    "    scale = float(high - low) / cscale\n",
    "    bytedata = (data - cmin) * scale + low\n",
    "    return (bytedata.clip(low, high) + 0.5).astype(np.uint8)"
   ]
  },
  {
   "cell_type": "code",
   "execution_count": 255,
   "metadata": {},
   "outputs": [],
   "source": [
    "def quantize_igs(im, levels, qtype='uniform', maxCount=255, displayLevels=None):\n",
    "    \"\"\"\n",
    "    Function to run uniform gray-level and improved gray-scale Quantization.\n",
    "    This takes in an image, and buckets the gray values depending on the params.\n",
    "    Args:\n",
    "        im (array): image to be quantized as an array of values from 0 to 255\n",
    "        levels (int): number of levels to quantize to.\n",
    "            This should be a positive integer, and smaller than the maxCount.\n",
    "        qtype (optional[string]): the type of quantization to perform.\n",
    "            Can be either 'uniform' or 'igs'; Defaults to 'uniform'.\n",
    "        maxCount (optional[int]): the maximum value for a digital count\n",
    "        displayLevels (optional[int]): the number of gray levels to expand to.\n",
    "            By default this value is None and will shrink the range of greys.\n",
    "            This value should be a positive integer when provided.\n",
    "    Return:\n",
    "        the quantized image\n",
    "    \"\"\"\n",
    "    # default value if we need to return early\n",
    "    returnImage = im\n",
    "\n",
    "    # get int type\n",
    "    dtype = im.dtype\n",
    "\n",
    "    if (displayLevels == None):\n",
    "        # by default don't re-expand the image\n",
    "        displayCount = levels\n",
    "    elif displayLevels > 0:\n",
    "        displayCount = displayLevels-1\n",
    "    else:\n",
    "        print(\"displayLevels is an invalid value\")\n",
    "        return returnImage\n",
    "\n",
    "    # we're getting one more level than we should be, so minus 1\n",
    "    if ((levels > 0) and (levels < maxCount)):\n",
    "        levels = levels - 1\n",
    "    else:\n",
    "        print(\"levels needs to be a positive value, and smaller than the maxCount\")\n",
    "        return returnImage\n",
    "\n",
    "    if (qtype == 'uniform'):\n",
    "        # uniform method from lecture\n",
    "        returnImage = np.floor((im/((maxCount+1)/float(levels))))*(displayCount/levels)\n",
    "\n",
    "    elif (qtype == 'igs'):\n",
    "        # error diffusion method from lecture\n",
    "\n",
    "        # default error as 0 for the first pixel\n",
    "        error = 0\n",
    "\n",
    "        # the list of rows that will be turned into an image\n",
    "        returnList = []\n",
    "        for i in range(len(im)):\n",
    "            returnRow = []\n",
    "            for j in range(len(im[i])):\n",
    "                # get a new digital count with the error\n",
    "                errDC = im[i][j] + error\n",
    "                # save the error for the next pixel\n",
    "                error = errDC % (maxCount/levels)\n",
    "\n",
    "                # calculate the new digital count, and append it to the row\n",
    "                newDC = np.floor((errDC)/(maxCount/levels))\n",
    "                returnRow.append(newDC*(displayCount/levels))\n",
    "            # append the row to the final image\n",
    "            returnList.append(np.array(returnRow))\n",
    "\n",
    "        returnImage = np.array(returnList, dtype)\n",
    "\n",
    "    else:\n",
    "        # invalid qtype\n",
    "        print('qtype is an invalid value, please use \"uniform\", or \"igs\"')\n",
    "\n",
    "    print(returnImage)\n",
    "    return np.array(returnImage, dtype)"
   ]
  },
  {
   "cell_type": "code",
   "execution_count": 19,
   "metadata": {},
   "outputs": [],
   "source": [
    "def read_conv_img_uint8(trl_df,vals,img_types):\n",
    "\n",
    "    file_img=trl_df.loc[(trl_df['Slice_id']==vals)&(trl_df['Image_type']==img_types),'File_location']\n",
    "    file_img=file_img.iloc[0]\n",
    "    file_img=imageio.imread(file_img)\n",
    "    trl_img= bytescaling(file_img, cmin=None, cmax=None, high=255, low=0)\n",
    "    \n",
    "    return trl_img"
   ]
  },
  {
   "cell_type": "markdown",
   "metadata": {},
   "source": [
    "## Patch extraction function"
   ]
  },
  {
   "cell_type": "code",
   "execution_count": 3,
   "metadata": {},
   "outputs": [],
   "source": [
    "def find_org_patches(gnrd_img,patch_sizes=[3,5,7,9]):\n",
    "    \n",
    "    \"\"\"The purpose of this method is to find image patches in the image\"\"\"\n",
    "\n",
    "    idx=0\n",
    "    return_dict={}\n",
    "\n",
    "    contours, hierarchy = cv2.findContours(grnd_img,cv2.RETR_LIST,cv2.CHAIN_APPROX_SIMPLE)[-2:]\n",
    "\n",
    "    mask_intensities={0:'Background',63:'Liver',126:'r_kidney',189:'l_kidney',252:'spleen'}\n",
    "\n",
    "    for cnt in contours:\n",
    "        idx += 1\n",
    "        x,y,w,h = cv2.boundingRect(cnt)\n",
    "        cntr_x=round(x+(w/2))\n",
    "        cntr_y=round(y+(h/2))\n",
    "        #print('x centre',cntr_x)\n",
    "        #print('y centre',cntr_y)\n",
    "\n",
    "        for ptch in patch_sizes:\n",
    "            #print('patch size',ptch)\n",
    "            #Going back up for bounding box\n",
    "            x_start=round(cntr_x-ptch/2)\n",
    "            y_start=round(cntr_y-ptch/2)\n",
    "\n",
    "            roi=grnd_img[y_start:y_start+ptch,x_start:x_start+ptch]\n",
    "            org_area=np.unique(roi,return_counts=True)\n",
    "            org_intensity=org_area[0][np.argmax(org_area[1])]\n",
    "            \n",
    "            org_name=mask_intensities[org_intensity]\n",
    "            \n",
    "            if org_name=='Background':\n",
    "                print('Organ area of background',org_area)\n",
    "                \n",
    "                \n",
    "            dict_name=org_name+'_'+str(ptch)\n",
    "            return_dict[dict_name]=[x_start,y_start,ptch,ptch]\n",
    "            #cv2.imwrite(str(idx)+str(ptch) + '.jpg', roi)\n",
    "\n",
    "    return return_dict\n",
    "        "
   ]
  },
  {
   "cell_type": "code",
   "execution_count": 20,
   "metadata": {},
   "outputs": [],
   "source": [
    "def find_patches(file_grnd,real_img,int_vals,patch_sizes=[3,5,7,9]):\n",
    "    \"\"\"The purpose of this method is to find non zero background patches for comparison\"\"\"\n",
    "    \n",
    "    mask_intensities={0:'Background',63:'Liver',126:'r_kidney',189:'l_kidney',252:'spleen'}\n",
    "    dict_return={}\n",
    "    \n",
    "    for patch in patch_sizes:\n",
    "        #Break image into file patches \n",
    "        file_grnd_ptch=image.extract_patches_2d(grnd_img,(patch,patch))\n",
    "        file_real_ptch=image.extract_patches_2d(real_img,(patch,patch))\n",
    "\n",
    "        print(int_vals)\n",
    "        #Select where background is present in mask and where non zero background tissue is present along given axises\n",
    "        bool_grnd=np.all(file_grnd_ptch==int_vals,axis=(1,2))\n",
    "        #If intensity value is background back sure all backgrounds are >0 else \n",
    "        if int_vals==0:\n",
    "            bool_real=np.all(file_real_ptch!=0,axis=(1,2))\n",
    "        else:\n",
    "            bool_real=np.any(file_real_ptch!=0,axis=(1,2))\n",
    "            \n",
    "        bool_grnd=np.where(bool_grnd==False,2,True)\n",
    "        bool_real=np.where(bool_real==False,200,True)\n",
    "        #Getting indexes of where both patch arrays overlap and both conditions in both arrays are correct. \n",
    "        index_select=np.where(bool_grnd==bool_real)\n",
    "        print('matching non zeros to values',index_select[0].shape[0])\n",
    "        \n",
    "        if index_select[0].shape[0]!=0:\n",
    "            \n",
    "            rand_idx=random.sample(range(0,index_select[0].shape[0]),1)\n",
    "\n",
    "            print(index_select[0][rand_idx[0]])\n",
    "            tmp_patch=file_real_ptch[index_select[0][rand_idx[0]],:,:]\n",
    "\n",
    "            dict_return_name=mask_intensities[int_vals]+'_'+str(patch)\n",
    "\n",
    "            dict_return[dict_return_name]=tmp_patch\n",
    "        \n",
    "        else:\n",
    "             print('no overlap only dark patches found index number from random sampler',rand_idx)\n",
    "        \n",
    "    return dict_return\n",
    "         "
   ]
  },
  {
   "cell_type": "markdown",
   "metadata": {},
   "source": [
    "## Extracting patches from image"
   ]
  },
  {
   "cell_type": "code",
   "execution_count": 11,
   "metadata": {},
   "outputs": [],
   "source": [
    "os.chdir(r'C:\\Users\\niall\\OneDrive\\Documents\\Data science masters\\Thesis\\Results\\EDA\\Patch_info\\test_trl')"
   ]
  },
  {
   "cell_type": "code",
   "execution_count": 6,
   "metadata": {},
   "outputs": [
    {
     "data": {
      "text/plain": [
       "[(1, 'T1DUAL'),\n",
       " (1, 'T2SPIR'),\n",
       " (22, 'T1DUAL'),\n",
       " (22, 'T2SPIR'),\n",
       " (36, 'T1DUAL'),\n",
       " (36, 'T2SPIR')]"
      ]
     },
     "execution_count": 6,
     "metadata": {},
     "output_type": "execute_result"
    }
   ],
   "source": [
    "import itertools\n",
    "\n",
    "combos=[['T1DUAL','T2SPIR'],[1,22,36]]\n",
    "\n",
    "combo_list=list(itertools.product(combos[1],combos[0]))\n",
    "combo_list"
   ]
  },
  {
   "cell_type": "code",
   "execution_count": null,
   "metadata": {},
   "outputs": [],
   "source": [
    "\n",
    "for combinations in combo_list:\n",
    "    \n",
    "    trl_df=gnrl_info_spec[(gnrl_info_spec['Person_id']==combinations[0])&(gnrl_info_spec['MR_modes']==combinations[1])] #'T2SPIR' 'T1DUAL'next\n",
    "    Person_id=str(combinations[0])\n",
    "\n",
    "    Slice_no=trl_df['Slice_id'].unique()\n",
    "\n",
    "    Image_type=[['T1Dual_InPhase','T1Dual_OutPhase'],['T2SPIR_data']]\n",
    "    \n",
    "    if combinations[1]=='T2SPIR':\n",
    "        Image_type=Image_type[1]\n",
    "    else:\n",
    "        Image_type=Image_type[0]\n",
    "    \n",
    "    #Iterating through slices \n",
    "    for vals in Slice_no:\n",
    "\n",
    "        file_grnd=trl_df.loc[(trl_df['Slice_id']==vals)&(trl_df['Image_type']=='Ground'),'File_location']\n",
    "        file_grnd=file_grnd.iloc[0]\n",
    "        print(file_grnd)\n",
    "        grnd_img=imageio.imread(file_grnd)\n",
    "        unique_ints=list(np.unique(grnd_img))\n",
    "        unique_ints=[x for x in unique_ints if x!=0]\n",
    "\n",
    "\n",
    "        trl_df_slc_no=trl_df.loc[(trl_df['Slice_id']==vals),:]\n",
    "        #Iterating through slice types\n",
    "        for img_types in Image_type:\n",
    "\n",
    "            trl_img=read_conv_img_uint8(trl_df,vals,img_types)\n",
    "            for orgs in unique_ints:\n",
    "                print('organ intensities:',orgs)\n",
    "                grnd_ptchs=find_patches(grnd_img,trl_img,orgs,patch_sizes=[3,5,7,9])\n",
    "                print(grnd_ptchs)\n",
    "                #Iterating through patch and keys \n",
    "                #reak\n",
    "                for keys,patches in grnd_ptchs.items():\n",
    "\n",
    "                    #x_start,y_start,ptch_x,ptch_y=patches\n",
    "\n",
    "                    file_name='Pers_id_'+Person_id+'slice_no'+'_'+str(vals)+'_'+img_types+'_'+keys+'.jpeg'\n",
    "\n",
    "                    tmp_patch=patches#trl_img[x_start:x_start+ptch_x,y_start:y_start+ptch+y]\n",
    "                    #print(np.unique(tmp_patch,return_counts=True))\n",
    "                    imageio.imwrite(file_name,tmp_patch)\n",
    "                    \n",
    "        \n",
    "        "
   ]
  },
  {
   "cell_type": "markdown",
   "metadata": {},
   "source": [
    "### Extracting background patches for analysis"
   ]
  },
  {
   "cell_type": "code",
   "execution_count": null,
   "metadata": {},
   "outputs": [],
   "source": [
    "trl_df=gnrl_info_spec[(gnrl_info_spec['Person_id']==3)&(gnrl_info_spec['MR_modes']=='T2SPIR')] #'T2SPIR' next\n",
    "Person_id=str(3)\n",
    "\n",
    "\n",
    "Slice_no=trl_df['Slice_id'].unique()\n",
    "\n",
    "Image_type=['T2SPIR_data'] #,'T1Dual_InPhase','T1Dual_OutPhase'\n",
    "#Iterating through slices \n",
    "for vals in Slice_no:\n",
    "    \n",
    "    file_grnd=trl_df.loc[(trl_df['Slice_id']==vals)&(trl_df['Image_type']=='Ground'),'File_location']\n",
    "    file_grnd=file_grnd.iloc[0]\n",
    "    grnd_img=imageio.imread(file_grnd)\n",
    "        #Getting ground patches from mask\n",
    "    #grnd_ptchs=find_org_patches(grnd_img,patch_sizes=[3,5,7,9])\n",
    "    \n",
    "    \n",
    "    \n",
    "    trl_df_slc_no=trl_df.loc[(trl_df['Slice_id']==vals),:]\n",
    "    #Iterating through slice types\n",
    "    for img_types in Image_type:\n",
    "        \n",
    "        trl_img=read_conv_img_uint8(trl_df,vals,img_types)\n",
    "        \n",
    "        for keys,patches in grnd_ptchs.items():\n",
    "\n",
    "            x_start,y_start,ptch_x,ptch_y=patches\n",
    "            \n",
    "            file_name='Pers_id_'+Person_id+'slice_no'+'_'+str(vals)+'_'+img_types+'_'+keys+'.jpeg'\n",
    "            \n",
    "            tmp_patch=trl_img[x_start:x_start+ptch_x,y_start:y_start+ptch+y]\n",
    "            print(np.unique(tmp_patch,return_counts=True))\n",
    "            imageio.imwrite(file_name,tmp_patch)\n",
    "        \n",
    "        \n",
    "        "
   ]
  },
  {
   "cell_type": "markdown",
   "metadata": {},
   "source": [
    "## Generate GCLM information. "
   ]
  },
  {
   "cell_type": "code",
   "execution_count": 329,
   "metadata": {},
   "outputs": [],
   "source": [
    "def gen_gclm(pat,**grey_co_mat_cmds):\n",
    "    \"\"\"The purpose of this method is to perform gclm analysis on patches\"\"\"\n",
    "                    #Get cooccurence matrix for results. #\n",
    "    #print(pat.shape)\n",
    "    tmp_gclm_info=greycomatrix(pat,grey_co_mat_cmds['offset'],\n",
    "                               grey_co_mat_cmds['angles'],grey_co_mat_cmds['levels'],\n",
    "                               symmetric=grey_co_mat_cmds['symmetric'],normed=grey_co_mat_cmds['normalised'])\n",
    "    \n",
    "    return tmp_gclm_info"
   ]
  },
  {
   "cell_type": "code",
   "execution_count": 330,
   "metadata": {},
   "outputs": [],
   "source": [
    "def gen_gclm_stats(tmp_gclm_info,avrg_angle_vals=False):\n",
    "    \"\"\"The purpose of this method is to generate gcml within given set of parameters and copr\"\"\"\n",
    "\n",
    "    #print('gclm shape',tmp_gclm_info.shape)\n",
    "    #Averaging values across different radian angle values if averaging across angles for optimum performance. \n",
    "    if avrg_angle_vals==True:\n",
    "        tmp_gclm_info=tmp_gclm_info.mean(axis=3,keepdims=True)\n",
    "    #print('gclm shape post meanequalisation',tmp_gclm_info.shape)\n",
    "    tmp_gclm_stats=np.array([greycoprops(tmp_gclm_info,\"contrast\"),\n",
    "                           greycoprops(tmp_gclm_info,'dissimilarity'),\n",
    "                           greycoprops(tmp_gclm_info,'homogeneity'),\n",
    "                           greycoprops(tmp_gclm_info,'energy'),\n",
    "                           greycoprops(tmp_gclm_info,'correlation'),\n",
    "                           greycoprops(tmp_gclm_info,'ASM')])\n",
    "    tmp_gclm_stats=tmp_gclm_stats.flatten('F')\n",
    "    #print('tmp_gclm_stats shape: ',tmp_gclm_stats.shape)\n",
    "    tmp_gclm_stats=tmp_gclm_stats.reshape((1,tmp_gclm_stats.shape[0]))\n",
    "    return tmp_gclm_stats.tolist()\n",
    "    "
   ]
  },
  {
   "cell_type": "markdown",
   "metadata": {},
   "source": [
    "## Get file information from file name . "
   ]
  },
  {
   "cell_type": "code",
   "execution_count": 23,
   "metadata": {},
   "outputs": [],
   "source": [
    "def get_file_info(file_name,str_set):\n",
    "    \"\"\"The purpose of this method is to extract details from numpy array details\"\"\"\n",
    "    #Patient specific information retrieved from file string\n",
    "    #Iterate through string set for information. \n",
    "    ret_list=[]\n",
    "    \n",
    "    file_name=os.path.splitext(file_name)[0]\n",
    "    \n",
    "    for str_idx in range(0,len(str_set)-1):\n",
    "        id_one=re.search(str_set[str_idx],file_name)\n",
    "        id_two=re.search(str_set[str_idx+1],file_name)\n",
    "        \n",
    "        file_info=file_name[id_one.end():id_two.start()]\n",
    "        \n",
    "        ret_list.append(file_info)\n",
    "   \n",
    "    return ret_list\n",
    "\n",
    "def get_agg_info(file_list):\n",
    "    \"\"\"The purpose of this method is to find the aggregate file information for aggregating data.\"\"\"\n",
    "    empty_file_info=[]\n",
    "\n",
    "    for file in file_list:\n",
    "\n",
    "        tmp_info=get_file_info(file,str_list)\n",
    "\n",
    "        tmp_info=tmp_info[:4]+tmp_info[-2:]\n",
    "        #print(tmp_info)\n",
    "        cntr=1\n",
    "\n",
    "        if len(empty_file_info)==0:\n",
    "            empty_file_info.append(tmp_info)\n",
    "\n",
    "        for vals in empty_file_info:\n",
    "            if tmp_info==vals:\n",
    "                break\n",
    "            else:\n",
    "                cntr+=1\n",
    "\n",
    "\n",
    "        if cntr>len(empty_file_info):\n",
    "            empty_file_info.append(tmp_info)\n",
    "        \n",
    "    return empty_file_info\n"
   ]
  },
  {
   "cell_type": "code",
   "execution_count": null,
   "metadata": {},
   "outputs": [],
   "source": [
    "def get_file_info_name_only(files):\n",
    "    \"\"\"Splitting file name for information\"\"\"\n",
    "    base_name=os.path.splitext(files)[0]\n",
    "    tmp_list=base_name.split('_')\n",
    "    tmp_list=[x for x in tmp_list if x not in Not_req]\n",
    "    tmp_list=[x.strip('slice') for x in tmp_list]\n",
    "    tmp_list=[int(x) if str.isdigit(x)==True else x for x in tmp_list]\n",
    "    \n",
    "    if 'kidney' in tmp_list:\n",
    "        kidney_idx=files.find('kidney')\n",
    "        kidney_name=files[kidney_idx-2:kidney_idx+6]\n",
    "        kidney_loc=tmp_list.index('kidney')\n",
    "        tmp_list[kidney_loc]=kidney_name\n",
    "        \n",
    "    tmp_list=[x for x in tmp_list if x not in Not_req]\n",
    "    \n",
    "    return tmp_list"
   ]
  },
  {
   "cell_type": "markdown",
   "metadata": {},
   "source": [
    "## Distance metrics functions"
   ]
  },
  {
   "cell_type": "markdown",
   "metadata": {},
   "source": [
    "### main function"
   ]
  },
  {
   "cell_type": "code",
   "execution_count": 907,
   "metadata": {},
   "outputs": [],
   "source": [
    "def bhatt_dist_approx_stat_summary(stat_sum_1,stat_sum_2):\n",
    "    \"\"\"The purpose of this method is to find stat sums using summary statsitics. \"\"\"\n",
    "    var_arr_1=stat_sum_1[1]\n",
    "    var_arr_2=stat_sum_2[1]\n",
    "    mean_arr_1=stat_sum_1[0]\n",
    "    mean_arr_2=stat_sum_2[0]\n",
    "    \n",
    "    BD_eqn_pt_1=0.25*math.log(0.25*(((var_arr_1**2)/var_arr_2**2)+((var_arr_2**2)/var_arr_1**2)+2))\n",
    "    \n",
    "    BD_eqn_pt_2=0.25*(((mean_arr_1-mean_arr_2)**2)/((var_arr_1**2)+(var_arr_2**2)))\n",
    "    #\n",
    "    \n",
    "    return BD_eqn_pt_1+BD_eqn_pt_2"
   ]
  },
  {
   "cell_type": "markdown",
   "metadata": {},
   "source": [
    "### Ancilliary functions"
   ]
  },
  {
   "cell_type": "code",
   "execution_count": 772,
   "metadata": {},
   "outputs": [],
   "source": [
    "def bhatt_dist_approx_arr(arr_1,arr_2):\n",
    "    \n",
    "    var_arr_1=np.var(arr_1)\n",
    "    var_arr_2=np.var(arr_2)\n",
    "    mean_arr_1=np.mean(arr_1)\n",
    "    mean_arr_2=np.mean(arr_2)\n",
    "    \n",
    "    BD_eqn_pt_1=0.25*math.log(0.25*(((var_arr_1**2)/var_arr_2**2)+((var_arr_2**2)/var_arr_1**2)+2))\n",
    "    \n",
    "    BD_eqn_pt_2=0.25*(((mean_arr_1-mean_arr_2)**2)/((var_arr_1**2)+(var_arr_2**2)))\n",
    "    #\n",
    "    \n",
    "    return BD_eqn_pt_1+BD_eqn_pt_2"
   ]
  },
  {
   "cell_type": "code",
   "execution_count": 25,
   "metadata": {},
   "outputs": [],
   "source": [
    "def bhattacharyya_distance(repr1, repr2):\n",
    "    \"\"\"Calculates Bhattacharyya distance (https://en.wikipedia.org/wiki/Bhattacharyya_distance).\"\"\"\n",
    "    \n",
    "    sim =-np.log(np.sum(np.sqrt(np.multiply(repr1,repr2)))) \n",
    "    \n",
    "    #-np.log(np.sum(np.sqrt(np.multiply(repr1,repr2))))- np.log(np.sum([np.sqrt(p*q) for (p, q) in zip(repr1, repr2)]))\n",
    "    \n",
    "    assert not np.isnan(sim), 'Error: Similarity is nan.'\n",
    "    if np.isinf(sim):\n",
    "        # the similarity is -inf if no term in the review is in the vocabulary\n",
    "        return 'No match found between histograms'\n",
    "    return sim "
   ]
  },
  {
   "cell_type": "code",
   "execution_count": 278,
   "metadata": {},
   "outputs": [],
   "source": [
    "def mse_mae_arr_based(arr1,arr2):\n",
    "    \"\"\"The purpose of this method is to perform lement wise MAE and MSE analysis on images\"\"\"\n",
    "    \n",
    "    tmp_mse=np.square(np.subtract(arr1,arr2)).mean()\n",
    "    tmp_mae=np.mean(abs(np.subtract(arr1,arr2)))\n",
    "    \n",
    "    return tmp_mse,tmp_mae"
   ]
  },
  {
   "cell_type": "code",
   "execution_count": 269,
   "metadata": {},
   "outputs": [
    {
     "data": {
      "text/plain": [
       "23.75"
      ]
     },
     "execution_count": 269,
     "metadata": {},
     "output_type": "execute_result"
    }
   ],
   "source": [
    "trl_arr_1=np.array([1,23,4,5])\n",
    "trl_arr_2=np.array([11,99,0,0])\n",
    "np.mean(abs(np.subtract(trl_arr_1,trl_arr_2)))"
   ]
  },
  {
   "cell_type": "code",
   "execution_count": null,
   "metadata": {},
   "outputs": [],
   "source": []
  },
  {
   "cell_type": "code",
   "execution_count": 702,
   "metadata": {},
   "outputs": [],
   "source": [
    "def Chi_sqr_distnce(repr1,repr2):\n",
    "    \"\"\"Measuing Chi squared distance between arrays histogramss\"\"\"\n",
    "    elem_wise_return=np.divide(np.square(np.subtract(repr1,repr2)),repr1)\n",
    "    \n",
    "    return np.sum(elem_wise_return)\n",
    "\n",
    "def Manhattan_dist(arr1,arr2):\n",
    "    \"\"\"Measure distance of Manhattan array distance\"\"\"\n",
    "    return distance.cityblock(arr1,arr2)\n",
    "\n",
    "def Wasserstein_dist(arr1,arr2):\n",
    "    from scipy.stats import wasserstein_distance\n",
    "    #Distance metric between vectors \n",
    "    arr1=arr1.flatten()\n",
    "    arr2=arr2.flatten()\n",
    "    return wasserstein_distance(arr1,arr2)"
   ]
  },
  {
   "cell_type": "markdown",
   "metadata": {},
   "source": [
    "## Iterating analysis through patches"
   ]
  },
  {
   "cell_type": "code",
   "execution_count": null,
   "metadata": {},
   "outputs": [],
   "source": [
    "\n",
    "#trl_str=r'C:\\Users\\niall\\OneDrive\\Documents\\Data science masters\\Thesis\\Results\\EDA\\Patch_info\\image patches\\t1dual outphase'\n",
    "#trl_str2=r'C:\\Users\\niall\\OneDrive\\Documents\\Data science masters\\Thesis\\Results\\EDA\\Patch_info\\t1dual inphase'\n",
    "#trl_str3=r'C:\\Users\\niall\\OneDrive\\Documents\\Data science masters\\Thesis\\Results\\EDA\\Patch_info\\image patches\\t2spir patches\n",
    "\n",
    "t1dual_outphase_src='/home/ubuntu/projects/Texture GCLM/image patches/t1dual outphase'\n",
    "t1dual_inphase_src='/home/ubuntu/projects/Texture GCLM/image patches/t1dual inphase'\n",
    "t2spir_src='/home/ubuntu/projects/Texture GCLM/image patches/t2spir patches'\n",
    "\n",
    "\n",
    "os.chdir(t2spir_src)\n",
    "\n",
    "file_list=os.listdir()\n",
    "Not_req=['Pers','id','no','T1Dual','OutPhase','InPhase','T2','','r']\n",
    "Final_list=[]\n",
    "for files in file_list:\n",
    "    \n",
    "    tmp_list=get_file_info_name(files)\n",
    "    print(tmp_list)\n",
    "    \n",
    "    if 'data' in tmp_list:\n",
    "        print('data present')\n",
    "        tmp_list.remove('data')\n",
    "    \n",
    "    if 'T2SPIR' in tmp_list:\n",
    "        tmp_list.remove('T2SPIR')\n",
    "        \n",
    "    file_path=os.path.abspath(files)\n",
    "    tmp_list=tmp_list+[file_path]\n",
    "    Final_list.append(tmp_list)\n",
    "    "
   ]
  },
  {
   "cell_type": "code",
   "execution_count": 249,
   "metadata": {},
   "outputs": [
    {
     "data": {
      "text/plain": [
       "'/home/ubuntu/projects/Texture GCLM/image patches/t2spir patches/Pers_id_1slice_no_36_T2SPIR_data_Liver_3.jpeg'"
      ]
     },
     "execution_count": 249,
     "metadata": {},
     "output_type": "execute_result"
    }
   ],
   "source": [
    "tmp_df=pd.DataFrame(Final_list,columns=['Patient_id','slice_no','Organ_type','Window_size','File_name'])\n",
    "#tmp_df.drop([0],inplace=True)\n",
    "tmp_df.loc[:,'File_name'][0]"
   ]
  },
  {
   "cell_type": "code",
   "execution_count": 15,
   "metadata": {},
   "outputs": [],
   "source": [
    "def bool_df(x, col, op, n):\n",
    "    return op(x[col],n)\n",
    "\n",
    "def df_bool_filter(x, *bool_df):\n",
    "    \"\"\"Function to call multiple booleans together\"\"\"\n",
    "    return x[(np.logical_and(*bool_df))]"
   ]
  },
  {
   "cell_type": "code",
   "execution_count": 161,
   "metadata": {},
   "outputs": [],
   "source": [
    "tmp_df.to_excel('T1dual_inphase_organ_patch_information_15sep19.xlsx')"
   ]
  },
  {
   "cell_type": "markdown",
   "metadata": {},
   "source": [
    "## GCLM patch generation"
   ]
  },
  {
   "cell_type": "code",
   "execution_count": 154,
   "metadata": {},
   "outputs": [],
   "source": [
    "offset=[[0],[1],[2]]\n",
    "unused_angles=[180,225,270,315,360]\n",
    "angles=[0,45,90,135]\n",
    "#Radians values for grey co-occurence matrix. \n",
    "angles_radian=[(angs*np.pi)/180 for angs in angles]\n"
   ]
  },
  {
   "cell_type": "code",
   "execution_count": 155,
   "metadata": {},
   "outputs": [
    {
     "data": {
      "text/html": [
       "<div>\n",
       "<style scoped>\n",
       "    .dataframe tbody tr th:only-of-type {\n",
       "        vertical-align: middle;\n",
       "    }\n",
       "\n",
       "    .dataframe tbody tr th {\n",
       "        vertical-align: top;\n",
       "    }\n",
       "\n",
       "    .dataframe thead th {\n",
       "        text-align: right;\n",
       "    }\n",
       "</style>\n",
       "<table border=\"1\" class=\"dataframe\">\n",
       "  <thead>\n",
       "    <tr style=\"text-align: right;\">\n",
       "      <th></th>\n",
       "      <th>Patient_id</th>\n",
       "      <th>slice_no</th>\n",
       "      <th>Organ_type</th>\n",
       "      <th>Window_size</th>\n",
       "      <th>File_name</th>\n",
       "    </tr>\n",
       "  </thead>\n",
       "  <tbody>\n",
       "    <tr>\n",
       "      <th>0</th>\n",
       "      <td>1</td>\n",
       "      <td>14</td>\n",
       "      <td>background</td>\n",
       "      <td>7</td>\n",
       "      <td>/home/ubuntu/projects/Texture GCLM/image patch...</td>\n",
       "    </tr>\n",
       "    <tr>\n",
       "      <th>1</th>\n",
       "      <td>1</td>\n",
       "      <td>12</td>\n",
       "      <td>Liver</td>\n",
       "      <td>3</td>\n",
       "      <td>/home/ubuntu/projects/Texture GCLM/image patch...</td>\n",
       "    </tr>\n",
       "    <tr>\n",
       "      <th>2</th>\n",
       "      <td>1</td>\n",
       "      <td>23</td>\n",
       "      <td>background</td>\n",
       "      <td>7</td>\n",
       "      <td>/home/ubuntu/projects/Texture GCLM/image patch...</td>\n",
       "    </tr>\n",
       "    <tr>\n",
       "      <th>3</th>\n",
       "      <td>22</td>\n",
       "      <td>16</td>\n",
       "      <td>r_kidney</td>\n",
       "      <td>7</td>\n",
       "      <td>/home/ubuntu/projects/Texture GCLM/image patch...</td>\n",
       "    </tr>\n",
       "    <tr>\n",
       "      <th>4</th>\n",
       "      <td>1</td>\n",
       "      <td>16</td>\n",
       "      <td>r_kidney</td>\n",
       "      <td>3</td>\n",
       "      <td>/home/ubuntu/projects/Texture GCLM/image patch...</td>\n",
       "    </tr>\n",
       "  </tbody>\n",
       "</table>\n",
       "</div>"
      ],
      "text/plain": [
       "   Patient_id  slice_no  Organ_type  Window_size  \\\n",
       "0           1        14  background            7   \n",
       "1           1        12       Liver            3   \n",
       "2           1        23  background            7   \n",
       "3          22        16    r_kidney            7   \n",
       "4           1        16    r_kidney            3   \n",
       "\n",
       "                                           File_name  \n",
       "0  /home/ubuntu/projects/Texture GCLM/image patch...  \n",
       "1  /home/ubuntu/projects/Texture GCLM/image patch...  \n",
       "2  /home/ubuntu/projects/Texture GCLM/image patch...  \n",
       "3  /home/ubuntu/projects/Texture GCLM/image patch...  \n",
       "4  /home/ubuntu/projects/Texture GCLM/image patch...  "
      ]
     },
     "execution_count": 155,
     "metadata": {},
     "output_type": "execute_result"
    }
   ],
   "source": [
    "tmp_df.head()"
   ]
  },
  {
   "cell_type": "code",
   "execution_count": 156,
   "metadata": {},
   "outputs": [],
   "source": [
    "tmp_df_patients=tmp_df['Patient_id'].unique()\n"
   ]
  },
  {
   "cell_type": "code",
   "execution_count": null,
   "metadata": {},
   "outputs": [],
   "source": [
    "analysis_file=[]\n",
    "\n",
    "i_cnt=0\n",
    "for patients in tmp_df_patients:\n",
    "    #getting slice no for analysis\n",
    "    tmp_df_pat=tmp_df.loc[tmp_df['Patient_id']==patients,:]\n",
    "    uniq_slices=tmp_df_pat['slice_no'].unique()\n",
    "    #Iterating through slices for analysis\n",
    "    for slices in uniq_slices:\n",
    "        \n",
    "        tmp_df_slice=tmp_df_pat.loc[(tmp_df['slice_no']==slices),:]\n",
    "        uniq_windows=tmp_df_slice['Window_size'].unique()\n",
    "        #Iterating through windows for analysis\n",
    "        for windows in uniq_windows:\n",
    "            \n",
    "            tmp_df_wind=tmp_df_slice.loc[tmp_df_slice['Window_size']==windows,:]\n",
    "            uniq_orgs=tmp_df_wind['Organ_type'].unique()\n",
    "            #print(tmp_df_wind)\n",
    "            print('counter:',i_cnt)\n",
    "            if uniq_orgs.shape[0]>1:\n",
    "                org_combo=list(itertools.combinations(uniq_orgs, 2))\n",
    "                #print(org_combo)\n",
    "                #Iterating through organ combinations\n",
    "                for combinations in org_combo:\n",
    "                    \n",
    "                    comp_org_1=tmp_df_wind.loc[tmp_df_wind['Organ_type']==combinations[0],'File_name']\n",
    "                    comp_org_2=tmp_df_wind.loc[tmp_df_wind['Organ_type']==combinations[1],'File_name']\n",
    "                    \n",
    "                    comp_org_1_img=imageio.imread(comp_org_1.iloc[0])\n",
    "                    comp_org_2_img=imageio.imread(comp_org_2.iloc[0])\n",
    "                    \n",
    "                    comp_org_1_file_info=get_file_info_name(os.path.basename(comp_org_1.iloc[0]))\n",
    "                    \n",
    "                    comp_org_2_file_info=get_file_info_name(os.path.basename(comp_org_2.iloc[0]))\n",
    "                    #print(comp_org_2_file_info)\n",
    "                    \n",
    "                    #print(comp_org_2_file_info)\n",
    "                    comp_org_1_file_info.append(comp_org_2_file_info[-2])\n",
    "                    #comp_org_1_file_info.remove('data')\n",
    "                    #print(comp_org_1_file_info)\n",
    "                    img_anal_composite=[comp_org_1_img,comp_org_2_img]\n",
    "                    #print(comp_org_1_file_info)\n",
    "                    \n",
    "                    #tmp_gclm \n",
    "                    for angs in angles_radian:\n",
    "\n",
    "                        for OFS in offset:\n",
    "\n",
    "                            grey_co_mat_cmds={'offset':OFS,\n",
    "                                         'angles':[angs],\n",
    "                                         'levels':256,\n",
    "                                         'symmetric':True,\n",
    "                                         'normalised':True}\n",
    "\n",
    "                            #Getting file information on the patch in question\n",
    "                            #Generating file specific informaion\n",
    "                            comp_org_final=comp_org_1_file_info+[angs,OFS[0]]\n",
    "                            tmp_gclm_lst=[]\n",
    "                            for tmp_img in img_anal_composite:\n",
    "                                \n",
    "                                tmp_gclm=gen_gclm(tmp_img,**grey_co_mat_cmds)\n",
    "                                gclm_stat=gen_gclm_stats(tmp_gclm)\n",
    "                                #print('gclm statistics:',gclm_stat[0])\n",
    "                                \n",
    "                                comp_org_final=comp_org_final+gclm_stat[0] \n",
    "                                tmp_gclm_lst.append(tmp_gclm)\n",
    "                            \n",
    "                        \n",
    "                                \n",
    "                            #Perform Bhattcharya distance between arrays\n",
    "                            Bhatt_d=bhattacharyya_distance(tmp_gclm_lst[0],tmp_gclm_lst[1])\n",
    "                            Manhat_d=Manhattan_dist(tmp_gclm_lst[0].flatten(),tmp_gclm_lst[1].flatten())\n",
    "                            EMF_d=Wasserstein_dist(tmp_gclm_lst[0].flatten(),tmp_gclm_lst[1].flatten())\n",
    "                            \n",
    "                            comp_org_final=comp_org_final+[Bhatt_d,Manhat_d,EMF_d]\n",
    "                            #print('Final row data:',comp_org_final)\n",
    "                            \n",
    "                                #Saving information to file\n",
    "                            analysis_file.append(comp_org_final)\n",
    "                            i_cnt+=1\n",
    "                            #np.save(file_path,tmp_gclm)\n",
    "                \n",
    "final_df=pd.DataFrame(analysis_file)\n",
    "    "
   ]
  },
  {
   "cell_type": "code",
   "execution_count": 258,
   "metadata": {},
   "outputs": [],
   "source": [
    "final_df.columns=['Patient_id','Slice_no','org_1','window_size','org_2',\n",
    "                 'angle','offset',\"org_1_contrast\",'org_1_dissimilarity','org_1_homogeneity','org_1_energy',\n",
    "                  'org_1_correlation','org_1_ASM',\"org_2_contrast\",'org_2_dissimilarity','org_2_homogeneity',\n",
    "                  'org_2_energy','org_2_correlation','org_2_ASM','Bhatt_dist','Manhatten-distance','EMF_dist']#,'Img_type'"
   ]
  },
  {
   "cell_type": "code",
   "execution_count": null,
   "metadata": {},
   "outputs": [],
   "source": [
    "final_df.EMF_dist[final_df.EMF_dist!=0].plot.hist()"
   ]
  },
  {
   "cell_type": "code",
   "execution_count": 245,
   "metadata": {},
   "outputs": [
    {
     "data": {
      "text/plain": [
       "1.664517141791765"
      ]
     },
     "execution_count": 245,
     "metadata": {},
     "output_type": "execute_result"
    }
   ],
   "source": [
    "final_df.loc[(final_df['offset']==0)&(final_df['Bhatt_dist']!='No match found between histograms')&(final_df['window_size']==5),'Bhatt_dist'].median()"
   ]
  },
  {
   "cell_type": "code",
   "execution_count": 264,
   "metadata": {},
   "outputs": [],
   "source": [
    "final_df.to_excel('T2spir_Bhatt_n_wasserstein_dist_info_17Sep19.xlsx')"
   ]
  },
  {
   "cell_type": "code",
   "execution_count": 183,
   "metadata": {},
   "outputs": [
    {
     "name": "stderr",
     "output_type": "stream",
     "text": [
      "c:\\users\\niall\\anaconda3\\lib\\site-packages\\ipykernel_launcher.py:16: SettingWithCopyWarning: \n",
      "A value is trying to be set on a copy of a slice from a DataFrame.\n",
      "Try using .loc[row_indexer,col_indexer] = value instead\n",
      "\n",
      "See the caveats in the documentation: http://pandas.pydata.org/pandas-docs/stable/indexing.html#indexing-view-versus-copy\n",
      "  app.launch_new_instance()\n",
      "c:\\users\\niall\\anaconda3\\lib\\site-packages\\ipykernel_launcher.py:17: SettingWithCopyWarning: \n",
      "A value is trying to be set on a copy of a slice from a DataFrame.\n",
      "Try using .loc[row_indexer,col_indexer] = value instead\n",
      "\n",
      "See the caveats in the documentation: http://pandas.pydata.org/pandas-docs/stable/indexing.html#indexing-view-versus-copy\n",
      "c:\\users\\niall\\anaconda3\\lib\\site-packages\\ipykernel_launcher.py:35: RuntimeWarning: invalid value encountered in long_scalars\n",
      "c:\\users\\niall\\anaconda3\\lib\\site-packages\\ipykernel_launcher.py:35: RuntimeWarning: divide by zero encountered in long_scalars\n"
     ]
    }
   ],
   "source": [
    "uniq_org_1=final_df['org_1'].unique()\n",
    "uniq_org_2=final_df['org_2'].unique()\n",
    "uniq_window=final_df['window_size'].unique()\n",
    "uniq_angle=final_df['angle'].unique()\n",
    "uniq_OFS=final_df['offset'].unique()\n",
    "combo_info_org=[uniq_org_1,uniq_org_2,uniq_window,uniq_angle,uniq_OFS]\n",
    "trial_combination=list(itertools.product(*combo_info_org))\n",
    "final_return_list=[]\n",
    "cnt=0\n",
    "for vals in trial_combination:\n",
    "    \n",
    "    tmp_anal_df=final_df.loc[(final_df['org_1']==vals[0])&(final_df['org_2']==vals[1])&(final_df['window_size']==vals[2])&(final_df['angle']==vals[3])&(final_df['offset']==vals[4]),:]\n",
    "    \n",
    "    tmp_df_no_bhatt=tmp_anal_df.loc[tmp_anal_df['Bhatt_dist']=='No match found between histograms',:]\n",
    "    tmp_df_bhatt_dist=tmp_anal_df.loc[tmp_anal_df['Bhatt_dist']!='No match found between histograms',:]\n",
    "    tmp_df_no_bhatt['Bhatt_dist']=tmp_df_no_bhatt['Bhatt_dist'].astype(str)\n",
    "    tmp_df_bhatt_dist['Bhatt_dist']=tmp_df_bhatt_dist['Bhatt_dist'].astype(float)\n",
    "    \n",
    "    if tmp_df_bhatt_dist.empty!=True:\n",
    "        #Getting the descriptive statistics between datasets. \n",
    "        descr_stat_bhatt_dist=tmp_df_bhatt_dist[['Bhatt_dist','Manhatten-distance']].describe()\n",
    "        descr_stat_bhatt_dist_median=tmp_df_bhatt_dist['Bhatt_dist'].median()\n",
    "        \n",
    "        #Getting the final stats from the dataframe and flattening the dataframe for analysis \n",
    "        descr_stat_bhatt_dist.index = descr_stat_bhatt_dist.index + str(1)\n",
    "        df_out = descr_stat_bhatt_dist.stack()\n",
    "        df_out.index = df_out.index.map('{0[1]}_{0[0]}'.format)\n",
    "        required_stats=df_out.to_frame().T.values.tolist()\n",
    "    else:\n",
    "        required_stats=[16*[None]]\n",
    "        descr_stat_bhatt_dist_median=None\n",
    "        \n",
    "    #Non bhattcharya distance information\n",
    "    desc_stat_non_bhatt_dist=tmp_df_no_bhatt['Bhatt_dist'].count()\n",
    "    ratio_bhatt_non_bhatt=tmp_df_bhatt_dist['Bhatt_dist'].count()/desc_stat_non_bhatt_dist\n",
    "    tmp_df_no_bhatt_stat=list(tmp_df_no_bhatt['Manhatten-distance'].describe().T)\n",
    "\n",
    "    tmp_row=list(vals)+required_stats[0]+[descr_stat_bhatt_dist_median,ratio_bhatt_non_bhatt]+tmp_df_no_bhatt_stat\n",
    "    \n",
    "    final_return_list.append(tmp_row)"
   ]
  },
  {
   "cell_type": "code",
   "execution_count": 183,
   "metadata": {},
   "outputs": [],
   "source": [
    "import ipdb"
   ]
  },
  {
   "cell_type": "code",
   "execution_count": 265,
   "metadata": {},
   "outputs": [],
   "source": [
    "uniq_org_1=final_df['org_1'].unique()\n",
    "uniq_org_2=final_df['org_2'].unique()\n",
    "uniq_window=final_df['window_size'].unique()\n",
    "uniq_angle=final_df['angle'].unique()\n",
    "uniq_OFS=final_df['offset'].unique()\n",
    "combo_info_org=[uniq_org_1,uniq_org_2,uniq_window,uniq_angle,uniq_OFS]\n",
    "trial_combination=list(itertools.product(*combo_info_org))\n",
    "final_return_list=[]\n",
    "cnt=0\n",
    "for vals in trial_combination:\n",
    "    \n",
    "    tmp_anal_df=final_df.loc[(final_df['org_1']==vals[0])&(final_df['org_2']==vals[1])&(final_df['window_size']==vals[2])&(final_df['angle']==vals[3])&(final_df['offset']==vals[4]),:]        \n",
    "    #Non bhattcharya distance information\n",
    "    \n",
    "    desc_stat_emd_stat_med=tmp_anal_df['EMF_dist'].median()\n",
    "    tmp_df_emd_stat=list(tmp_anal_df['EMF_dist'].describe().T)\n",
    "    \n",
    "    val_trl=list(vals)\n",
    "    tmp_row=val_trl+[desc_stat_emd_stat_med]+tmp_df_emd_stat\n",
    "    \n",
    "    final_return_list.append(tmp_row)"
   ]
  },
  {
   "cell_type": "code",
   "execution_count": 266,
   "metadata": {},
   "outputs": [],
   "source": [
    "column_names_df=['org1','org2','window','angle','offset','EMD_dist_median','EMD_dist_count',\n",
    "                 'EMD_dist_mean','EMD_dist_std','EMD_dist_min','EMD_dist_25%','EMD_dist_50%',\n",
    "              'EMD_dist_75%','EMD_dist_max']"
   ]
  },
  {
   "cell_type": "code",
   "execution_count": 267,
   "metadata": {},
   "outputs": [
    {
     "data": {
      "text/html": [
       "<div>\n",
       "<style scoped>\n",
       "    .dataframe tbody tr th:only-of-type {\n",
       "        vertical-align: middle;\n",
       "    }\n",
       "\n",
       "    .dataframe tbody tr th {\n",
       "        vertical-align: top;\n",
       "    }\n",
       "\n",
       "    .dataframe thead th {\n",
       "        text-align: right;\n",
       "    }\n",
       "</style>\n",
       "<table border=\"1\" class=\"dataframe\">\n",
       "  <thead>\n",
       "    <tr style=\"text-align: right;\">\n",
       "      <th></th>\n",
       "      <th>org1</th>\n",
       "      <th>org2</th>\n",
       "      <th>window</th>\n",
       "      <th>angle</th>\n",
       "      <th>offset</th>\n",
       "      <th>EMD_dist_median</th>\n",
       "      <th>EMD_dist_count</th>\n",
       "      <th>EMD_dist_mean</th>\n",
       "      <th>EMD_dist_std</th>\n",
       "      <th>EMD_dist_min</th>\n",
       "      <th>EMD_dist_25%</th>\n",
       "      <th>EMD_dist_50%</th>\n",
       "      <th>EMD_dist_75%</th>\n",
       "      <th>EMD_dist_max</th>\n",
       "    </tr>\n",
       "  </thead>\n",
       "  <tbody>\n",
       "    <tr>\n",
       "      <th>0</th>\n",
       "      <td>Liver</td>\n",
       "      <td>background</td>\n",
       "      <td>3</td>\n",
       "      <td>0.000000</td>\n",
       "      <td>0</td>\n",
       "      <td>0.000007</td>\n",
       "      <td>36.0</td>\n",
       "      <td>0.000010</td>\n",
       "      <td>0.000008</td>\n",
       "      <td>0.0</td>\n",
       "      <td>0.000003</td>\n",
       "      <td>0.000007</td>\n",
       "      <td>0.000020</td>\n",
       "      <td>0.000020</td>\n",
       "    </tr>\n",
       "    <tr>\n",
       "      <th>1</th>\n",
       "      <td>Liver</td>\n",
       "      <td>background</td>\n",
       "      <td>3</td>\n",
       "      <td>0.000000</td>\n",
       "      <td>1</td>\n",
       "      <td>0.000008</td>\n",
       "      <td>36.0</td>\n",
       "      <td>0.000011</td>\n",
       "      <td>0.000009</td>\n",
       "      <td>0.0</td>\n",
       "      <td>0.000003</td>\n",
       "      <td>0.000008</td>\n",
       "      <td>0.000020</td>\n",
       "      <td>0.000025</td>\n",
       "    </tr>\n",
       "    <tr>\n",
       "      <th>2</th>\n",
       "      <td>Liver</td>\n",
       "      <td>background</td>\n",
       "      <td>3</td>\n",
       "      <td>0.000000</td>\n",
       "      <td>2</td>\n",
       "      <td>0.000008</td>\n",
       "      <td>36.0</td>\n",
       "      <td>0.000009</td>\n",
       "      <td>0.000009</td>\n",
       "      <td>0.0</td>\n",
       "      <td>0.000000</td>\n",
       "      <td>0.000008</td>\n",
       "      <td>0.000015</td>\n",
       "      <td>0.000025</td>\n",
       "    </tr>\n",
       "    <tr>\n",
       "      <th>3</th>\n",
       "      <td>Liver</td>\n",
       "      <td>background</td>\n",
       "      <td>3</td>\n",
       "      <td>0.785398</td>\n",
       "      <td>0</td>\n",
       "      <td>0.000007</td>\n",
       "      <td>36.0</td>\n",
       "      <td>0.000010</td>\n",
       "      <td>0.000008</td>\n",
       "      <td>0.0</td>\n",
       "      <td>0.000003</td>\n",
       "      <td>0.000007</td>\n",
       "      <td>0.000020</td>\n",
       "      <td>0.000020</td>\n",
       "    </tr>\n",
       "    <tr>\n",
       "      <th>4</th>\n",
       "      <td>Liver</td>\n",
       "      <td>background</td>\n",
       "      <td>3</td>\n",
       "      <td>0.785398</td>\n",
       "      <td>1</td>\n",
       "      <td>0.000008</td>\n",
       "      <td>36.0</td>\n",
       "      <td>0.000009</td>\n",
       "      <td>0.000009</td>\n",
       "      <td>0.0</td>\n",
       "      <td>0.000000</td>\n",
       "      <td>0.000008</td>\n",
       "      <td>0.000015</td>\n",
       "      <td>0.000027</td>\n",
       "    </tr>\n",
       "  </tbody>\n",
       "</table>\n",
       "</div>"
      ],
      "text/plain": [
       "    org1        org2  window     angle  offset  EMD_dist_median  \\\n",
       "0  Liver  background       3  0.000000       0         0.000007   \n",
       "1  Liver  background       3  0.000000       1         0.000008   \n",
       "2  Liver  background       3  0.000000       2         0.000008   \n",
       "3  Liver  background       3  0.785398       0         0.000007   \n",
       "4  Liver  background       3  0.785398       1         0.000008   \n",
       "\n",
       "   EMD_dist_count  EMD_dist_mean  EMD_dist_std  EMD_dist_min  EMD_dist_25%  \\\n",
       "0            36.0       0.000010      0.000008           0.0      0.000003   \n",
       "1            36.0       0.000011      0.000009           0.0      0.000003   \n",
       "2            36.0       0.000009      0.000009           0.0      0.000000   \n",
       "3            36.0       0.000010      0.000008           0.0      0.000003   \n",
       "4            36.0       0.000009      0.000009           0.0      0.000000   \n",
       "\n",
       "   EMD_dist_50%  EMD_dist_75%  EMD_dist_max  \n",
       "0      0.000007      0.000020      0.000020  \n",
       "1      0.000008      0.000020      0.000025  \n",
       "2      0.000008      0.000015      0.000025  \n",
       "3      0.000007      0.000020      0.000020  \n",
       "4      0.000008      0.000015      0.000027  "
      ]
     },
     "execution_count": 267,
     "metadata": {},
     "output_type": "execute_result"
    }
   ],
   "source": [
    "final_df_result=pd.DataFrame(final_return_list,columns=column_names_df)\n",
    "final_df_result.head()"
   ]
  },
  {
   "cell_type": "code",
   "execution_count": 242,
   "metadata": {},
   "outputs": [],
   "source": [
    "final_df_result.to_excel('T1dual_inphase_EMD_dist_summary_stat_info_17Sep19.xlsx')"
   ]
  },
  {
   "cell_type": "code",
   "execution_count": 14,
   "metadata": {},
   "outputs": [],
   "source": [
    "def squeeze_arr(array):\n",
    "    \"\"\"The purpose of this method is to squeeze GCLM numpy arrays to a single dimensions \"\"\"\n",
    "    anal_arr_sqz=np.squeeze(array,axis=3)\n",
    "    anal_arr_sqz2=np.squeeze(anal_arr_sqz,axis=2)\n",
    "    \n",
    "    return anal_arr_sqz2"
   ]
  },
  {
   "cell_type": "markdown",
   "metadata": {},
   "source": [
    "## Measure Bhattcharrya distance between values"
   ]
  },
  {
   "cell_type": "code",
   "execution_count": 271,
   "metadata": {},
   "outputs": [
    {
     "name": "stdout",
     "output_type": "stream",
     "text": [
      "\u001b[0m\u001b[01;34mexcel_summary_sht\u001b[0m/  T2spir_Bhatt_n_wasserstein_dist_info_17Sep19.xlsx\r\n",
      "\u001b[01;34mt1dual inphase\u001b[0m/     \u001b[01;34mt2spir patches\u001b[0m/\r\n",
      "\u001b[01;34mt1dual outphase\u001b[0m/\r\n"
     ]
    }
   ],
   "source": [
    "ls"
   ]
  },
  {
   "cell_type": "code",
   "execution_count": 8,
   "metadata": {},
   "outputs": [],
   "source": [
    "t1_dual_outphase_summary=pd.read_excel('T1dual_outphase_Bhatt_dist_summary_stat_info_15Sep19.xlsx')\n",
    "t1_dual_inphase_summary=pd.read_excel('T1dual_inphase_Bhatt_dist_summary_stat_info_15Sep19.xlsx')\n",
    "t2spir_summary=pd.read_excel('T2Spir_data_Bhatt_dist_summary_stat_info_15Sep19.xlsx')\n"
   ]
  },
  {
   "cell_type": "code",
   "execution_count": 22,
   "metadata": {},
   "outputs": [
    {
     "data": {
      "text/plain": [
       "Index(['org1', 'org2', 'window', 'angle', 'offset', 'Bhatt_dist_count',\n",
       "       'Manhat_dist_count', 'Bhatt_dist_mean', 'Manhat_dist_mean',\n",
       "       'Bhatt_dist_std', 'Manhat_dist_std', 'Bhatt_dist_min',\n",
       "       'Manhat_dist_min', 'Bhatt_dist_25%', 'Manhat_dist_25%',\n",
       "       'Bhatt_dist_50%', 'Manhat_dist_50%', 'Bhatt_dist_75%',\n",
       "       'Manhat_dist_75%', 'Bhatt_dist_max', 'Manhat_dist_max',\n",
       "       'Bhatt_dist_median', 'Bhatt_to_non_bhatt_dist_Calc',\n",
       "       'Non_bhatt_dist_manhatt_dist_count', 'Non_bhatt_dist_manhatt_dist_mean',\n",
       "       'Non_bhatt_dist_manhatt_dist_std', 'Non_bhatt_dist_manhatt_dist_min',\n",
       "       'Non_bhatt_dist_manhatt_dist_25%', 'Non_bhatt_dist_manhatt_dist_50%',\n",
       "       'Non_bhatt_dist_manhatt_dist_75%', 'Non_bhatt_dist_manhatt_dist_max'],\n",
       "      dtype='object')"
      ]
     },
     "execution_count": 22,
     "metadata": {},
     "output_type": "execute_result"
    }
   ],
   "source": [
    "t1_dual_inphase_summary.columns"
   ]
  },
  {
   "cell_type": "code",
   "execution_count": 72,
   "metadata": {},
   "outputs": [
    {
     "data": {
      "text/plain": [
       "(768, 31)"
      ]
     },
     "execution_count": 72,
     "metadata": {},
     "output_type": "execute_result"
    }
   ],
   "source": [
    "#Importing datasets in for feature set selection\n",
    "t1_dual_outphase_summary.shape"
   ]
  },
  {
   "cell_type": "code",
   "execution_count": null,
   "metadata": {},
   "outputs": [],
   "source": [
    "org1=['background', 'Liver', 'l_kidney', 'r_kidney']\n",
    "org2=['Liver', 'r_kidney', 'l_kidney', 'pleen']\n",
    "\n",
    "window_size=[3,5,7,9]\n",
    "offset=[0,1,2]\n",
    "angle=[0, 0.78539816, 1.57079633, 2.35619449]\n",
    "combo_list=[org1,org2,window_size]#,offset,angle\n",
    "combinations=list(itertools.product(*combo_list))\n",
    "combinations"
   ]
  },
  {
   "cell_type": "code",
   "execution_count": null,
   "metadata": {},
   "outputs": [],
   "source": [
    "\n",
    "\n"
   ]
  },
  {
   "cell_type": "code",
   "execution_count": null,
   "metadata": {},
   "outputs": [],
   "source": [
    "create_sns_heatmaps(t2spir_summary,combinations,\n",
    "                    '/home/ubuntu/projects/Texture GCLM/outputs',\n",
    "                   't2spir_')"
   ]
  },
  {
   "cell_type": "code",
   "execution_count": 13,
   "metadata": {},
   "outputs": [],
   "source": [
    "def create_sns_heatmaps(df_trl,combinations,dst_folder,img_type,tmp_str='Bhatt_dist_median'):\n",
    "    \"\"\"The purpose of this method is to write heatmaps for each combination of images to file\"\"\"\n",
    "    \n",
    "    for vals in combinations:\n",
    "        if vals[0]==vals[1]:\n",
    "            continue\n",
    "        else: \n",
    "            org1_cond=df_trl['org1']==vals[0]\n",
    "            org2_cond=df_trl['org2']==vals[1]\n",
    "            window_cond=df_trl['window']==vals[2]\n",
    "            df_filt=df_trl.loc[(org1_cond)&(org2_cond)&(window_cond)]\n",
    "            #Creating heatmap with annotations\n",
    "            trl_df=df_filt.pivot('angle','offset',tmp_str)\n",
    "            #ipdb.set_trace()\n",
    "            if trl_df.isnull().all().all():\n",
    "                print(tmp_str,vals)\n",
    "                \n",
    "            else:\n",
    "                sns_heatmap=sns.heatmap(trl_df, annot=True)\n",
    "                #Creating file name and writing image to path. \n",
    "                file_name=img_type+str(vals[0])+'_'+str(vals[1])+'_'+str(vals[2])+'.jpg'\n",
    "                print(file_name)\n",
    "                file_dst=os.path.join(dst_folder,file_name)\n",
    "                fig = sns_heatmap.get_figure()\n",
    "                fig.savefig(file_dst)\n",
    "                plt.clf()"
   ]
  },
  {
   "cell_type": "code",
   "execution_count": 209,
   "metadata": {},
   "outputs": [],
   "source": [
    "final_df_result.sort_values('Bhatt_dist_median', \n",
    "                            axis=0, \n",
    "                            ascending=False, \n",
    "                            inplace=True, \n",
    "                            kind='quicksort', na_position='last')\n"
   ]
  },
  {
   "cell_type": "code",
   "execution_count": 211,
   "metadata": {},
   "outputs": [
    {
     "data": {
      "text/html": [
       "<div>\n",
       "<style scoped>\n",
       "    .dataframe tbody tr th:only-of-type {\n",
       "        vertical-align: middle;\n",
       "    }\n",
       "\n",
       "    .dataframe tbody tr th {\n",
       "        vertical-align: top;\n",
       "    }\n",
       "\n",
       "    .dataframe thead th {\n",
       "        text-align: right;\n",
       "    }\n",
       "</style>\n",
       "<table border=\"1\" class=\"dataframe\">\n",
       "  <thead>\n",
       "    <tr style=\"text-align: right;\">\n",
       "      <th></th>\n",
       "      <th>index</th>\n",
       "      <th>org1</th>\n",
       "      <th>org2</th>\n",
       "      <th>window</th>\n",
       "      <th>angle</th>\n",
       "      <th>offset</th>\n",
       "      <th>Bhatt_dist_count</th>\n",
       "      <th>Manhat_dist_count</th>\n",
       "      <th>Bhatt_dist_mean</th>\n",
       "      <th>Manhat_dist_mean</th>\n",
       "      <th>...</th>\n",
       "      <th>Bhatt_dist_median</th>\n",
       "      <th>Bhatt_to_non_bhatt_dist_Calc</th>\n",
       "      <th>Non_bhatt_dist_manhatt_dist_count</th>\n",
       "      <th>Non_bhatt_dist_manhatt_dist_mean</th>\n",
       "      <th>Non_bhatt_dist_manhatt_dist_std</th>\n",
       "      <th>Non_bhatt_dist_manhatt_dist_min</th>\n",
       "      <th>Non_bhatt_dist_manhatt_dist_25%</th>\n",
       "      <th>Non_bhatt_dist_manhatt_dist_50%</th>\n",
       "      <th>Non_bhatt_dist_manhatt_dist_75%</th>\n",
       "      <th>Non_bhatt_dist_manhatt_dist_max</th>\n",
       "    </tr>\n",
       "  </thead>\n",
       "  <tbody>\n",
       "    <tr>\n",
       "      <th>0</th>\n",
       "      <td>89</td>\n",
       "      <td>background</td>\n",
       "      <td>r_kidney</td>\n",
       "      <td>9</td>\n",
       "      <td>0.785398</td>\n",
       "      <td>2</td>\n",
       "      <td>15.0</td>\n",
       "      <td>15.0</td>\n",
       "      <td>3.627398</td>\n",
       "      <td>1.933333</td>\n",
       "      <td>...</td>\n",
       "      <td>4.158883</td>\n",
       "      <td>0.681818</td>\n",
       "      <td>22.0</td>\n",
       "      <td>2.0</td>\n",
       "      <td>0.000000e+00</td>\n",
       "      <td>2.0</td>\n",
       "      <td>2.0</td>\n",
       "      <td>2.0</td>\n",
       "      <td>2.0</td>\n",
       "      <td>2.0</td>\n",
       "    </tr>\n",
       "    <tr>\n",
       "      <th>1</th>\n",
       "      <td>88</td>\n",
       "      <td>background</td>\n",
       "      <td>r_kidney</td>\n",
       "      <td>9</td>\n",
       "      <td>0.785398</td>\n",
       "      <td>1</td>\n",
       "      <td>15.0</td>\n",
       "      <td>15.0</td>\n",
       "      <td>3.627398</td>\n",
       "      <td>1.933333</td>\n",
       "      <td>...</td>\n",
       "      <td>4.158883</td>\n",
       "      <td>0.681818</td>\n",
       "      <td>22.0</td>\n",
       "      <td>2.0</td>\n",
       "      <td>0.000000e+00</td>\n",
       "      <td>2.0</td>\n",
       "      <td>2.0</td>\n",
       "      <td>2.0</td>\n",
       "      <td>2.0</td>\n",
       "      <td>2.0</td>\n",
       "    </tr>\n",
       "    <tr>\n",
       "      <th>2</th>\n",
       "      <td>284</td>\n",
       "      <td>Liver</td>\n",
       "      <td>r_kidney</td>\n",
       "      <td>9</td>\n",
       "      <td>1.570796</td>\n",
       "      <td>2</td>\n",
       "      <td>8.0</td>\n",
       "      <td>8.0</td>\n",
       "      <td>3.585336</td>\n",
       "      <td>1.928571</td>\n",
       "      <td>...</td>\n",
       "      <td>4.143135</td>\n",
       "      <td>0.363636</td>\n",
       "      <td>22.0</td>\n",
       "      <td>2.0</td>\n",
       "      <td>2.517749e-16</td>\n",
       "      <td>2.0</td>\n",
       "      <td>2.0</td>\n",
       "      <td>2.0</td>\n",
       "      <td>2.0</td>\n",
       "      <td>2.0</td>\n",
       "    </tr>\n",
       "    <tr>\n",
       "      <th>3</th>\n",
       "      <td>764</td>\n",
       "      <td>r_kidney</td>\n",
       "      <td>pleen</td>\n",
       "      <td>9</td>\n",
       "      <td>1.570796</td>\n",
       "      <td>2</td>\n",
       "      <td>4.0</td>\n",
       "      <td>4.0</td>\n",
       "      <td>3.733567</td>\n",
       "      <td>1.944444</td>\n",
       "      <td>...</td>\n",
       "      <td>4.143135</td>\n",
       "      <td>0.571429</td>\n",
       "      <td>7.0</td>\n",
       "      <td>2.0</td>\n",
       "      <td>1.281975e-16</td>\n",
       "      <td>2.0</td>\n",
       "      <td>2.0</td>\n",
       "      <td>2.0</td>\n",
       "      <td>2.0</td>\n",
       "      <td>2.0</td>\n",
       "    </tr>\n",
       "    <tr>\n",
       "      <th>4</th>\n",
       "      <td>134</td>\n",
       "      <td>background</td>\n",
       "      <td>l_kidney</td>\n",
       "      <td>9</td>\n",
       "      <td>0.000000</td>\n",
       "      <td>2</td>\n",
       "      <td>20.0</td>\n",
       "      <td>20.0</td>\n",
       "      <td>3.576242</td>\n",
       "      <td>1.930159</td>\n",
       "      <td>...</td>\n",
       "      <td>3.969848</td>\n",
       "      <td>1.111111</td>\n",
       "      <td>18.0</td>\n",
       "      <td>2.0</td>\n",
       "      <td>2.085746e-16</td>\n",
       "      <td>2.0</td>\n",
       "      <td>2.0</td>\n",
       "      <td>2.0</td>\n",
       "      <td>2.0</td>\n",
       "      <td>2.0</td>\n",
       "    </tr>\n",
       "  </tbody>\n",
       "</table>\n",
       "<p>5 rows × 32 columns</p>\n",
       "</div>"
      ],
      "text/plain": [
       "   index        org1      org2  window     angle  offset  Bhatt_dist_count  \\\n",
       "0     89  background  r_kidney       9  0.785398       2              15.0   \n",
       "1     88  background  r_kidney       9  0.785398       1              15.0   \n",
       "2    284       Liver  r_kidney       9  1.570796       2               8.0   \n",
       "3    764    r_kidney     pleen       9  1.570796       2               4.0   \n",
       "4    134  background  l_kidney       9  0.000000       2              20.0   \n",
       "\n",
       "   Manhat_dist_count  Bhatt_dist_mean  Manhat_dist_mean  ...  \\\n",
       "0               15.0         3.627398          1.933333  ...   \n",
       "1               15.0         3.627398          1.933333  ...   \n",
       "2                8.0         3.585336          1.928571  ...   \n",
       "3                4.0         3.733567          1.944444  ...   \n",
       "4               20.0         3.576242          1.930159  ...   \n",
       "\n",
       "   Bhatt_dist_median  Bhatt_to_non_bhatt_dist_Calc  \\\n",
       "0           4.158883                      0.681818   \n",
       "1           4.158883                      0.681818   \n",
       "2           4.143135                      0.363636   \n",
       "3           4.143135                      0.571429   \n",
       "4           3.969848                      1.111111   \n",
       "\n",
       "   Non_bhatt_dist_manhatt_dist_count  Non_bhatt_dist_manhatt_dist_mean  \\\n",
       "0                               22.0                               2.0   \n",
       "1                               22.0                               2.0   \n",
       "2                               22.0                               2.0   \n",
       "3                                7.0                               2.0   \n",
       "4                               18.0                               2.0   \n",
       "\n",
       "   Non_bhatt_dist_manhatt_dist_std  Non_bhatt_dist_manhatt_dist_min  \\\n",
       "0                     0.000000e+00                              2.0   \n",
       "1                     0.000000e+00                              2.0   \n",
       "2                     2.517749e-16                              2.0   \n",
       "3                     1.281975e-16                              2.0   \n",
       "4                     2.085746e-16                              2.0   \n",
       "\n",
       "   Non_bhatt_dist_manhatt_dist_25%  Non_bhatt_dist_manhatt_dist_50%  \\\n",
       "0                              2.0                              2.0   \n",
       "1                              2.0                              2.0   \n",
       "2                              2.0                              2.0   \n",
       "3                              2.0                              2.0   \n",
       "4                              2.0                              2.0   \n",
       "\n",
       "   Non_bhatt_dist_manhatt_dist_75%  Non_bhatt_dist_manhatt_dist_max  \n",
       "0                              2.0                              2.0  \n",
       "1                              2.0                              2.0  \n",
       "2                              2.0                              2.0  \n",
       "3                              2.0                              2.0  \n",
       "4                              2.0                              2.0  \n",
       "\n",
       "[5 rows x 32 columns]"
      ]
     },
     "execution_count": 211,
     "metadata": {},
     "output_type": "execute_result"
    }
   ],
   "source": [
    "final_df_result.columns\n",
    "final_df_result_no_null=final_df_result.dropna()\n",
    "final_df_result_no_null.reset_index(inplace=True)\n",
    "final_df_result_no_null.head()"
   ]
  }
 ],
 "metadata": {
  "kernelspec": {
   "display_name": "Python 3",
   "language": "python",
   "name": "python3"
  },
  "language_info": {
   "codemirror_mode": {
    "name": "ipython",
    "version": 3
   },
   "file_extension": ".py",
   "mimetype": "text/x-python",
   "name": "python",
   "nbconvert_exporter": "python",
   "pygments_lexer": "ipython3",
   "version": "3.7.3"
  },
  "toc": {
   "base_numbering": 1,
   "nav_menu": {},
   "number_sections": true,
   "sideBar": true,
   "skip_h1_title": false,
   "title_cell": "Table of Contents",
   "title_sidebar": "Contents",
   "toc_cell": true,
   "toc_position": {},
   "toc_section_display": true,
   "toc_window_display": false
  }
 },
 "nbformat": 4,
 "nbformat_minor": 2
}
