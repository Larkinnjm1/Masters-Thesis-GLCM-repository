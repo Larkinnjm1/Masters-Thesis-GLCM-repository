{
 "cells": [
  {
   "cell_type": "code",
   "execution_count": 1,
   "metadata": {},
   "outputs": [],
   "source": [
    "import pandas as pd\n",
    "import numpy as np\n",
    "import imageio\n",
    "import os\n",
    "import boto3\n",
    "import botocore"
   ]
  },
  {
   "cell_type": "code",
   "execution_count": 3,
   "metadata": {},
   "outputs": [],
   "source": [
    "s3 = boto3.client('s3')\n",
    "BUCKET_NAME='biomedical-images-train'\n",
    "obj_list=s3.list_objects_v2(Bucket=BUCKET_NAME)"
   ]
  },
  {
   "cell_type": "code",
   "execution_count": 5,
   "metadata": {},
   "outputs": [],
   "source": [
    "img_type=['T1DUAL','T2SPIR']\n",
    "\n",
    "for vals in obj_list['Contents']:\n",
    "    #If patient 1 file found download item for analysis\n",
    "    if vals['Key'].find('/MR/1/')!=-1:\n",
    "        file_info=vals['Key'].split('/')\n",
    "        file_info='-'.join(file_info[2:])\n",
    "        \n",
    "        if vals['Key'].find('Ground')!=-1:\n",
    "            \n",
    "        \n",
    "            try:\n",
    "        # download as local file\n",
    "                s3.download_file(BUCKET_NAME, vals['Key'], file_info)\n",
    "        # OR read directly to memory as bytes:\n",
    "        # bytes = s3.Object(BUCKET_NAME, KEY).get()['Body'].read() \n",
    "            except botocore.exceptions.ClientError as e:\n",
    "\n",
    "                if e.response['Error']['Code'] == \"404\":\n",
    "                    print(\"The object does not exist.\")\n",
    "                else:\n",
    "                    raise"
   ]
  },
  {
   "cell_type": "code",
   "execution_count": 11,
   "metadata": {},
   "outputs": [],
   "source": [
    "mv 1-T2SPIR-Ground*.png T2SPIR-GROUND/"
   ]
  },
  {
   "cell_type": "code",
   "execution_count": 13,
   "metadata": {},
   "outputs": [
    {
     "name": "stdout",
     "output_type": "stream",
     "text": [
      "Download_files_boto3.ipynb  LICENSE    \u001b[0m\u001b[01;34mT1DUAL-GROUND\u001b[0m/\r\n",
      "\u001b[01;34mjupyter_notebooks\u001b[0m/          README.md  \u001b[01;34mT2SPIR-GROUND\u001b[0m/\r\n"
     ]
    }
   ],
   "source": [
    "ls"
   ]
  },
  {
   "cell_type": "code",
   "execution_count": null,
   "metadata": {},
   "outputs": [],
   "source": []
  }
 ],
 "metadata": {
  "kernelspec": {
   "display_name": "conda_python3",
   "language": "python",
   "name": "conda_python3"
  },
  "language_info": {
   "codemirror_mode": {
    "name": "ipython",
    "version": 3
   },
   "file_extension": ".py",
   "mimetype": "text/x-python",
   "name": "python",
   "nbconvert_exporter": "python",
   "pygments_lexer": "ipython3",
   "version": "3.6.5"
  }
 },
 "nbformat": 4,
 "nbformat_minor": 2
}
